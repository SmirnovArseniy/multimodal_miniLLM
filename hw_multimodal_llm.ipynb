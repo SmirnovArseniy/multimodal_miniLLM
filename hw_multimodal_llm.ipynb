{
 "cells": [
  {
   "cell_type": "markdown",
   "id": "haVi4LRl25tq",
   "metadata": {
    "id": "haVi4LRl25tq"
   },
   "source": [
    "# Задача\n",
    "\n",
    "Нужно обучить LLM понимать модальность аудио.\n",
    "\n",
    "Нужно реализовать архитектуру аналогичную LLaVA ([github](https://github.com/haotian-liu/LLaVA), [paper](https://arxiv.org/abs/2304.08485))\n",
    "но для аудио.\n",
    "\n",
    "Нужно обучить адаптер аудио для LLM по аналогии с LLava\n",
    "\n",
    "В качестве LLM будем использовать [TinyLlama](https://github.com/jzhang38/TinyLlama).\n",
    "\n",
    "В качестве CLIP-like энкодера аудио -- ImageBind ([github](https://github.com/facebookresearch/ImageBind), [paper](https://arxiv.org/abs/2305.05665))"
   ]
  },
  {
   "cell_type": "markdown",
   "id": "x-68zOjO29c9",
   "metadata": {
    "id": "x-68zOjO29c9"
   },
   "source": [
    "# Данные\n",
    "\n",
    "Для обучения возьмем задачу описания аудио (audio captioning) на датасете [`Clotho`](https://zenodo.org/records/3490684)\n"
   ]
  },
  {
   "cell_type": "markdown",
   "id": "2YAJ95Mo5cEH",
   "metadata": {
    "id": "2YAJ95Mo5cEH"
   },
   "source": [
    "\n",
    "# Модели\n",
    "\n"
   ]
  },
  {
   "cell_type": "markdown",
   "id": "cK46Lytc5dzS",
   "metadata": {
    "id": "cK46Lytc5dzS"
   },
   "source": [
    "## Вкратце про ImageBind\n",
    "\n",
    "[Github](https://github.com/facebookresearch/ImageBind)\n",
    "\n",
    "Это CLIP-like экнодер для 5 модальностей.\n",
    "\n",
    "Идея и метод обучения точно такой же как у CLIP. Из нового -- это больше данных разных модальностей. Крутость модельки в том, что через модальность изображений, получилось обучить совместные эмбэддинги для всех модальностей. То есть можно сделать zero-shot классификатор для Audio, хотя модальность текста и аудио ни разу во время обучения не взаимодействовали - все обучалось через изображения (то есть изображение-аудио / изображение-текст).\n",
    "\n",
    "Мы будем использовать только энкодер для аудио. И воспользуемся свойствами этих эмбэддингов -- в векторном представлении аудио должна быть информация о семантике аудио\n"
   ]
  },
  {
   "cell_type": "markdown",
   "id": "Gq9bAkz-5dwu",
   "metadata": {
    "id": "Gq9bAkz-5dwu"
   },
   "source": [
    "## Вкратце про LLaVA\n",
    "\n",
    "За мостик между эмбэддингами `LLM` и модальностью изображений отвечает предобученный `CLIP`. Через `CLIP` получаем совместные векторные представления для картинок (используем именно `pooled` `CLIP` эмбэддинги). Каждой картинки соответствует один вектор. Не забываем нормализовать эти векторные предславления. Чтобы перевести этот эмбэддинг в пространство эмбэддингов `LLM` используем просто линейное преобразование. Это линейное преобразование переводит `CLIP` эмбэддинг в `N` эмбэддингов `LLM`.\n",
    "\n",
    "```python\n",
    "image_embeddings = clip_model.encode_image( images ) # [ bs, 1, clip_hidden_dim ]\n",
    "image_embeddings = F.normalize(image_embeddings)\n",
    "\n",
    "llm_embeddings = adapter.projection( image_embeddings ) # [ bs, adapter.projection_llm_tokens, llm_hidden_dim ]\n",
    "\n",
    "# далее используем llm_embeddings как эмбэддинги картинки/аудио для задачи `CausalLM`\n",
    "```\n",
    "\n",
    "Эмбэддинги новой модальности дополнительно заворачиваются в специальные токены. Потом обычно идут текстовые эмбэддинги:\n",
    "\n",
    "```\n",
    "<audio_start> *audio_token_1*, *audio_token_2*, ..., *audio_token_N* <audio_end> <bos_token> *text_token_1*, ... *text_token_M* <eos_token>\n",
    "```\n",
    "\n",
    "\n",
    "В домашке в некоторых местах по аналогии есть аббревиатура `LLaAA` -- это расшифровывается как Large Language and Audio Assistant. По аналогии с `LLaVA` -- Large Language and Vision Assistant"
   ]
  },
  {
   "cell_type": "markdown",
   "id": "93342800-0d74-4bfe-a0be-b2e7777f1d3f",
   "metadata": {
    "id": "93342800-0d74-4bfe-a0be-b2e7777f1d3f"
   },
   "source": [
    "## Процесс обучения\n",
    "\n",
    "Во время обучения `CLIP` енкодер всегда заморожен.\n",
    "\n",
    "Обучение делится на 2 этапа:\n",
    "\n",
    "1) LLM заморожена. Обучаем только адаптер.\n",
    "\n",
    "2) Одновременно и файнтюним LLM через Peft, и дообучаем адаптер. Код-заготовка есть в шаблоне домашки. Но это не входит в обязательную часть домашки\n",
    "\n",
    "## Обучение проекции\n",
    "\n",
    "Перед обучением адаптера может потребоваться рестарт рантайма колаба, чтобы освободились ресурсы от `ImageBind`, который мы подгружали во время предобработки данных.\n",
    "\n",
    "## Метрики качества\n",
    "\n",
    "Во время обучения метрики качества вычисляются только для небольшого количества семплов из валидационного датасета. Это сделано, чтобы уменьшить длительность валидации."
   ]
  },
  {
   "cell_type": "markdown",
   "id": "PoYhquvt8mV-",
   "metadata": {
    "id": "PoYhquvt8mV-"
   },
   "source": [
    "---"
   ]
  },
  {
   "cell_type": "markdown",
   "id": "Tj-eJx4e8nF7",
   "metadata": {
    "id": "Tj-eJx4e8nF7"
   },
   "source": [
    "# Предобработка данных"
   ]
  },
  {
   "cell_type": "code",
   "execution_count": 7,
   "id": "Lds4J5RcjWuF",
   "metadata": {
    "colab": {
     "base_uri": "https://localhost:8080/"
    },
    "id": "Lds4J5RcjWuF",
    "outputId": "55d88af4-2d6b-4a01-a6a1-fc62586757e0"
   },
   "outputs": [],
   "source": [
    "!pip install -q aac_datasets"
   ]
  },
  {
   "cell_type": "code",
   "execution_count": 9,
   "id": "55cdfc7b-0c88-4d9d-ae12-ccd96b299546",
   "metadata": {
    "id": "55cdfc7b-0c88-4d9d-ae12-ccd96b299546"
   },
   "outputs": [],
   "source": [
    "# загрузим данные\n",
    "# всего тут потребуется ~10GB\n",
    "from aac_datasets import Clotho\n",
    "\n",
    "dataset_prefix = \"./data\"\n",
    "\n",
    "val_dataset = Clotho(root=\"./data\", download=False, subset='val')\n",
    "dataset = Clotho(root=\"./data\", download=False, subset='dev')\n",
    "\n",
    "# val_dataset = Clotho(root=\"./data\", download=True, subset='val')\n",
    "# dataset = Clotho(root=\"./data\", download=True, subset='dev')\n"
   ]
  },
  {
   "cell_type": "code",
   "execution_count": 10,
   "id": "6bb70360-554b-4b33-b94b-0f0277850296",
   "metadata": {
    "colab": {
     "base_uri": "https://localhost:8080/"
    },
    "id": "6bb70360-554b-4b33-b94b-0f0277850296",
    "outputId": "34840e12-d0ae-4ab7-d49a-7a7e5aee73a8"
   },
   "outputs": [
    {
     "data": {
      "text/plain": [
       "Clotho(subset=val, size=1045, num_columns=14, version=v2.1)"
      ]
     },
     "execution_count": 10,
     "metadata": {},
     "output_type": "execute_result"
    }
   ],
   "source": [
    "val_dataset"
   ]
  },
  {
   "cell_type": "code",
   "execution_count": 11,
   "id": "9bd2c6a0-e184-4f25-aab4-789beb82db7b",
   "metadata": {
    "colab": {
     "base_uri": "https://localhost:8080/"
    },
    "id": "9bd2c6a0-e184-4f25-aab4-789beb82db7b",
    "outputId": "5611af58-8e83-4f67-a670-0d4254e9dbe6"
   },
   "outputs": [
    {
     "data": {
      "text/plain": [
       "Clotho(subset=dev, size=3839, num_columns=14, version=v2.1)"
      ]
     },
     "execution_count": 11,
     "metadata": {},
     "output_type": "execute_result"
    }
   ],
   "source": [
    "dataset"
   ]
  },
  {
   "cell_type": "code",
   "execution_count": 23,
   "id": "R50ixcwSBgjd",
   "metadata": {
    "colab": {
     "base_uri": "https://localhost:8080/"
    },
    "id": "R50ixcwSBgjd",
    "outputId": "66e157f4-011d-4465-e366-4eb0a3521a5f"
   },
   "outputs": [],
   "source": [
    "!pip install -q evaluate accelerate rouge_score"
   ]
  },
  {
   "cell_type": "code",
   "execution_count": 24,
   "id": "72f2c2ad-4f35-4139-b8e5-1e9f276b9622",
   "metadata": {
    "colab": {
     "base_uri": "https://localhost:8080/"
    },
    "id": "72f2c2ad-4f35-4139-b8e5-1e9f276b9622",
    "outputId": "2d9aec65-e5e3-48cb-d393-a8d62c684b0a"
   },
   "outputs": [],
   "source": [
    "!pip install -q soundfile sox"
   ]
  },
  {
   "cell_type": "code",
   "execution_count": 8,
   "id": "866c1f87-8e40-4bc5-bc51-52a7f65a803e",
   "metadata": {
    "id": "866c1f87-8e40-4bc5-bc51-52a7f65a803e"
   },
   "outputs": [],
   "source": [
    "!pip install -q git+https://github.com/facebookresearch/ImageBind "
   ]
  },
  {
   "cell_type": "code",
   "execution_count": 22,
   "id": "d3d23911-137a-4f46-b80a-136ab6866f10",
   "metadata": {
    "colab": {
     "base_uri": "https://localhost:8080/"
    },
    "id": "d3d23911-137a-4f46-b80a-136ab6866f10",
    "outputId": "c9e6f520-2e58-4c9b-ddb9-f9d2ab24fbc8"
   },
   "outputs": [],
   "source": [
    "!pip install -q rouge_score evaluate peft==0.5.0"
   ]
  },
  {
   "cell_type": "code",
   "execution_count": 1,
   "id": "e5da0efc-9c61-4967-ae5f-55a0394f2e41",
   "metadata": {
    "id": "e5da0efc-9c61-4967-ae5f-55a0394f2e41"
   },
   "outputs": [],
   "source": [
    "import torch\n",
    "import torch.nn as nn\n",
    "\n",
    "# тк ImagebindAudioEncoder будет использоваться только для\n",
    "# подготовки данных и прямо сейчас не нужен во время обучения\n",
    "# для того, чтобы удовлетворить интерфейсу аудио энкодера соберем\n",
    "# класс-заглушку для аудио энкодера\n",
    "class DummyAudioEncoder(nn.Module):\n",
    "\n",
    "    hidden_size = 1024\n",
    "\n",
    "    def encode_audio(self, audio_melspec_values):\n",
    "        return torch.zeros([audio_melspec_values.shape[0], 1, self.hidden_size], device=audio_melspec_values.device)\n"
   ]
  },
  {
   "cell_type": "code",
   "execution_count": 12,
   "id": "xHksFLkYA2LI",
   "metadata": {
    "id": "xHksFLkYA2LI"
   },
   "outputs": [],
   "source": [
    "# from imagebind.models import imagebind_model\n",
    "# from imagebind.models.imagebind_model import ModalityType\n",
    "\n",
    "class ImagebindAudioEncoder(nn.Module):\n",
    "\n",
    "    hidden_size = 1024\n",
    "\n",
    "    def __init__(self, pretrained=True) -> None:\n",
    "        super().__init__()\n",
    "        self.imagebind = imagebind_model.imagebind_huge(pretrained=pretrained)\n",
    "        return\n",
    "\n",
    "    def encode_audio(self, audio_melspec_values):\n",
    "        inputs = {\n",
    "            ModalityType.AUDIO: audio_melspec_values,\n",
    "        }\n",
    "        return self.imagebind(inputs)[ModalityType.AUDIO]\n",
    "\n"
   ]
  },
  {
   "cell_type": "code",
   "execution_count": 2,
   "id": "09d02187-86c0-434b-9c94-22502b713ef8",
   "metadata": {
    "id": "09d02187-86c0-434b-9c94-22502b713ef8"
   },
   "outputs": [],
   "source": [
    "from typing import Callable\n",
    "import torch\n",
    "from tqdm.auto import tqdm\n",
    "import pathlib\n",
    "\n",
    "\n",
    "import pandas as pd\n",
    "from datasets import Dataset\n",
    "\n",
    "# from imagebind import data as imagebind_data\n",
    "\n",
    "\n",
    "@torch.no_grad()\n",
    "def preprocess_clotho_data(\n",
    "        clotho_base_path: pathlib.Path,\n",
    "        split_name: str,\n",
    "        generate_melspec: Callable,\n",
    "        generate_audio_embeddings: Callable,\n",
    "        preprocessor_suffix=\"\",\n",
    "        device='cpu'\n",
    "        ):\n",
    "\n",
    "    clotho_hf_dataset_base_path = clotho_base_path.joinpath(\"clotho_hf_dataset\") ## what???\n",
    "    clotho_wav_base_path = clotho_base_path.joinpath(f'clotho_audio_files/{split_name}')\n",
    "\n",
    "    if preprocessor_suffix != \"\":\n",
    "        preprocessor_suffix = \"_\" + preprocessor_suffix\n",
    "\n",
    "    clotho_melspec_base_path = clotho_base_path.joinpath(f'clotho_melspec_processed{preprocessor_suffix}/{split_name}')\n",
    "    clotho_melspec_base_path.mkdir(parents=True, exist_ok=True)\n",
    "\n",
    "    clotho_audio_embeds_base_path = clotho_base_path.joinpath(f'clotho_audio_embeds_processed{preprocessor_suffix}/{split_name}')\n",
    "    clotho_audio_embeds_base_path.mkdir(parents=True, exist_ok=True)\n",
    "\n",
    "    # audio captioning\n",
    "    df_clotho = pd.read_csv(clotho_base_path.joinpath(f\"clotho_csv_files/clotho_captions_{split_name}.csv\"))\n",
    "\n",
    "    melspec_processed_items = []\n",
    "\n",
    "    for i, clotho_item in tqdm(df_clotho.iterrows(), total=len(df_clotho), desc=split_name):\n",
    "\n",
    "        melspec_file_name = clotho_item['file_name'].replace(\".wav\", \".pt\")\n",
    "        melspec_full_path = clotho_melspec_base_path.joinpath(melspec_file_name)\n",
    "\n",
    "        # process melspec\n",
    "        full_file_path = clotho_wav_base_path.joinpath(clotho_item['file_name'])\n",
    "        audio_melspec_values = generate_melspec(full_file_path)\n",
    "        torch.save(audio_melspec_values, melspec_full_path)\n",
    "\n",
    "        clotho_item[\"melspec_file_name\"] = melspec_file_name\n",
    "\n",
    "        # process audio embeds\n",
    "        audio_embeds_last_hidden_state_file_name = clotho_item['file_name'].replace(\".wav\", \".pt\")\n",
    "        audio_embeds_full_path = clotho_audio_embeds_base_path.joinpath(audio_embeds_last_hidden_state_file_name)\n",
    "        audio_embeds_last_hidden_state = generate_audio_embeddings(audio_melspec_values.to(device))\n",
    "        torch.save(audio_embeds_last_hidden_state, audio_embeds_full_path)\n",
    "\n",
    "        clotho_item[\"audio_embeds_last_hidden_state_file_name\"] = audio_embeds_last_hidden_state_file_name\n",
    "\n",
    "        melspec_processed_items.append(dict(clotho_item))\n",
    "\n",
    "    newmelspec_dataset = Dataset.from_list(melspec_processed_items)\n",
    "\n",
    "    melspec_dataset_path = clotho_hf_dataset_base_path.joinpath(f'clotho_{split_name}{preprocessor_suffix}.dataset')\n",
    "    print(f\"saved {split_name} to dir:\", melspec_dataset_path)\n",
    "    newmelspec_dataset.save_to_disk(dataset_path=str(melspec_dataset_path))\n"
   ]
  },
  {
   "cell_type": "code",
   "execution_count": null,
   "id": "f2e69a30-9972-43b9-87a3-d7773cc40cd2",
   "metadata": {
    "colab": {
     "base_uri": "https://localhost:8080/"
    },
    "id": "f2e69a30-9972-43b9-87a3-d7773cc40cd2",
    "outputId": "fcc48d9e-820c-4569-fe68-f3b34c19792a"
   },
   "outputs": [
    {
     "name": "stdout",
     "output_type": "stream",
     "text": [
      "Downloading imagebind weights to .checkpoints/imagebind_huge.pth ...\n"
     ]
    },
    {
     "name": "stderr",
     "output_type": "stream",
     "text": [
      "100%|██████████| 4.47G/4.47G [00:56<00:00, 85.1MB/s]\n"
     ]
    }
   ],
   "source": [
    "clotho_base_path = pathlib.Path('data/CLOTHO_v2.1')\n",
    "\n",
    "device = 'cuda' if torch.cuda.is_available() else 'cpu'\n",
    "\n",
    "imagebind_audio_encoder = ImagebindAudioEncoder().to(device)"
   ]
  },
  {
   "cell_type": "code",
   "execution_count": null,
   "id": "5a4143df-c9af-4883-aeef-71d4dd77f77a",
   "metadata": {
    "colab": {
     "base_uri": "https://localhost:8080/",
     "height": 181,
     "referenced_widgets": [
      "5d72eb12ca1643299397e38636d3738e",
      "dc15c3ca34014ac7b48e1d3e721a836f",
      "80ffc58e60f04dea962a07b07aef778d",
      "6660dc4dd6d44878bfd1631118d5c3e7",
      "6ef369b9f4254d8dba106aed77dff8dc",
      "1c39cb8f1a264d0eadc2e9fa0bff1173",
      "9a2cf25eb2384639af572276af8aa24a",
      "3fb159f40c4442bfbb092848f0669d60",
      "2e53ff7d08514a3b9c745b875c7ee56b",
      "a6eacbc87c7d420b99fc9000e83b756e",
      "4ca725a26faf4348bee664f0b591cd3b",
      "d21c6ecbe61f4ae088a1f0106324e2ec",
      "d794a241299d422885b341afc79a09ea",
      "9c147df955214df7b30a005bf93b37e8",
      "599b3de3f800438cb2b3d8e40d5dac16",
      "23100fbb0d1d4c8cba952a2228301124",
      "441585c399974e17b0b49fcaf8a62c5d",
      "f629971564704afd9a5daa0a2d4e493b",
      "faa3ee74fe4943debe3e40c3195199dd",
      "02f48f63aa804184b3489300bc8a098c",
      "b37c4da40f244b798f5a67bd7a377aa6",
      "35a4b94cde1a4497a3b83ddc9f80e8aa",
      "3357a86018434d429258cca80f90e733",
      "da4b42ead1174addbba8aa8b733412aa",
      "c0628a68d5644a35b9fda044cf84dc06",
      "c63bf6017dc042d595cc9ae67ea38d3b",
      "e4953858ffe949bc91260da9fb65a16e",
      "557b72e51f914a5589216b18c5274d75",
      "67560acabcdf4ca0aefeaef6a276f54d",
      "97143437f1ad40d5a4f41340e1953c65",
      "dc8bd515b4ea4829a4e62eca925b672c",
      "5604274498704a12bcd99b4c22964396",
      "67f24c6278a547b5aa37caa397fe7d45",
      "b92261c7f8914f8580b538b9f31b728b",
      "1470106df30b4182ac626deac6201bc8",
      "e38a733da0744c03b3063f43e657a5eb",
      "98431ab3713843de8bbae54b0be6c316",
      "7e355ab07aa442fcbd13886dbaac423e",
      "9fb10caa6e034fb1aa0c4966e1b2266d",
      "a6d72e6ca74544f2b9d4d859d54c0611",
      "8159be4faf044cf9900a3399c27d9a15",
      "d210579ac6ea449198aefde304e3a897",
      "9ec6e51ede5a43599b4a799c70861e5e",
      "3e48714da49840e28a7e6ed01a424f58"
     ]
    },
    "id": "5a4143df-c9af-4883-aeef-71d4dd77f77a",
    "outputId": "db005910-4227-4412-d380-4e241438b31d"
   },
   "outputs": [
    {
     "data": {
      "application/vnd.jupyter.widget-view+json": {
       "model_id": "5d72eb12ca1643299397e38636d3738e",
       "version_major": 2,
       "version_minor": 0
      },
      "text/plain": [
       "development:   0%|          | 0/3839 [00:00<?, ?it/s]"
      ]
     },
     "metadata": {},
     "output_type": "display_data"
    },
    {
     "name": "stdout",
     "output_type": "stream",
     "text": [
      "saved development to dir: data/CLOTHO_v2.1/clotho_hf_dataset/clotho_development_imagebind_single.dataset\n"
     ]
    },
    {
     "data": {
      "application/vnd.jupyter.widget-view+json": {
       "model_id": "d21c6ecbe61f4ae088a1f0106324e2ec",
       "version_major": 2,
       "version_minor": 0
      },
      "text/plain": [
       "Saving the dataset (0/1 shards):   0%|          | 0/3839 [00:00<?, ? examples/s]"
      ]
     },
     "metadata": {},
     "output_type": "display_data"
    },
    {
     "data": {
      "application/vnd.jupyter.widget-view+json": {
       "model_id": "3357a86018434d429258cca80f90e733",
       "version_major": 2,
       "version_minor": 0
      },
      "text/plain": [
       "validation:   0%|          | 0/1045 [00:00<?, ?it/s]"
      ]
     },
     "metadata": {},
     "output_type": "display_data"
    },
    {
     "name": "stdout",
     "output_type": "stream",
     "text": [
      "saved validation to dir: data/CLOTHO_v2.1/clotho_hf_dataset/clotho_validation_imagebind_single.dataset\n"
     ]
    },
    {
     "data": {
      "application/vnd.jupyter.widget-view+json": {
       "model_id": "b92261c7f8914f8580b538b9f31b728b",
       "version_major": 2,
       "version_minor": 0
      },
      "text/plain": [
       "Saving the dataset (0/1 shards):   0%|          | 0/1045 [00:00<?, ? examples/s]"
      ]
     },
     "metadata": {},
     "output_type": "display_data"
    }
   ],
   "source": [
    "def generate_melspec_imagebind(audio_file_path):\n",
    "    return imagebind_data.load_and_transform_audio_data(audio_paths=[audio_file_path], device='cpu')\n",
    "\n",
    "# imagebind_audio_encoder closure\n",
    "def generate_audio_embeddings_imagebind(audio_melspec_values):\n",
    "    return imagebind_audio_encoder.encode_audio(audio_melspec_values)\n",
    "\n",
    "preprocess_clotho_data(\n",
    "    clotho_base_path,\n",
    "    split_name=\"development\",\n",
    "    generate_melspec=generate_melspec_imagebind,\n",
    "    generate_audio_embeddings=generate_audio_embeddings_imagebind,\n",
    "    device=device,\n",
    "    preprocessor_suffix='imagebind_single'\n",
    ")\n",
    "\n",
    "preprocess_clotho_data(\n",
    "    clotho_base_path,\n",
    "    split_name=\"validation\",\n",
    "    generate_melspec=generate_melspec_imagebind,\n",
    "    generate_audio_embeddings=generate_audio_embeddings_imagebind,\n",
    "    device=device,\n",
    "    preprocessor_suffix='imagebind_single'\n",
    ")"
   ]
  },
  {
   "cell_type": "code",
   "execution_count": 3,
   "id": "ab104fca-32c3-4e6a-96d1-a1261ccb499d",
   "metadata": {
    "scrolled": true
   },
   "outputs": [],
   "source": [
    "# pip install transformers"
   ]
  },
  {
   "cell_type": "code",
   "execution_count": 4,
   "id": "8672401a-5e07-4556-92c1-8a5fbebfac0c",
   "metadata": {},
   "outputs": [],
   "source": [
    "import torch\n",
    "from torch.utils.data import DataLoader, Dataset\n",
    "import datasets\n",
    "from tqdm import tqdm"
   ]
  },
  {
   "cell_type": "markdown",
   "id": "43f4a009-7f50-4185-9d7e-c34c1ad0ea11",
   "metadata": {
    "id": "43f4a009-7f50-4185-9d7e-c34c1ad0ea11"
   },
   "source": [
    "# Описываем модельку"
   ]
  },
  {
   "cell_type": "code",
   "execution_count": 5,
   "id": "5ef41f2e-a882-4547-ba5d-660414e545a8",
   "metadata": {},
   "outputs": [],
   "source": [
    "# Важно!\n",
    "# Эта ячейка во время автогрейдинга будет копироваться в отдельный файл\n",
    "# Пожалуйста, не меняйте публичный интерфейс для класса Llaaa\n",
    "# Не рекомендуется прописывать в эту ячейку новые зависимости - их может не быть\n",
    "# на раннере в окружении автогрейдера.\n",
    "\n",
    "# Места, которые нужно дополнить кодом начинаются на TODO\n",
    "\n",
    "\n",
    "import os\n",
    "import warnings\n",
    "\n",
    "from typing import Union, Optional, Any\n",
    "\n",
    "import torch\n",
    "import torch.nn as nn\n",
    "import torch.nn.functional as F\n",
    "\n",
    "from transformers import PreTrainedModel, PretrainedConfig, LlamaForCausalLM, LlamaConfig, AutoTokenizer\n",
    "\n",
    "import logging\n",
    "logger = logging.getLogger(__name__)\n",
    "\n",
    "\n",
    "class TinyLlamaLanguageModel(LlamaForCausalLM):\n",
    "\n",
    "    def encode_text(self, intput_ids=None):\n",
    "        return self.model.embed_tokens(intput_ids)\n",
    "\n",
    "\n",
    "def llama_lm():\n",
    "    model_name = \"TinyLlama/TinyLlama-1.1B-Chat-v0.4\"\n",
    "\n",
    "    model = TinyLlamaLanguageModel.from_pretrained(model_name)\n",
    "    tokenizer = AutoTokenizer.from_pretrained(model_name)\n",
    "\n",
    "    return model, tokenizer\n",
    "\n",
    "\n",
    "class LlaaaConfig(PretrainedConfig): # изучить PretrainedConfig\n",
    "    def __init__(\n",
    "        self,\n",
    "        lm_hidden_size=2048,     # should match language model hidden size\n",
    "        audio_hidden_size=1024,  # should match audio encoder hidden size\n",
    "        modality_tokens=64,\n",
    "        **kwargs,\n",
    "    ) -> None:\n",
    "        if len(kwargs) > 0:\n",
    "            warnings.warn(\n",
    "                f\"Unknown {len(kwargs)} keywords arguments for {self.__class__.__name__}. (found {tuple(kwargs.keys())})\"\n",
    "            )\n",
    "\n",
    "        super().__init__()\n",
    "\n",
    "        self.lm_hidden_size = lm_hidden_size\n",
    "        self.audio_hidden_size = audio_hidden_size\n",
    "        self.modality_tokens = modality_tokens\n",
    "        \n",
    "# class ResidualMLPProjector(nn.Module):\n",
    "#     def __init__(self, in_channels, hidden_channels, out_channels):\n",
    "#         super().__init__()\n",
    "#         # self.lin_proj = nn.Linear(in_channels, out_channels)\n",
    "#         self.proj = nn.Sequential(\n",
    "#             nn.Linear(in_channels, hidden_channels),\n",
    "#             nn.GELU(),\n",
    "#             nn.Linear(hidden_channels, out_channels)\n",
    "#         )  \n",
    "#         self.act = nn.GELU()\n",
    "        \n",
    "#     def forward(self, x):\n",
    "#         return self.proj(x)# + self.lin_proj(x)\n",
    "class ResidualMLPProjector(nn.Module):\n",
    "    def __init__(self, in_channels, hidden_channels, out_channels):\n",
    "        super().__init__()\n",
    "        self.lin_proj = nn.Linear(in_channels, out_channels)\n",
    "        self.proj = nn.Sequential(\n",
    "            nn.Linear(in_channels, hidden_channels),\n",
    "            nn.GELU(),\n",
    "            nn.Linear(hidden_channels, out_channels)\n",
    "        )  \n",
    "        self.act = nn.GELU()\n",
    "        \n",
    "    def forward(self, x):\n",
    "        return self.proj(x) + self.lin_proj(x)\n",
    "        \n",
    "def init_weights(model):\n",
    "    if isinstance(model, nn.Linear):\n",
    "        torch.nn.init.normal_(model.weight, mean=0, std=0.02)\n",
    "        torch.nn.init.constant_(model.bias, 0)    \n",
    "        \n",
    "class Llaaa(PreTrainedModel):\n",
    "\n",
    "    config_class = LlaaaConfig\n",
    "\n",
    "    start_audio_token_id = 0\n",
    "    end_audio_token_id = 1\n",
    "\n",
    "    def __init__(self, lm_model: TinyLlamaLanguageModel, audio_encoder, config: LlaaaConfig):\n",
    "        super().__init__(config)\n",
    "\n",
    "        self.lm_model = lm_model\n",
    "        self.audio_encoder = audio_encoder\n",
    "\n",
    "        lm_hidden_size = self.config.lm_hidden_size\n",
    "        audio_hidden_size = self.config.audio_hidden_size\n",
    "\n",
    "        self.audio_tokens_embeddings = nn.Embedding(2, lm_hidden_size)\n",
    "        self.projection = ResidualMLPProjector(audio_hidden_size, lm_hidden_size, self.config.modality_tokens*lm_hidden_size)\n",
    "        #nn.Linear(audio_hidden_size, self.config.modality_tokens*lm_hidden_size)\n",
    "        \n",
    "        self.start_audio_token_id_tensor = torch.tensor(self.start_audio_token_id)\n",
    "        self.end_audio_token_id_tensor = torch.tensor(self.end_audio_token_id)\n",
    "        \n",
    "        return\n",
    "\n",
    "    def reinitialize_weights(self, std=0.02):\n",
    "        self.projection.apply(init_weights)\n",
    "        # nn.init.normal_(self.projection.weight, mean=0, std=std)\n",
    "        # nn.init.constant_(self.projection.bias, 0)\n",
    "        nn.init.normal_(self.audio_tokens_embeddings.weight, mean=0, std=std)\n",
    "\n",
    "        return\n",
    "\n",
    "    def encode_text(self, intput_ids=None):\n",
    "        return self.lm_model.encode_text(intput_ids)\n",
    "\n",
    "    def encode_audio(self, audio_melspec_values):\n",
    "        audio_embeddings = self.audio_encoder.encode_audio(audio_melspec_values)\n",
    "        audio_embeddings = F.normalize(audio_embeddings, dim=-1)\n",
    "        return audio_embeddings\n",
    "\n",
    "\n",
    "    def prepare_audio_inputs(self, input_ids=None, inputs_embeds=None, audio_embeds=None, attention_mask=None):\n",
    "        \"\"\"\n",
    "        В этом методе нужно:\n",
    "        * \"завернуть\" эмбэддинги аудио в специальные токены начала и окончания модальности аудио,\n",
    "        * вычислить проекцию аудио токенов в N токенов пространства LLM,\n",
    "        * посчитать маску вниминия с учетом добавленных токенов  (подробнее) \n",
    "        \"\"\"\n",
    "\n",
    "        if input_ids is not None:\n",
    "            if inputs_embeds is not None:\n",
    "                logger.info(\"using inputs_embeds with input_ids the same time! inputs_embeds will be fist and then concatenated with input_ids\")\n",
    "            inputs_embeds = self.encode_text(input_ids)\n",
    "        \n",
    "        # audio_embeds_projection expected shape [ bs, seq_len, llama_hidden_dim * self.config.modality_tokens ] \n",
    "        audio_embeds_projection = self.projection(audio_embeds).view(-1, self.config.modality_tokens, self.config.lm_hidden_size)\n",
    "\n",
    "        start_audio_token = self.audio_tokens_embeddings(self.start_audio_token_id_tensor.to(self.device))\\\n",
    "                            .expand(audio_embeds.shape[0], 1, self.config.lm_hidden_size)\n",
    "        end_audio_token = self.audio_tokens_embeddings(self.end_audio_token_id_tensor.to(self.device))\\\n",
    "                            .expand(audio_embeds.shape[0], 1, self.config.lm_hidden_size)\n",
    "        audio_embeds_projection = torch.cat([start_audio_token, audio_embeds_projection, end_audio_token], axis=1)\n",
    "        \n",
    "        if inputs_embeds is not None:\n",
    "            inputs_embeds = torch.cat([audio_embeds_projection, inputs_embeds.to(self.device)], axis=1)\n",
    "        else:\n",
    "            inputs_embeds = audio_embeds_projection\n",
    "        if attention_mask is not None:\n",
    "            audio_attention_mask = torch.ones(audio_embeds_projection.size(0), audio_embeds_projection.size(1)).to(self.device)\n",
    "            attention_mask = torch.cat([audio_attention_mask, attention_mask], dim=1)\n",
    "\n",
    "\n",
    "        return {\n",
    "            \"inputs_embeds\":  inputs_embeds,\n",
    "            \"attention_mask\": attention_mask,\n",
    "        }\n",
    "\n",
    "    def forward(self, input_ids=None, inputs_embeds=None, attention_mask=None, **kwargs):\n",
    "        # audio_embeds  [ bs, seq_len, embed_dim ]\n",
    "        # inputs_embeds [ bs, seq_len, embed_dim ]\n",
    "        # подумать!!!\n",
    "        llama_out = self.lm_model.forward(input_ids=input_ids, inputs_embeds=inputs_embeds, attention_mask=attention_mask)\n",
    "\n",
    "        return llama_out\n",
    "\n",
    "    @classmethod\n",
    "    def from_pretrained(cls, lm_model, audio_encoder, model_id: str):\n",
    "        # Чтобы сохранились только модули проекции, надо переопределить\n",
    "        # методы сохранения и загрузки модели\n",
    "        # Иначе сохранять и загружать мы будем и аудио энкодер, и LLM\n",
    "        # Этого мы не хотим, потому что так сохраненная модель будет\n",
    "        # намного больше занимать места на диске и просто это неэффективно.\n",
    "        # Слой проекции должен отвечать только за проекцию.\n",
    "        # Если добавляете новые модули в класс, не забудьте дописать их в\n",
    "        # метод сохранения и загрузки.\n",
    "\n",
    "        llaaa_config = LlaaaConfig.from_pretrained(model_id)\n",
    "        llaaa_model = cls(lm_model, audio_encoder, llaaa_config)\n",
    "\n",
    "        projection_file_name = \"projection.pt\"\n",
    "        audio_tokens_embeddings_file_name = \"audio_tokens_embeddings.pt\"\n",
    "\n",
    "        llaaa_model.projection.load_state_dict(torch.load(projection_file_name))\n",
    "        llaaa_model.audio_tokens_embeddings.load_state_dict(torch.load(audio_tokens_embeddings_file_name))\n",
    "\n",
    "        return llaaa_model\n",
    "\n",
    "    def save_pretrained(self, save_directory: str):\n",
    "        if os.path.isfile(save_directory):\n",
    "            raise ValueError(f\"Provided path ({save_directory}) should be a directory, not a file\")\n",
    "\n",
    "        os.makedirs(save_directory, exist_ok=True)\n",
    "\n",
    "        projection_file_name = \"projection.pt\"\n",
    "        audio_tokens_embeddings_file_name = \"audio_tokens_embeddings.pt\"\n",
    "\n",
    "        projection_file_name = os.path.join(save_directory, projection_file_name)\n",
    "        audio_tokens_embeddings_file_name = os.path.join(save_directory, audio_tokens_embeddings_file_name)\n",
    "\n",
    "        torch.save(self.projection.state_dict(), projection_file_name)\n",
    "        torch.save(self.audio_tokens_embeddings.state_dict(), audio_tokens_embeddings_file_name)\n",
    "        self.config.save_pretrained(save_directory)\n",
    "\n",
    "        #\n",
    "        # TODO Сохраняем веса\n",
    "        # и конфиг из self.config (см https://huggingface.co/docs/transformers/v4.29.1/en/main_classes/configuration#transformers.PretrainedConfig)\n",
    "        #\n",
    "\n",
    "        return"
   ]
  },
  {
   "cell_type": "markdown",
   "id": "ccce701c-4b3c-4834-a31d-6200c32340bd",
   "metadata": {
    "id": "ccce701c-4b3c-4834-a31d-6200c32340bd"
   },
   "source": [
    "# Обучаем модельку"
   ]
  },
  {
   "cell_type": "code",
   "execution_count": 6,
   "id": "beea71ad-6329-4c83-ab4d-eb2e57edff04",
   "metadata": {
    "scrolled": true
   },
   "outputs": [],
   "source": [
    "# pip install wandb"
   ]
  },
  {
   "cell_type": "code",
   "execution_count": 7,
   "id": "d8d13526-4300-482a-8b96-2c8f63802359",
   "metadata": {
    "colab": {
     "base_uri": "https://localhost:8080/",
     "height": 125
    },
    "id": "d8d13526-4300-482a-8b96-2c8f63802359",
    "outputId": "21a8484d-1c8b-47cf-e605-7de155e72d28"
   },
   "outputs": [
    {
     "name": "stderr",
     "output_type": "stream",
     "text": [
      "Failed to detect the name of this notebook, you can set it manually with the WANDB_NOTEBOOK_NAME environment variable to enable code saving.\n",
      "\u001b[34m\u001b[1mwandb\u001b[0m: Currently logged in as: \u001b[33msmir_kko\u001b[0m. Use \u001b[1m`wandb login --relogin`\u001b[0m to force relogin\n"
     ]
    },
    {
     "data": {
      "text/plain": [
       "True"
      ]
     },
     "execution_count": 7,
     "metadata": {},
     "output_type": "execute_result"
    }
   ],
   "source": [
    "# wandb - менее глюченая альтернатива tensorboard\n",
    "# и имхо даже более удобная\n",
    "\n",
    "import wandb\n",
    "wandb.login()"
   ]
  },
  {
   "cell_type": "code",
   "execution_count": 8,
   "id": "74131a2d-dba2-49f8-8bf4-5a536d541ce9",
   "metadata": {},
   "outputs": [],
   "source": [
    "class TrainConfig:\n",
    "    log_level = \"DEBUG\"\n",
    "\n",
    "    # Training\n",
    "    num_epochs = 5\n",
    "    train_batch_size = 8\n",
    "    val_batch_size = 1\n",
    "    log_grad_norm = True\n",
    "    learning_rate = 1e-4\n",
    "    gradient_accumulation_steps = 1\n",
    "\n",
    "    evaluate_every_epoch_mod = 4\n",
    "    save_model_every_epoch_mod = 1\n",
    "\n",
    "    # Model\n",
    "    llaaa_from_pretrained = None\n",
    "    modality_tokens = 32\n",
    "    llm_train_lora = False\n",
    "    llm_lora_from_pretrained = None\n",
    "\n",
    "    # Data\n",
    "    few_train_samples = None\n",
    "    few_val_samples = 100\n",
    "    dataloader_num_workers = 0\n",
    "\n",
    "    train_dataset_path = \"data/CLOTHO_v2.1/clotho_hf_dataset/clotho_development_imagebind_single.dataset/\"\n",
    "    audio_embeds_train_prefix = \"data/CLOTHO_v2.1/clotho_audio_embeds_processed_imagebind_single/development/\"\n",
    "\n",
    "    val_dataset_path = \"data/CLOTHO_v2.1/clotho_hf_dataset/clotho_validation_imagebind_single.dataset/\"\n",
    "    audio_embeds_val_prefix = \"data/CLOTHO_v2.1/clotho_audio_embeds_processed_imagebind_single/validation/\"\n"
   ]
  },
  {
   "cell_type": "code",
   "execution_count": 9,
   "id": "977b7961-daf4-48a1-b2e1-2cce2ebedf01",
   "metadata": {},
   "outputs": [],
   "source": [
    "# pip install accelerate"
   ]
  },
  {
   "cell_type": "code",
   "execution_count": 10,
   "id": "cV9Qy4-X9Usk",
   "metadata": {
    "id": "cV9Qy4-X9Usk"
   },
   "outputs": [],
   "source": [
    "import yaml\n",
    "import argparse\n",
    "\n",
    "import pathlib\n",
    "import random\n",
    "import torch\n",
    "import torch.nn as nn\n",
    "\n",
    "import logging\n",
    "import evaluate\n",
    "\n",
    "import datasets\n",
    "from transformers.generation import GenerationConfig\n",
    "\n",
    "from torch.optim import Adam\n",
    "from torch.utils.data import DataLoader\n",
    "\n",
    "import transformers\n",
    "\n",
    "from tqdm.auto import tqdm\n",
    "\n",
    "import wandb\n",
    "from wandb import sdk as wandb_sdk\n",
    "\n",
    "import accelerate\n"
   ]
  },
  {
   "cell_type": "code",
   "execution_count": 11,
   "id": "gUxB8p7X9WqT",
   "metadata": {
    "id": "gUxB8p7X9WqT"
   },
   "outputs": [],
   "source": [
    "# валидация\n",
    "\n",
    "logger = logging.getLogger(__name__)\n",
    "logging.basicConfig(level=logging.DEBUG, format='%(asctime)s %(levelname)s %(message)s')\n",
    "\n",
    "\n",
    "def prepare_model_inputs_from_batch(model: Llaaa, batch):\n",
    "    if 'audio_embeds_last_hidden_state' in batch:\n",
    "        audio_embeds_last_hidden_state = batch['audio_embeds_last_hidden_state'].to(model.device)\n",
    "    else:\n",
    "        audio_melspec_values = batch['pixel_values'].to(model.device)\n",
    "        audio_embeds_last_hidden_state = model.encode_audio(audio_melspec_values)\n",
    "\n",
    "    inputs_embeds = model.encode_text(batch['input_ids'].to(model.device))\n",
    "\n",
    "    model_inputs_with_audio = model.prepare_audio_inputs(\n",
    "        inputs_embeds=inputs_embeds,\n",
    "        attention_mask=batch['attention_mask'].to(model.device),\n",
    "        audio_embeds=audio_embeds_last_hidden_state,\n",
    "    )\n",
    "\n",
    "    return {\n",
    "        \"inputs_embeds\":  model_inputs_with_audio[\"inputs_embeds\"],\n",
    "        \"attention_mask\": model_inputs_with_audio[\"attention_mask\"],\n",
    "    }\n",
    "\n",
    "\n",
    "def get_audio_embeds_last_hidden_state(model, batch):\n",
    "    if 'audio_embeds_last_hidden_state' in batch:\n",
    "        audio_embeds_last_hidden_state = batch['audio_embeds_last_hidden_state'].to(model.device)\n",
    "    else:\n",
    "        audio_melspec_values = batch['pixel_values'].to(model.device)\n",
    "        audio_embeds_last_hidden_state = model.encode_audio(audio_melspec_values)\n",
    "    return audio_embeds_last_hidden_state # зачем?\n",
    "\n",
    "\n",
    "def save_model(train_config: TrainConfig, model: Llaaa, path: pathlib.Path):\n",
    "    path.mkdir(parents=True, exist_ok=True)\n",
    "    logger.info(f\"save model to {path}\")\n",
    "\n",
    "    model.save_pretrained(path)\n",
    "    if train_config.llm_train_lora:\n",
    "        model.lm_model.save_pretrained(path.joinpath(\"lora_adapter\"))\n",
    "\n",
    "    return\n",
    "\n",
    "\n",
    "@torch.no_grad()\n",
    "def compute_validation_metrics(generations, target_generations, captioning_metrics=None):\n",
    "    validation_metrics = {}\n",
    "    if captioning_metrics is not None:\n",
    "        evaluate_bleu_results = captioning_metrics.compute(predictions=generations, references=target_generations)\n",
    "        logger.info(f\"evaluate_bleu_results {evaluate_bleu_results}\")\n",
    "\n",
    "        validation_metrics[\"validation/evaluate_bleu\"] = evaluate_bleu_results['bleu'] * 100\n",
    "        validation_metrics[\"validation/evaluate_rouge1\"] = evaluate_bleu_results['rouge1']\n",
    "        validation_metrics[\"validation/evaluate_rouge2\"] = evaluate_bleu_results['rouge2']\n",
    "        validation_metrics[\"validation/evaluate_rougeL\"] = evaluate_bleu_results['rougeL']\n",
    "        validation_metrics[\"validation/evaluate_rougeLsum\"] = evaluate_bleu_results['rougeLsum']\n",
    "        validation_metrics[\"validation/evaluate_meteor\"] = evaluate_bleu_results['meteor']\n",
    "\n",
    "    return validation_metrics\n",
    "\n",
    "\n",
    "@torch.no_grad()\n",
    "def val_loop(model: Llaaa, tokenizer, val_dataloader: DataLoader, epoch, captioning_metrics=None):\n",
    "\n",
    "    criterion = nn.CrossEntropyLoss(ignore_index=tokenizer.pad_token_id)\n",
    "\n",
    "    logger.info(f\"go validation {epoch}\")\n",
    "\n",
    "    generations = []\n",
    "    target_generations = []\n",
    "\n",
    "    gen_params = {\n",
    "        \"do_sample\": False,\n",
    "        \"early_stopping\": True,\n",
    "        \"num_beams\": 3,\n",
    "        \"repetition_penalty\": 2.5,\n",
    "        \"remove_invalid_values\": True,\n",
    "        \"eos_token_id\": tokenizer.eos_token_id,\n",
    "        \"pad_token_id\": tokenizer.eos_token_id,\n",
    "        \"forced_eos_token_id\": tokenizer.eos_token_id,\n",
    "        \"use_cache\": True,\n",
    "        \"no_repeat_ngram_size\": 4,\n",
    "        \"num_return_sequences\": 1,\n",
    "    }\n",
    "    genconfig = GenerationConfig.from_model_config(model.lm_model.config)\n",
    "\n",
    "    model.eval()\n",
    "    for batch in tqdm(val_dataloader):\n",
    "\n",
    "        batch_input_ids = batch['input_ids'].to(model.device)\n",
    "        caption_legth = batch_input_ids.shape[1]\n",
    "\n",
    "        audio_embeds_last_hidden_state = get_audio_embeds_last_hidden_state(model, batch)\n",
    "\n",
    "        model_inputs_with_only_audio = model.prepare_audio_inputs(\n",
    "            audio_embeds=audio_embeds_last_hidden_state,\n",
    "        )\n",
    "\n",
    "        genconfig.max_length = caption_legth\n",
    "\n",
    "        all_generation_params = {\n",
    "            'generation_config': genconfig,\n",
    "            'max_new_tokens': caption_legth,\n",
    "            **model_inputs_with_only_audio,\n",
    "            **gen_params,\n",
    "        }\n",
    "\n",
    "        model_generation = model.lm_model.generate(**all_generation_params)\n",
    "        generated_sentences = tokenizer.batch_decode(model_generation, skip_special_tokens=True)\n",
    "        for sentence in generated_sentences:\n",
    "            sentence: str\n",
    "            sentence = sentence.replace(\"\\n\", \" \")\n",
    "            generations.append(sentence)\n",
    "\n",
    "        one_audio_references = []\n",
    "        all_references = tokenizer.batch_decode(batch['all_input_ids'], skip_special_tokens=True)\n",
    "        assert len(all_references) % 5 == 0, f'len(all_references) {len(all_references)}'\n",
    "        for i, reference in enumerate(all_references):\n",
    "            reference: str\n",
    "            reference = reference.replace(\"\\n\", \" \")\n",
    "            one_audio_references.append(reference)\n",
    "            if (i+1) % 5 == 0:\n",
    "                target_generations.append(one_audio_references)\n",
    "                one_audio_references = []\n",
    "\n",
    "    assert len(generations) > 0, f\"len(generations)={len(generations)}\"\n",
    "    assert len(target_generations) == len(generations), f\"len(target_generations) == len(generations): {len(target_generations)} == {len(generations)}\"\n",
    "\n",
    "    validation_metrics = compute_validation_metrics(generations, target_generations, captioning_metrics=captioning_metrics)\n",
    "\n",
    "    return validation_metrics\n"
   ]
  },
  {
   "cell_type": "code",
   "execution_count": 12,
   "id": "3ab5d532-eee8-4a76-960f-59ae77ff579b",
   "metadata": {
    "id": "3ab5d532-eee8-4a76-960f-59ae77ff579b"
   },
   "outputs": [],
   "source": [
    "# Обучение\n",
    "\n",
    "def train_loop(accelerator: accelerate.Accelerator, model: Llaaa, optimizer, train_dataloader: DataLoader, epoch, criterion, last_validation_bleu=0.0, train_config=None):\n",
    "    model.train()\n",
    "    progress_bar = tqdm(range(len(train_dataloader)), desc=f'Epoch {epoch}')\n",
    "    for batch in train_dataloader:\n",
    "        with accelerator.accumulate(model):\n",
    "            model_inputs_with_audio = prepare_model_inputs_from_batch(model, batch)\n",
    "            model_prediction = model.forward(**model_inputs_with_audio)\n",
    "\n",
    "            # model_prediction\n",
    "            #\n",
    "            # TODO вычисляем лосс!\n",
    "            model_prediction = model_prediction.logits[:, model.config.modality_tokens + 2 + 1:, :]\n",
    "            loss = criterion(model_prediction[:, :-1, :].contiguous().view(-1, model_prediction.shape[-1]), \n",
    "                             batch['input_ids'][:, 2:].contiguous().view(-1).to(model.device))\n",
    "            # Не забываем, что лосс мы вычисляем для задачи next token prediction\n",
    "            # Как было в домашке по трансформерам -- не забываем сделать сдвиг токена\n",
    "            # Тк output'ом для текущего токена должен быть следующий токен.\n",
    "            #\n",
    "            # TODO И затем наше любимое - вычисляем градиент, шаг оптимизации, зануляем градиент)\n",
    "            accelerator.backward(loss)\n",
    "            optimizer.step()\n",
    "            optimizer.zero_grad()\n",
    "\n",
    "            progress_bar.update(1)\n",
    "            progress_bar.set_description(f'Epoch={epoch} Loss={loss.item():.3f} BLEU={last_validation_bleu:.3f}')\n",
    "\n",
    "            step_metrics = {\"train_loss\": loss.item(), \"epoch\": epoch}\n",
    "            if train_config.log_grad_norm:\n",
    "                for name, parameter in model.projection.named_parameters():\n",
    "                    if parameter.grad is not None:\n",
    "                        parameter_grad_norm = parameter.grad.norm(2).item()\n",
    "                    else:\n",
    "                        parameter_grad_norm = 0.0\n",
    "                    step_metrics[f'grad_norm_{name}'] = parameter_grad_norm\n",
    "\n",
    "            metric_logger.log(step_metrics)\n",
    "            # end accelerator accumulation\n",
    "        # end train loop\n",
    "\n",
    "    return\n",
    "\n",
    "\n",
    "def train(\n",
    "        model: Llaaa,\n",
    "        tokenizer: transformers.AutoTokenizer,\n",
    "        train_dataloader: DataLoader,\n",
    "        val_dataloader: DataLoader,\n",
    "        train_config: TrainConfig,\n",
    "        metric_logger: wandb_sdk.wandb_run.Run,\n",
    "        device_placement=True,\n",
    "        ):\n",
    "\n",
    "    trainable_parameters = list(model.audio_tokens_embeddings.parameters()) + list(model.projection.parameters())\n",
    "    optimizer = Adam(trainable_parameters, lr=train_config.learning_rate)\n",
    "\n",
    "    criterion = nn.CrossEntropyLoss(ignore_index=tokenizer.pad_token_id)\n",
    "\n",
    "    accelerator = accelerate.Accelerator(device_placement=device_placement)\n",
    "    accelerator.gradient_accumulation_steps = train_config.gradient_accumulation_steps\n",
    "    model, optimizer, train_dataloader, val_dataloader = accelerator.prepare(model, optimizer, train_dataloader, val_dataloader)\n",
    "\n",
    "    captioning_metrics = evaluate.combine(\n",
    "        [\n",
    "            evaluate.load(\"bleu\", keep_in_memory=True),\n",
    "            evaluate.load(\"rouge\", keep_in_memory=True),\n",
    "            evaluate.load(\"meteor\", keep_in_memory=True),\n",
    "        ]\n",
    "    )\n",
    "\n",
    "    best_validation_bleu = 0.0\n",
    "    last_validation_bleu = 0.0\n",
    "    for epoch in range(train_config.num_epochs):\n",
    "\n",
    "        train_loop(accelerator, model, optimizer, train_dataloader, epoch=epoch, criterion=criterion, last_validation_bleu=last_validation_bleu, train_config=train_config)\n",
    "\n",
    "        if epoch % train_config.evaluate_every_epoch_mod == 0:\n",
    "            validation_metrics = val_loop(model, tokenizer, val_dataloader, epoch=epoch, captioning_metrics=captioning_metrics)\n",
    "            logger.info(f\"validation metrics {validation_metrics}\")\n",
    "\n",
    "            last_validation_bleu = validation_metrics['validation/evaluate_bleu']\n",
    "            metric_logger.log(validation_metrics)\n",
    "\n",
    "            if last_validation_bleu > best_validation_bleu:\n",
    "                best_validation_bleu = last_validation_bleu\n",
    "\n",
    "                base_path_for_best_model = pathlib.Path(f\"data/models/{metric_logger.name}/best/\")\n",
    "                save_model(train_config=train_config, model=model, path=base_path_for_best_model)\n",
    "\n",
    "        if epoch % train_config.save_model_every_epoch_mod == 0:\n",
    "            base_path_for_model = pathlib.Path(f\"data/models/{metric_logger.name}/last/\")\n",
    "            save_model(train_config=train_config, model=model, path=base_path_for_model)\n",
    "\n",
    "    base_path_for_model = pathlib.Path(f\"data/models/{metric_logger.name}/last/\")\n",
    "    save_model(train_config=train_config, model=model, path=base_path_for_model)\n",
    "\n",
    "def freeze_model(model):\n",
    "    for p in model.parameters():\n",
    "        p.requires_grad = False\n",
    "    return\n"
   ]
  },
  {
   "cell_type": "code",
   "execution_count": 13,
   "id": "-SAG3kSV9ad5",
   "metadata": {
    "id": "-SAG3kSV9ad5"
   },
   "outputs": [],
   "source": [
    "def data_preloader(audio_embeds_path_prefix):\n",
    "\n",
    "    def _data_preloader(items):\n",
    "        result = {\n",
    "            \"audio_embeds_last_hidden_state\": [],\n",
    "        }\n",
    "\n",
    "        for k in items.keys():\n",
    "            k: str\n",
    "            if k.startswith('caption_'):\n",
    "                result[k] = items[k]\n",
    "\n",
    "        for audio_embeds_path in items[\"audio_embeds_last_hidden_state_file_name\"]:\n",
    "            audio_embeds_full_path = pathlib.Path(audio_embeds_path_prefix).joinpath(audio_embeds_path)\n",
    "            audio_embeds = torch.load(audio_embeds_full_path, map_location='cpu')\n",
    "            result[\"audio_embeds_last_hidden_state\"].append(audio_embeds)\n",
    "\n",
    "        return result\n",
    "\n",
    "    return _data_preloader\n",
    "\n",
    "\n",
    "def get_collate_fn(tokenizer, validation=False):\n",
    "    def collate_fn(items):\n",
    "        result = dict()\n",
    "        # random select caption\n",
    "        current_caption_i = random.randint(1, 5)\n",
    "        tokenizer_input = [item[f'caption_{current_caption_i}'] for item in items]\n",
    "        tokenized_caption = tokenizer(tokenizer_input, padding=True)\n",
    "        result['input_ids'] = torch.tensor(tokenized_caption['input_ids'])\n",
    "        result['attention_mask'] = torch.tensor(tokenized_caption['attention_mask'])\n",
    "        # result['pixel_values'] = torch.cat([x['pixel_values'] for x in items], dim=0)\n",
    "        result['audio_embeds_last_hidden_state'] = torch.cat([x['audio_embeds_last_hidden_state'] for x in items], dim=0)\n",
    "\n",
    "        if validation:\n",
    "            all_captions = []\n",
    "            for item in items:\n",
    "                for current_caption_i in range(1, 6):\n",
    "                    all_captions.append(item[f'caption_{current_caption_i}'])\n",
    "\n",
    "            tokenized_caption = tokenizer(all_captions, padding=True)\n",
    "            result['all_input_ids'] = torch.tensor(tokenized_caption['input_ids'])\n",
    "            result['all_attention_mask'] = torch.tensor(tokenized_caption['attention_mask'])\n",
    "        return result\n",
    "    return collate_fn\n",
    "\n",
    "\n",
    "def get_train_dataloader(\n",
    "        train_config: TrainConfig, llaaa: Llaaa, tokenizer,\n",
    "        train_dataset_path,\n",
    "        audio_embeds_train_prefix):\n",
    "\n",
    "    audio_captions_dataset_train: datasets.Dataset = datasets.load_from_disk(train_dataset_path)\n",
    "    if train_config.few_train_samples is not None:\n",
    "        audio_captions_dataset_train = audio_captions_dataset_train.select(range(train_config.few_train_samples))\n",
    "\n",
    "    audio_captions_dataset_train.set_transform(data_preloader(audio_embeds_train_prefix))\n",
    "    return DataLoader(audio_captions_dataset_train, collate_fn=get_collate_fn(tokenizer), batch_size=train_config.train_batch_size, num_workers=train_config.dataloader_num_workers, shuffle=True, drop_last=True)\n",
    "\n",
    "\n",
    "def get_val_dataloader(\n",
    "        train_config: TrainConfig, llaaa: Llaaa, tokenizer,\n",
    "        val_dataset_path,\n",
    "        audio_embeds_val_prefix):\n",
    "\n",
    "    audio_captions_dataset_val: datasets.Dataset = datasets.load_from_disk(val_dataset_path)\n",
    "    if train_config.few_val_samples is not None:\n",
    "        audio_captions_dataset_val = audio_captions_dataset_val.select(range(train_config.few_val_samples))\n",
    "\n",
    "    audio_captions_dataset_val.set_transform(data_preloader(audio_embeds_val_prefix))\n",
    "\n",
    "    return DataLoader(audio_captions_dataset_val,\n",
    "                      collate_fn=get_collate_fn(tokenizer, validation=True),\n",
    "                      batch_size=train_config.val_batch_size)\n",
    "\n"
   ]
  },
  {
   "cell_type": "markdown",
   "id": "bd9836d7-8a1f-4f22-adda-af1f6179f046",
   "metadata": {
    "id": "bd9836d7-8a1f-4f22-adda-af1f6179f046"
   },
   "source": [
    "# Предобучаем проекцию в адаптере"
   ]
  },
  {
   "cell_type": "code",
   "execution_count": 14,
   "id": "a97c53cc-8db1-48c5-b0b1-5d3bdbb064d6",
   "metadata": {},
   "outputs": [],
   "source": [
    "# 1st iter (5 epoch)\n",
    "# {'validation/evaluate_bleu': 6.417021607421673,\n",
    "#  'validation/evaluate_rouge1': 0.33109226810102377,\n",
    "#  'validation/evaluate_rouge2': 0.11095769776340605,\n",
    "#  'validation/evaluate_rougeL': 0.2752364273184304,\n",
    "#  'validation/evaluate_rougeLsum': 0.27553070368757215,\n",
    "#  'validation/evaluate_meteor': 0.32073160908059584}\n",
    "# 2nd iter (10 epoch)\n",
    "# {'validation/evaluate_bleu': 6.40709213312877,\n",
    "#  'validation/evaluate_rouge1': 0.32817260743542964,\n",
    "#  'validation/evaluate_rouge2': 0.11000342343713507,\n",
    "#  'validation/evaluate_rougeL': 0.27342381749238054,\n",
    "#  'validation/evaluate_rougeLsum': 0.2733547105500546,\n",
    "#  'validation/evaluate_meteor': 0.32166420512484795}\n",
    "# 2nd iter (6 epoch + less leraning rate)\n",
    "# 4th iter (покрутили MLP)\n",
    "# 5th iter (добавили skip-connection)\n",
    "# {'validation/evaluate_bleu': 7.77831788507012,\n",
    "#  'validation/evaluate_rouge1': 0.34466447200431,\n",
    "#  'validation/evaluate_rouge2': 0.12496668780912443,\n",
    "#  'validation/evaluate_rougeL': 0.29159389419317716,\n",
    "#  'validation/evaluate_rougeLsum': 0.2913731156012332,\n",
    "#  'validation/evaluate_meteor': 0.3413907628246414}"
   ]
  },
  {
   "cell_type": "code",
   "execution_count": 15,
   "id": "fe8fc85e-e558-4c07-9801-fbafc51c8629",
   "metadata": {
    "colab": {
     "base_uri": "https://localhost:8080/",
     "height": 894,
     "referenced_widgets": [
      "8370cfc7f7614f14824955587aea7986",
      "4b65c3dbe2e9436b9211c197ea910a95",
      "0c9c6d0f8ea24facaee50cfe05d5ce67",
      "5caca9e442d54d86b23bb7ea292cf639",
      "dc47ca11582e4af2b17afff63eadbca7",
      "b426c79bf79e433787050676e5f361c9",
      "45c794c56aea45708463d98605b6938c",
      "63f0d58e610e4dca9b4f80ef89024318",
      "6eecb4f7d61f426888d31b2e4234f016",
      "835075b26c5446b88112dd414ec3147a",
      "ad586a45e65945c293a5b6efab662cb0",
      "bb0fa9ed12e345aea9194717c6e7f073",
      "def1c4c8d6034398af35a9cf01814a3c",
      "4beb9c2c1ce24a29b54f8cdcd1fd5b31",
      "4b189c559c0748e984fb35509d60ea50",
      "cb98e9ac858b40a395413a51948390e5",
      "c3f7691fb40b4576916c3281726aff60",
      "d8bf5141a7e548698928651883e0cbda",
      "2db595efe280479da4402c502f5d91c8",
      "60083d14728c4847af026df7d1c299d7",
      "c19357ddcaba414b8b0893329ed7f6cf",
      "c5648d48e379485c9530df2bac6d672d",
      "5ddee79213e44a0fa780fbd60280a325",
      "abec0c8a4ba14a4f9dd154faeeea00d8",
      "71cc9061c0864a1886d2228f9957bbf1",
      "b48283188e3748c39b1bbd022cadd07c",
      "0128c429346e473bbe539c8e782642d2",
      "3fa78db09d2f4c09b49d58a58bea0466",
      "52b1f5bed7c3440ca6575bd7a81d4a57",
      "ec15b43bfe0f4622b3c8ec66b41bc368",
      "f0204afd650a4920ba6f3c42abed0280",
      "a3225f4cb1134209983c087bb9fda4a7",
      "84dadeecfdc04a128158b9b5b5c9979c",
      "eba0df23aa584bccab2c5b1aec471d22",
      "79bd87d5dc054fc69ad13afcbf4ddada",
      "da01a348c058439fa16496be8552b880",
      "bbf7119ca71d4edbab6d22deb8ef42db",
      "23c95b409b5f496385445e9d7972b114",
      "e31cc79fab334f9eb6c8301396762992",
      "0efa62716ec144a4b00cf9c25084b474",
      "8d7d0047aa0b420eb0024a0152e4d42b",
      "3f5047f3e40e464c86974052343e48fc",
      "79f5de4c6ca64174b4b51b79c4bb8825",
      "747bae5ba2d44d02a290aa5fcfcdabd5",
      "03291c0e822544b19ffcd54ee818691f",
      "77c8a1b352774c23b7fc29af5d4ad905",
      "c7328ac1c287494f980d40d53a7635c4",
      "128186df235c4a669e2b426ad0f1c52f",
      "1c77c51105ce46a99ebf3da0acfd9ea8",
      "66315ac80597426cbcfe9967697dfacc",
      "7983c536a14348ab8eb756b4e14b131e",
      "541441e703ce40338bbeab1b46d6ce4d",
      "2d039cba3d774ce7985bc756a6c6cf5a",
      "abf042590df44512afe2b1ca27076f1a",
      "7e360c17d3e34beb98bae7b1904445c2",
      "a0cbcfa9b5cb46d68c45bfc2ce0dc4c3",
      "854560ffd7bd4a77ae832a95adb8ff9f",
      "ba93173c1ed6483a9588a165f8e1700b",
      "9cbe93a386e34ac4a1bd22182bad4021",
      "6367f17fe568427baf99f7830182cf70",
      "e2c2cc94fc674713b84174578938bdcc",
      "9a654d499811418fa44a5a09c8f3e713",
      "dff52979714a4d1997ce351073766aba",
      "fb03e7d4d59d41e5a2f6af577b2c9c4b",
      "6af480a2035b482a81206d6c4ff572d2",
      "103e87207e624346b3cf47ecaeb881d5",
      "76d281f981924d2a8c635e08e36ef4fe",
      "1700756807404b99af25a2fe70b09043",
      "189eb9226a5643e7989ccd90ea5b65e1",
      "943e9e2a428b48d9ac2af2f4f556eecf",
      "92732c1414a543d8bfb13188c5165ea0",
      "5de600c6a2364176a1c3825b7c1bef23",
      "ec030f2f0cca436ab71b74f9536d720c",
      "98c010ddb547459c855613633af7c0d4",
      "95f843e30f384e7f8f8db739404779e2",
      "4ff00b6d00a9474bb5283469c7b36b1c",
      "b27ff479cbce4e5ca7610847cae538d6",
      "b4b85ce0d9e74790905a2d8778363e7d",
      "5baf9ef0528144f793546b21b1f60fd8",
      "66c82e522cff47d393d4a47fc045bfcd",
      "9b85f93735e040d5956a57fb0c42a175",
      "ab7dd77c2bf74f2aaa4ef7bc35571097",
      "a081b9ca9a0d4cc088cc79570a4a553f",
      "4efbd0736f6f456dab9c0362a95b8054",
      "2dc291ec9cdd4d74af7ddad3e8fc4f12",
      "d357c103aef44cd3b91c6cbfbd0e91c8",
      "cdbdb21bd47c43279520a1f26eb6512e",
      "61e018e33d6e47aabe9a3ea9f43036bd",
      "2b704184d2754d55b06d76d3174ae33a",
      "b90f9eeaa3394219a836baaff0ff1ba2",
      "f5057f0c9e44451f822516feac2e7367",
      "2e2fe948b9264bd89c9584f786d579de",
      "3c3d5b147bd441e981c88a9fb07b0d34",
      "429b4da14c3d448b9ee1e65d89caaa99",
      "71d6d3d0345e4242a57986e003d574e6",
      "ee5a122d91af452a826cfb7b6aa64628"
     ]
    },
    "id": "fe8fc85e-e558-4c07-9801-fbafc51c8629",
    "outputId": "d9576f2e-d0d5-4be2-a88a-154f0868c5dd",
    "scrolled": true
   },
   "outputs": [
    {
     "name": "stderr",
     "output_type": "stream",
     "text": [
      "2024-06-23 14:08:33,292 INFO loglevel DEBUG\n",
      "2024-06-23 14:08:33,292 INFO load audio encoder\n",
      "2024-06-23 14:08:33,293 INFO load language model\n",
      "2024-06-23 14:08:33,296 DEBUG Starting new HTTPS connection (1): huggingface.co:443\n",
      "2024-06-23 14:08:33,551 DEBUG https://huggingface.co:443 \"HEAD /TinyLlama/TinyLlama-1.1B-Chat-v0.4/resolve/main/config.json HTTP/1.1\" 200 0\n",
      "2024-06-23 14:08:33,757 DEBUG https://huggingface.co:443 \"HEAD /TinyLlama/TinyLlama-1.1B-Chat-v0.4/resolve/main/config.json HTTP/1.1\" 200 0\n",
      "2024-06-23 14:08:37,478 DEBUG https://huggingface.co:443 \"HEAD /TinyLlama/TinyLlama-1.1B-Chat-v0.4/resolve/main/generation_config.json HTTP/1.1\" 200 0\n",
      "2024-06-23 14:08:38,171 DEBUG https://huggingface.co:443 \"HEAD /TinyLlama/TinyLlama-1.1B-Chat-v0.4/resolve/main/tokenizer_config.json HTTP/1.1\" 200 0\n",
      "2024-06-23 14:08:42,122 INFO reinitialize weights\n",
      "2024-06-23 14:08:44,970 INFO trainable model parameters: 405018624\n",
      "2024-06-23 14:08:44,971 INFO total model parameters: 1505079296\n",
      "2024-06-23 14:08:44,972 INFO trainable model llm parameters: 0\n",
      "2024-06-23 14:08:44,973 INFO trainable model audio encoder parameters: 0\n",
      "2024-06-23 14:08:44,974 INFO load train dataloader\n",
      "2024-06-23 14:08:44,987 INFO load val dataloader\n",
      "2024-06-23 14:08:44,997 INFO run training\n"
     ]
    },
    {
     "data": {
      "text/html": [
       "Tracking run with wandb version 0.17.2"
      ],
      "text/plain": [
       "<IPython.core.display.HTML object>"
      ]
     },
     "metadata": {},
     "output_type": "display_data"
    },
    {
     "data": {
      "text/html": [
       "Run data is saved locally in <code>C:\\Users\\arssm\\0Jupyter_Life\\DL\\LLM\\wandb\\run-20240623_140845-lhaewz74</code>"
      ],
      "text/plain": [
       "<IPython.core.display.HTML object>"
      ]
     },
     "metadata": {},
     "output_type": "display_data"
    },
    {
     "data": {
      "text/html": [
       "Syncing run <strong><a href='https://wandb.ai/smir_kko/hw-multimodal-llm/runs/lhaewz74' target=\"_blank\">expert-firebrand-14</a></strong> to <a href='https://wandb.ai/smir_kko/hw-multimodal-llm' target=\"_blank\">Weights & Biases</a> (<a href='https://wandb.me/run' target=\"_blank\">docs</a>)<br/>"
      ],
      "text/plain": [
       "<IPython.core.display.HTML object>"
      ]
     },
     "metadata": {},
     "output_type": "display_data"
    },
    {
     "data": {
      "text/html": [
       " View project at <a href='https://wandb.ai/smir_kko/hw-multimodal-llm' target=\"_blank\">https://wandb.ai/smir_kko/hw-multimodal-llm</a>"
      ],
      "text/plain": [
       "<IPython.core.display.HTML object>"
      ]
     },
     "metadata": {},
     "output_type": "display_data"
    },
    {
     "data": {
      "text/html": [
       " View run at <a href='https://wandb.ai/smir_kko/hw-multimodal-llm/runs/lhaewz74' target=\"_blank\">https://wandb.ai/smir_kko/hw-multimodal-llm/runs/lhaewz74</a>"
      ],
      "text/plain": [
       "<IPython.core.display.HTML object>"
      ]
     },
     "metadata": {},
     "output_type": "display_data"
    },
    {
     "name": "stderr",
     "output_type": "stream",
     "text": [
      "2024-06-23 14:08:49,094 DEBUG Starting new HTTPS connection (1): s3.amazonaws.com:443\n",
      "2024-06-23 14:08:49,494 DEBUG https://s3.amazonaws.com:443 \"HEAD /datasets.huggingface.co/datasets/metrics/evaluate-metric/bleu/evaluate-metric/bleu.py HTTP/1.1\" 404 0\n",
      "2024-06-23 14:08:49,510 DEBUG Starting new HTTPS connection (1): huggingface.co:443\n",
      "2024-06-23 14:08:49,710 DEBUG https://huggingface.co:443 \"HEAD /spaces/evaluate-metric/bleu/resolve/v0.4.2/bleu.py HTTP/1.1\" 404 0\n",
      "2024-06-23 14:08:49,714 DEBUG Starting new HTTPS connection (1): huggingface.co:443\n",
      "2024-06-23 14:08:50,027 DEBUG https://huggingface.co:443 \"HEAD /spaces/evaluate-metric/bleu/resolve/main/bleu.py HTTP/1.1\" 200 0\n",
      "2024-06-23 14:08:50,053 DEBUG Starting new HTTPS connection (1): github.com:443\n",
      "2024-06-23 14:08:50,352 DEBUG https://github.com:443 \"HEAD /tensorflow/nmt/raw/master/nmt/scripts/bleu.py HTTP/1.1\" 302 0\n",
      "2024-06-23 14:08:50,364 DEBUG Starting new HTTPS connection (1): raw.githubusercontent.com:443\n",
      "2024-06-23 14:08:50,629 DEBUG https://raw.githubusercontent.com:443 \"HEAD /tensorflow/nmt/master/nmt/scripts/bleu.py HTTP/1.1\" 200 0\n",
      "2024-06-23 14:08:50,651 DEBUG Starting new HTTPS connection (1): huggingface.co:443\n",
      "2024-06-23 14:08:50,849 DEBUG https://huggingface.co:443 \"HEAD /spaces/evaluate-metric/bleu/resolve/main/tokenizer_13a.py HTTP/1.1\" 200 0\n",
      "2024-06-23 14:08:50,865 DEBUG Attempting to acquire lock 2797028621872 on C:\\Users\\arssm\\.cache\\huggingface\\modules\\evaluate_modules\\metrics\\evaluate-metric--bleu.lock\n",
      "2024-06-23 14:08:50,867 DEBUG Lock 2797028621872 acquired on C:\\Users\\arssm\\.cache\\huggingface\\modules\\evaluate_modules\\metrics\\evaluate-metric--bleu.lock\n",
      "2024-06-23 14:08:50,870 DEBUG Attempting to release lock 2797028621872 on C:\\Users\\arssm\\.cache\\huggingface\\modules\\evaluate_modules\\metrics\\evaluate-metric--bleu.lock\n",
      "2024-06-23 14:08:50,871 DEBUG Lock 2797028621872 released on C:\\Users\\arssm\\.cache\\huggingface\\modules\\evaluate_modules\\metrics\\evaluate-metric--bleu.lock\n",
      "2024-06-23 14:08:50,888 DEBUG Starting new HTTPS connection (1): s3.amazonaws.com:443\n",
      "2024-06-23 14:08:51,273 DEBUG https://s3.amazonaws.com:443 \"HEAD /datasets.huggingface.co/datasets/metrics/evaluate-metric/rouge/evaluate-metric/rouge.py HTTP/1.1\" 404 0\n",
      "2024-06-23 14:08:51,279 DEBUG Starting new HTTPS connection (1): huggingface.co:443\n",
      "2024-06-23 14:08:51,489 DEBUG https://huggingface.co:443 \"HEAD /spaces/evaluate-metric/rouge/resolve/v0.4.2/rouge.py HTTP/1.1\" 404 0\n",
      "2024-06-23 14:08:51,500 DEBUG Starting new HTTPS connection (1): huggingface.co:443\n",
      "2024-06-23 14:08:51,909 DEBUG https://huggingface.co:443 \"HEAD /spaces/evaluate-metric/rouge/resolve/main/rouge.py HTTP/1.1\" 200 0\n",
      "2024-06-23 14:08:52,418 DEBUG Attempting to acquire lock 2798111340256 on C:\\Users\\arssm\\.cache\\huggingface\\modules\\evaluate_modules\\metrics\\evaluate-metric--rouge.lock\n",
      "2024-06-23 14:08:52,420 DEBUG Lock 2798111340256 acquired on C:\\Users\\arssm\\.cache\\huggingface\\modules\\evaluate_modules\\metrics\\evaluate-metric--rouge.lock\n",
      "2024-06-23 14:08:52,422 DEBUG Attempting to release lock 2798111340256 on C:\\Users\\arssm\\.cache\\huggingface\\modules\\evaluate_modules\\metrics\\evaluate-metric--rouge.lock\n",
      "2024-06-23 14:08:52,423 DEBUG Lock 2798111340256 released on C:\\Users\\arssm\\.cache\\huggingface\\modules\\evaluate_modules\\metrics\\evaluate-metric--rouge.lock\n",
      "2024-06-23 14:08:52,448 DEBUG Starting new HTTPS connection (1): s3.amazonaws.com:443\n",
      "2024-06-23 14:08:52,851 DEBUG https://s3.amazonaws.com:443 \"HEAD /datasets.huggingface.co/datasets/metrics/evaluate-metric/meteor/evaluate-metric/meteor.py HTTP/1.1\" 404 0\n",
      "2024-06-23 14:08:52,862 DEBUG Starting new HTTPS connection (1): huggingface.co:443\n",
      "2024-06-23 14:08:53,102 DEBUG https://huggingface.co:443 \"HEAD /spaces/evaluate-metric/meteor/resolve/v0.4.2/meteor.py HTTP/1.1\" 404 0\n",
      "2024-06-23 14:08:53,109 DEBUG Starting new HTTPS connection (1): huggingface.co:443\n",
      "2024-06-23 14:08:53,328 DEBUG https://huggingface.co:443 \"HEAD /spaces/evaluate-metric/meteor/resolve/main/meteor.py HTTP/1.1\" 200 0\n",
      "2024-06-23 14:08:53,350 DEBUG Attempting to acquire lock 2798109918848 on C:\\Users\\arssm\\.cache\\huggingface\\modules\\evaluate_modules\\metrics\\evaluate-metric--meteor.lock\n",
      "2024-06-23 14:08:53,351 DEBUG Lock 2798109918848 acquired on C:\\Users\\arssm\\.cache\\huggingface\\modules\\evaluate_modules\\metrics\\evaluate-metric--meteor.lock\n",
      "2024-06-23 14:08:53,353 DEBUG Attempting to release lock 2798109918848 on C:\\Users\\arssm\\.cache\\huggingface\\modules\\evaluate_modules\\metrics\\evaluate-metric--meteor.lock\n",
      "2024-06-23 14:08:53,354 DEBUG Lock 2798109918848 released on C:\\Users\\arssm\\.cache\\huggingface\\modules\\evaluate_modules\\metrics\\evaluate-metric--meteor.lock\n",
      "[nltk_data] Downloading package wordnet to\n",
      "[nltk_data]     C:\\Users\\arssm\\AppData\\Roaming\\nltk_data...\n",
      "[nltk_data]   Package wordnet is already up-to-date!\n",
      "[nltk_data] Downloading package punkt to\n",
      "[nltk_data]     C:\\Users\\arssm\\AppData\\Roaming\\nltk_data...\n",
      "[nltk_data]   Package punkt is already up-to-date!\n",
      "[nltk_data] Downloading package omw-1.4 to\n",
      "[nltk_data]     C:\\Users\\arssm\\AppData\\Roaming\\nltk_data...\n",
      "[nltk_data]   Package omw-1.4 is already up-to-date!\n"
     ]
    },
    {
     "data": {
      "application/vnd.jupyter.widget-view+json": {
       "model_id": "c385a2325b2c4d528de77247799e80c7",
       "version_major": 2,
       "version_minor": 0
      },
      "text/plain": [
       "Epoch 0:   0%|          | 0/479 [00:00<?, ?it/s]"
      ]
     },
     "metadata": {},
     "output_type": "display_data"
    },
    {
     "name": "stderr",
     "output_type": "stream",
     "text": [
      "C:\\Users\\arssm\\.conda\\envs\\nn_env\\Lib\\site-packages\\transformers\\models\\llama\\modeling_llama.py:649: UserWarning: 1Torch was not compiled with flash attention. (Triggered internally at C:\\cb\\pytorch_1000000000000\\work\\aten\\src\\ATen\\native\\transformers\\cuda\\sdp_utils.cpp:455.)\n",
      "  attn_output = torch.nn.functional.scaled_dot_product_attention(\n",
      "2024-06-23 14:12:50,234 INFO go validation 0\n"
     ]
    },
    {
     "data": {
      "application/vnd.jupyter.widget-view+json": {
       "model_id": "0182b74ba022441091ab4872f46fa963",
       "version_major": 2,
       "version_minor": 0
      },
      "text/plain": [
       "  0%|          | 0/100 [00:00<?, ?it/s]"
      ]
     },
     "metadata": {},
     "output_type": "display_data"
    },
    {
     "name": "stderr",
     "output_type": "stream",
     "text": [
      "2024-06-23 14:14:11,562 INFO Using default tokenizer.\n",
      "2024-06-23 14:14:13,677 INFO evaluate_bleu_results {'bleu': 0.08146237253385034, 'precisions': [0.46244477172312226, 0.12003179650238474, 0.046632124352331605, 0.017013232514177693], 'brevity_penalty': 1.0, 'length_ratio': 1.3235867446393763, 'translation_length': 1358, 'reference_length': 1026, 'rouge1': 0.33741654690026357, 'rouge2': 0.11199968503994058, 'rougeL': 0.2781781588743347, 'rougeLsum': 0.27817155944114846, 'meteor': 0.291387277906247}\n",
      "2024-06-23 14:14:13,678 INFO validation metrics {'validation/evaluate_bleu': 8.146237253385035, 'validation/evaluate_rouge1': 0.33741654690026357, 'validation/evaluate_rouge2': 0.11199968503994058, 'validation/evaluate_rougeL': 0.2781781588743347, 'validation/evaluate_rougeLsum': 0.27817155944114846, 'validation/evaluate_meteor': 0.291387277906247}\n",
      "2024-06-23 14:14:13,680 INFO save model to data\\models\\expert-firebrand-14\\best\n",
      "2024-06-23 14:14:16,000 INFO save model to data\\models\\expert-firebrand-14\\last\n"
     ]
    },
    {
     "data": {
      "application/vnd.jupyter.widget-view+json": {
       "model_id": "1170a3e3e5884badad116b7293370572",
       "version_major": 2,
       "version_minor": 0
      },
      "text/plain": [
       "Epoch 1:   0%|          | 0/479 [00:00<?, ?it/s]"
      ]
     },
     "metadata": {},
     "output_type": "display_data"
    },
    {
     "name": "stderr",
     "output_type": "stream",
     "text": [
      "2024-06-23 14:18:16,211 INFO save model to data\\models\\expert-firebrand-14\\last\n"
     ]
    },
    {
     "data": {
      "application/vnd.jupyter.widget-view+json": {
       "model_id": "9dc0d2f2d8844038b4e66caf1ce2c0af",
       "version_major": 2,
       "version_minor": 0
      },
      "text/plain": [
       "Epoch 2:   0%|          | 0/479 [00:00<?, ?it/s]"
      ]
     },
     "metadata": {},
     "output_type": "display_data"
    },
    {
     "name": "stderr",
     "output_type": "stream",
     "text": [
      "2024-06-23 14:22:18,273 INFO save model to data\\models\\expert-firebrand-14\\last\n"
     ]
    },
    {
     "data": {
      "application/vnd.jupyter.widget-view+json": {
       "model_id": "7296ecd4e9634f3caa3648f8cbd64cb7",
       "version_major": 2,
       "version_minor": 0
      },
      "text/plain": [
       "Epoch 3:   0%|          | 0/479 [00:00<?, ?it/s]"
      ]
     },
     "metadata": {},
     "output_type": "display_data"
    },
    {
     "name": "stderr",
     "output_type": "stream",
     "text": [
      "2024-06-23 14:26:17,263 INFO save model to data\\models\\expert-firebrand-14\\last\n"
     ]
    },
    {
     "data": {
      "application/vnd.jupyter.widget-view+json": {
       "model_id": "2b16bb484e6f4559ab77a8448a2263dc",
       "version_major": 2,
       "version_minor": 0
      },
      "text/plain": [
       "Epoch 4:   0%|          | 0/479 [00:00<?, ?it/s]"
      ]
     },
     "metadata": {},
     "output_type": "display_data"
    },
    {
     "name": "stderr",
     "output_type": "stream",
     "text": [
      "2024-06-23 14:30:17,584 INFO go validation 4\n"
     ]
    },
    {
     "data": {
      "application/vnd.jupyter.widget-view+json": {
       "model_id": "52c18b2e5b6e4c86b230ae05c6093531",
       "version_major": 2,
       "version_minor": 0
      },
      "text/plain": [
       "  0%|          | 0/100 [00:00<?, ?it/s]"
      ]
     },
     "metadata": {},
     "output_type": "display_data"
    },
    {
     "name": "stderr",
     "output_type": "stream",
     "text": [
      "2024-06-23 14:31:36,620 INFO Using default tokenizer.\n",
      "2024-06-23 14:31:37,376 INFO evaluate_bleu_results {'bleu': 0.10243499306253456, 'precisions': [0.4823529411764706, 0.13531914893617022, 0.06325581395348837, 0.02666666666666667], 'brevity_penalty': 1.0, 'length_ratio': 1.2426900584795322, 'translation_length': 1275, 'reference_length': 1026, 'rouge1': 0.36547326897435495, 'rouge2': 0.13485497090983375, 'rougeL': 0.30783176273814994, 'rougeLsum': 0.3063263358411153, 'meteor': 0.29316970322128555}\n",
      "2024-06-23 14:31:37,379 INFO validation metrics {'validation/evaluate_bleu': 10.243499306253456, 'validation/evaluate_rouge1': 0.36547326897435495, 'validation/evaluate_rouge2': 0.13485497090983375, 'validation/evaluate_rougeL': 0.30783176273814994, 'validation/evaluate_rougeLsum': 0.3063263358411153, 'validation/evaluate_meteor': 0.29316970322128555}\n",
      "2024-06-23 14:31:37,380 INFO save model to data\\models\\expert-firebrand-14\\best\n",
      "2024-06-23 14:31:39,895 INFO save model to data\\models\\expert-firebrand-14\\last\n",
      "2024-06-23 14:31:42,486 INFO save model to data\\models\\expert-firebrand-14\\last\n"
     ]
    },
    {
     "data": {
      "application/vnd.jupyter.widget-view+json": {
       "model_id": "",
       "version_major": 2,
       "version_minor": 0
      },
      "text/plain": [
       "VBox(children=(Label(value='0.001 MB of 0.001 MB uploaded\\r'), FloatProgress(value=1.0, max=1.0)))"
      ]
     },
     "metadata": {},
     "output_type": "display_data"
    },
    {
     "data": {
      "text/html": [
       "<style>\n",
       "    table.wandb td:nth-child(1) { padding: 0 10px; text-align: left ; width: auto;} td:nth-child(2) {text-align: left ; width: 100%}\n",
       "    .wandb-row { display: flex; flex-direction: row; flex-wrap: wrap; justify-content: flex-start; width: 100% }\n",
       "    .wandb-col { display: flex; flex-direction: column; flex-basis: 100%; flex: 1; padding: 10px; }\n",
       "    </style>\n",
       "<div class=\"wandb-row\"><div class=\"wandb-col\"><h3>Run history:</h3><br/><table class=\"wandb\"><tr><td>epoch</td><td>▁▁▁▁▁▁▁▁▃▃▃▃▃▃▃▃▅▅▅▅▅▅▅▅▆▆▆▆▆▆▆▆████████</td></tr><tr><td>grad_norm_lin_proj.bias</td><td>▁▁▁▁▁▁▁▁▁▁▁▁▁▁▁▁▁▁▁▁▁▁▁▁▁▁▁▁▁▁▁▁▁▁▁▁▁▁▁▁</td></tr><tr><td>grad_norm_lin_proj.weight</td><td>▁▁▁▁▁▁▁▁▁▁▁▁▁▁▁▁▁▁▁▁▁▁▁▁▁▁▁▁▁▁▁▁▁▁▁▁▁▁▁▁</td></tr><tr><td>grad_norm_proj.0.bias</td><td>▁▁▁▁▁▁▁▁▁▁▁▁▁▁▁▁▁▁▁▁▁▁▁▁▁▁▁▁▁▁▁▁▁▁▁▁▁▁▁▁</td></tr><tr><td>grad_norm_proj.0.weight</td><td>▁▁▁▁▁▁▁▁▁▁▁▁▁▁▁▁▁▁▁▁▁▁▁▁▁▁▁▁▁▁▁▁▁▁▁▁▁▁▁▁</td></tr><tr><td>grad_norm_proj.2.bias</td><td>▁▁▁▁▁▁▁▁▁▁▁▁▁▁▁▁▁▁▁▁▁▁▁▁▁▁▁▁▁▁▁▁▁▁▁▁▁▁▁▁</td></tr><tr><td>grad_norm_proj.2.weight</td><td>▁▁▁▁▁▁▁▁▁▁▁▁▁▁▁▁▁▁▁▁▁▁▁▁▁▁▁▁▁▁▁▁▁▁▁▁▁▁▁▁</td></tr><tr><td>train_loss</td><td>█▇▃▅▅▄▇▄▄▅▂▅▄▇▆▄▄▃▅▅▆▃▇▅▄▂▅▇▄▄▃▂▂▃▅▁▄▂▆▃</td></tr><tr><td>validation/evaluate_bleu</td><td>▁█</td></tr><tr><td>validation/evaluate_meteor</td><td>▁█</td></tr><tr><td>validation/evaluate_rouge1</td><td>▁█</td></tr><tr><td>validation/evaluate_rouge2</td><td>▁█</td></tr><tr><td>validation/evaluate_rougeL</td><td>▁█</td></tr><tr><td>validation/evaluate_rougeLsum</td><td>▁█</td></tr></table><br/></div><div class=\"wandb-col\"><h3>Run summary:</h3><br/><table class=\"wandb\"><tr><td>epoch</td><td>4</td></tr><tr><td>grad_norm_lin_proj.bias</td><td>0.0</td></tr><tr><td>grad_norm_lin_proj.weight</td><td>0.0</td></tr><tr><td>grad_norm_proj.0.bias</td><td>0.0</td></tr><tr><td>grad_norm_proj.0.weight</td><td>0.0</td></tr><tr><td>grad_norm_proj.2.bias</td><td>0.0</td></tr><tr><td>grad_norm_proj.2.weight</td><td>0.0</td></tr><tr><td>train_loss</td><td>2.43445</td></tr><tr><td>validation/evaluate_bleu</td><td>10.2435</td></tr><tr><td>validation/evaluate_meteor</td><td>0.29317</td></tr><tr><td>validation/evaluate_rouge1</td><td>0.36547</td></tr><tr><td>validation/evaluate_rouge2</td><td>0.13485</td></tr><tr><td>validation/evaluate_rougeL</td><td>0.30783</td></tr><tr><td>validation/evaluate_rougeLsum</td><td>0.30633</td></tr></table><br/></div></div>"
      ],
      "text/plain": [
       "<IPython.core.display.HTML object>"
      ]
     },
     "metadata": {},
     "output_type": "display_data"
    },
    {
     "data": {
      "text/html": [
       " View run <strong style=\"color:#cdcd00\">expert-firebrand-14</strong> at: <a href='https://wandb.ai/smir_kko/hw-multimodal-llm/runs/lhaewz74' target=\"_blank\">https://wandb.ai/smir_kko/hw-multimodal-llm/runs/lhaewz74</a><br/> View project at: <a href='https://wandb.ai/smir_kko/hw-multimodal-llm' target=\"_blank\">https://wandb.ai/smir_kko/hw-multimodal-llm</a><br/>Synced 6 W&B file(s), 0 media file(s), 0 artifact file(s) and 0 other file(s)"
      ],
      "text/plain": [
       "<IPython.core.display.HTML object>"
      ]
     },
     "metadata": {},
     "output_type": "display_data"
    },
    {
     "data": {
      "text/html": [
       "Find logs at: <code>.\\wandb\\run-20240623_140845-lhaewz74\\logs</code>"
      ],
      "text/plain": [
       "<IPython.core.display.HTML object>"
      ]
     },
     "metadata": {},
     "output_type": "display_data"
    },
    {
     "data": {
      "text/html": [
       "The new W&B backend becomes opt-out in version 0.18.0; try it out with `wandb.require(\"core\")`! See https://wandb.me/wandb-core for more information."
      ],
      "text/plain": [
       "<IPython.core.display.HTML object>"
      ]
     },
     "metadata": {},
     "output_type": "display_data"
    },
    {
     "name": "stderr",
     "output_type": "stream",
     "text": [
      "2024-06-23 14:31:49,935 DEBUG Starting new HTTPS connection (1): o151352.ingest.sentry.io:443\n",
      "2024-06-23 14:31:50,369 DEBUG https://o151352.ingest.sentry.io:443 \"POST /api/4504800232407040/envelope/ HTTP/1.1\" 200 0\n"
     ]
    }
   ],
   "source": [
    "# TODO в этой ячейке я кое-что убрал, но не скажу что)\n",
    "# Подсказка про это была в текстовом описании в начале ноутбука.\n",
    "# И скорее всего, без этого, вам не хватит видео-памяти чтобы обучить адаптер.\n",
    "# Не нужно хранить градиенты для параметров `LLM`. Скорее всего, у вас не хватит для этого памяти.\n",
    "# И это не нужно, тк мы не оптимизируем на этом этапе веса `LLM`.\n",
    "train_config = TrainConfig()\n",
    "\n",
    "log_level = logging.getLevelName(train_config.log_level)\n",
    "logger.info(\"loglevel %s\", train_config.log_level)\n",
    "\n",
    "device = 'cuda' if torch.cuda.is_available() else 'cpu'\n",
    "\n",
    "logger.info(\"load audio encoder\")\n",
    "audio_encoder = DummyAudioEncoder()\n",
    "audio_encoder.to(device)\n",
    "\n",
    "logger.info(\"load language model\")\n",
    "\n",
    "lm_model, tokenizer = llama_lm()\n",
    "freeze_model(lm_model) # TODO\n",
    "lm_model.to(device)\n",
    "\n",
    "mmllm_config = LlaaaConfig()\n",
    "model = Llaaa(lm_model=lm_model, audio_encoder=audio_encoder, config=mmllm_config)\n",
    "\n",
    "logger.info(\"reinitialize weights\")\n",
    "model.reinitialize_weights()\n",
    "\n",
    "trainable_parameters_count = sum(p.numel() for p in model.parameters() if p.requires_grad)\n",
    "total_parameters_count = sum(p.numel() for p in model.parameters())\n",
    "logger.info(f\"trainable model parameters: {trainable_parameters_count}\")\n",
    "logger.info(f\"total model parameters: {total_parameters_count}\")\n",
    "logger.info(f\"trainable model llm parameters: {sum(p.numel() for p in model.lm_model.parameters() if p.requires_grad)}\")\n",
    "logger.info(f\"trainable model audio encoder parameters: {sum(p.numel() for p in model.audio_encoder.parameters() if p.requires_grad)}\")\n",
    "\n",
    "logger.info(\"load train dataloader\")\n",
    "train_dataloader = get_train_dataloader(\n",
    "    train_config, model, tokenizer,\n",
    "    train_dataset_path=train_config.train_dataset_path,\n",
    "    audio_embeds_train_prefix=train_config.audio_embeds_train_prefix,\n",
    ")\n",
    "logger.info(\"load val dataloader\")\n",
    "val_dataloader = get_val_dataloader(\n",
    "    train_config, model, tokenizer,\n",
    "    val_dataset_path=train_config.val_dataset_path,\n",
    "    audio_embeds_val_prefix=train_config.audio_embeds_val_prefix,\n",
    ")\n",
    "\n",
    "logger.info(\"run training\")\n",
    "\n",
    "with wandb.init(project=\"hw-multimodal-llm\") as metric_logger:\n",
    "    train(\n",
    "        model=model,\n",
    "        tokenizer=tokenizer,\n",
    "        metric_logger=metric_logger,\n",
    "        train_dataloader=train_dataloader,\n",
    "        val_dataloader=val_dataloader,\n",
    "        train_config=train_config,\n",
    "    )\n",
    "\n"
   ]
  },
  {
   "cell_type": "code",
   "execution_count": 16,
   "id": "7f97c80e-2edd-4d2a-8909-e757205db908",
   "metadata": {},
   "outputs": [],
   "source": [
    "model.save_pretrained('C:\\\\Users\\\\arssm\\\\0Jupyter_Life\\\\DL\\\\LLM')"
   ]
  },
  {
   "cell_type": "markdown",
   "id": "vRzYDvZYMJ2-",
   "metadata": {
    "id": "vRzYDvZYMJ2-"
   },
   "source": [
    "## Посчитаем метрики на всем валидационном датасете"
   ]
  },
  {
   "cell_type": "code",
   "execution_count": 17,
   "id": "Uca8_PgMMIIZ",
   "metadata": {
    "colab": {
     "base_uri": "https://localhost:8080/"
    },
    "id": "Uca8_PgMMIIZ",
    "outputId": "7764fdd9-fc11-4a60-cb8e-0aeeba187571"
   },
   "outputs": [
    {
     "name": "stderr",
     "output_type": "stream",
     "text": [
      "2024-06-23 14:32:16,833 DEBUG Starting new HTTPS connection (1): s3.amazonaws.com:443\n",
      "2024-06-23 14:32:17,269 DEBUG https://s3.amazonaws.com:443 \"HEAD /datasets.huggingface.co/datasets/metrics/evaluate-metric/bleu/evaluate-metric/bleu.py HTTP/1.1\" 404 0\n",
      "2024-06-23 14:32:17,279 DEBUG Starting new HTTPS connection (1): huggingface.co:443\n",
      "2024-06-23 14:32:17,476 DEBUG https://huggingface.co:443 \"HEAD /spaces/evaluate-metric/bleu/resolve/v0.4.2/bleu.py HTTP/1.1\" 404 0\n",
      "2024-06-23 14:32:17,483 DEBUG Starting new HTTPS connection (1): huggingface.co:443\n",
      "2024-06-23 14:32:17,717 DEBUG https://huggingface.co:443 \"HEAD /spaces/evaluate-metric/bleu/resolve/main/bleu.py HTTP/1.1\" 200 0\n",
      "2024-06-23 14:32:17,737 DEBUG Starting new HTTPS connection (1): github.com:443\n",
      "2024-06-23 14:32:18,006 DEBUG https://github.com:443 \"HEAD /tensorflow/nmt/raw/master/nmt/scripts/bleu.py HTTP/1.1\" 302 0\n",
      "2024-06-23 14:32:18,013 DEBUG Starting new HTTPS connection (1): raw.githubusercontent.com:443\n",
      "2024-06-23 14:32:18,252 DEBUG https://raw.githubusercontent.com:443 \"HEAD /tensorflow/nmt/master/nmt/scripts/bleu.py HTTP/1.1\" 200 0\n",
      "2024-06-23 14:32:18,266 DEBUG Starting new HTTPS connection (1): huggingface.co:443\n",
      "2024-06-23 14:32:18,492 DEBUG https://huggingface.co:443 \"HEAD /spaces/evaluate-metric/bleu/resolve/main/tokenizer_13a.py HTTP/1.1\" 200 0\n",
      "2024-06-23 14:32:18,499 DEBUG Attempting to acquire lock 2797025596272 on C:\\Users\\arssm\\.cache\\huggingface\\modules\\evaluate_modules\\metrics\\evaluate-metric--bleu.lock\n",
      "2024-06-23 14:32:18,500 DEBUG Lock 2797025596272 acquired on C:\\Users\\arssm\\.cache\\huggingface\\modules\\evaluate_modules\\metrics\\evaluate-metric--bleu.lock\n",
      "2024-06-23 14:32:18,501 DEBUG Attempting to release lock 2797025596272 on C:\\Users\\arssm\\.cache\\huggingface\\modules\\evaluate_modules\\metrics\\evaluate-metric--bleu.lock\n",
      "2024-06-23 14:32:18,502 DEBUG Lock 2797025596272 released on C:\\Users\\arssm\\.cache\\huggingface\\modules\\evaluate_modules\\metrics\\evaluate-metric--bleu.lock\n",
      "2024-06-23 14:32:18,508 DEBUG Starting new HTTPS connection (1): s3.amazonaws.com:443\n",
      "2024-06-23 14:32:18,897 DEBUG https://s3.amazonaws.com:443 \"HEAD /datasets.huggingface.co/datasets/metrics/evaluate-metric/rouge/evaluate-metric/rouge.py HTTP/1.1\" 404 0\n",
      "2024-06-23 14:32:18,899 DEBUG Starting new HTTPS connection (1): huggingface.co:443\n",
      "2024-06-23 14:32:19,121 DEBUG https://huggingface.co:443 \"HEAD /spaces/evaluate-metric/rouge/resolve/v0.4.2/rouge.py HTTP/1.1\" 404 0\n",
      "2024-06-23 14:32:19,130 DEBUG Starting new HTTPS connection (1): huggingface.co:443\n",
      "2024-06-23 14:32:19,331 DEBUG https://huggingface.co:443 \"HEAD /spaces/evaluate-metric/rouge/resolve/main/rouge.py HTTP/1.1\" 200 0\n",
      "2024-06-23 14:32:19,348 DEBUG Attempting to acquire lock 2797026047232 on C:\\Users\\arssm\\.cache\\huggingface\\modules\\evaluate_modules\\metrics\\evaluate-metric--rouge.lock\n",
      "2024-06-23 14:32:19,350 DEBUG Lock 2797026047232 acquired on C:\\Users\\arssm\\.cache\\huggingface\\modules\\evaluate_modules\\metrics\\evaluate-metric--rouge.lock\n",
      "2024-06-23 14:32:19,351 DEBUG Attempting to release lock 2797026047232 on C:\\Users\\arssm\\.cache\\huggingface\\modules\\evaluate_modules\\metrics\\evaluate-metric--rouge.lock\n",
      "2024-06-23 14:32:19,353 DEBUG Lock 2797026047232 released on C:\\Users\\arssm\\.cache\\huggingface\\modules\\evaluate_modules\\metrics\\evaluate-metric--rouge.lock\n",
      "2024-06-23 14:32:19,357 DEBUG Starting new HTTPS connection (1): s3.amazonaws.com:443\n",
      "2024-06-23 14:32:19,775 DEBUG https://s3.amazonaws.com:443 \"HEAD /datasets.huggingface.co/datasets/metrics/evaluate-metric/meteor/evaluate-metric/meteor.py HTTP/1.1\" 404 0\n",
      "2024-06-23 14:32:19,781 DEBUG Starting new HTTPS connection (1): huggingface.co:443\n",
      "2024-06-23 14:32:19,997 DEBUG https://huggingface.co:443 \"HEAD /spaces/evaluate-metric/meteor/resolve/v0.4.2/meteor.py HTTP/1.1\" 404 0\n",
      "2024-06-23 14:32:20,006 DEBUG Starting new HTTPS connection (1): huggingface.co:443\n",
      "2024-06-23 14:32:20,206 DEBUG https://huggingface.co:443 \"HEAD /spaces/evaluate-metric/meteor/resolve/main/meteor.py HTTP/1.1\" 200 0\n",
      "2024-06-23 14:32:20,215 DEBUG Attempting to acquire lock 2797027254560 on C:\\Users\\arssm\\.cache\\huggingface\\modules\\evaluate_modules\\metrics\\evaluate-metric--meteor.lock\n",
      "2024-06-23 14:32:20,217 DEBUG Lock 2797027254560 acquired on C:\\Users\\arssm\\.cache\\huggingface\\modules\\evaluate_modules\\metrics\\evaluate-metric--meteor.lock\n",
      "2024-06-23 14:32:20,218 DEBUG Attempting to release lock 2797027254560 on C:\\Users\\arssm\\.cache\\huggingface\\modules\\evaluate_modules\\metrics\\evaluate-metric--meteor.lock\n",
      "2024-06-23 14:32:20,220 DEBUG Lock 2797027254560 released on C:\\Users\\arssm\\.cache\\huggingface\\modules\\evaluate_modules\\metrics\\evaluate-metric--meteor.lock\n",
      "[nltk_data] Downloading package wordnet to\n",
      "[nltk_data]     C:\\Users\\arssm\\AppData\\Roaming\\nltk_data...\n",
      "[nltk_data]   Package wordnet is already up-to-date!\n",
      "[nltk_data] Downloading package punkt to\n",
      "[nltk_data]     C:\\Users\\arssm\\AppData\\Roaming\\nltk_data...\n",
      "[nltk_data]   Package punkt is already up-to-date!\n",
      "[nltk_data] Downloading package omw-1.4 to\n",
      "[nltk_data]     C:\\Users\\arssm\\AppData\\Roaming\\nltk_data...\n",
      "[nltk_data]   Package omw-1.4 is already up-to-date!\n"
     ]
    }
   ],
   "source": [
    "captioning_metrics = evaluate.combine(\n",
    "        [\n",
    "            evaluate.load(\"bleu\", keep_in_memory=True),\n",
    "            evaluate.load(\"rouge\", keep_in_memory=True),\n",
    "            evaluate.load(\"meteor\", keep_in_memory=True),\n",
    "        ]\n",
    "    )"
   ]
  },
  {
   "cell_type": "code",
   "execution_count": 18,
   "id": "53ULiKHtMPId",
   "metadata": {
    "colab": {
     "base_uri": "https://localhost:8080/",
     "height": 176,
     "referenced_widgets": [
      "cb660388460448f1b645cce1cceca998",
      "5bcaa793a4de4acc99e86553016e361b",
      "bf3c154ca496473c84d87387012b5084",
      "dfc61cfcea1f415c931da786acf7110f",
      "2f5892c72713409f9871ff892934aca9",
      "323757fd6f9b4849ac17abb1351abb00",
      "35ad5379e03546c5b4b1b7edb7c4a172",
      "2e0e37c30a9647fd829c5ea0cebb3ae8",
      "a0aea2bbc4994d26811058630c7cfd50",
      "e324ebbd4af8466b91607029d23261ef",
      "2154149361174426ac40fc0ac57da8ff"
     ]
    },
    "id": "53ULiKHtMPId",
    "outputId": "bb81c8ef-8cca-4aab-8454-894068c97c72"
   },
   "outputs": [
    {
     "name": "stderr",
     "output_type": "stream",
     "text": [
      "2024-06-23 14:32:24,372 INFO go validation -1\n"
     ]
    },
    {
     "data": {
      "application/vnd.jupyter.widget-view+json": {
       "model_id": "1f560f186551432abc59361b13e70ff9",
       "version_major": 2,
       "version_minor": 0
      },
      "text/plain": [
       "  0%|          | 0/131 [00:00<?, ?it/s]"
      ]
     },
     "metadata": {},
     "output_type": "display_data"
    },
    {
     "name": "stderr",
     "output_type": "stream",
     "text": [
      "2024-06-23 14:37:19,325 INFO Using default tokenizer.\n",
      "2024-06-23 14:37:25,824 INFO evaluate_bleu_results {'bleu': 0.0777831788507012, 'precisions': [0.4381200465554509, 0.11566066596070126, 0.0443176831943835, 0.016299973168768446], 'brevity_penalty': 1.0, 'length_ratio': 1.7429482225656878, 'translation_length': 18043, 'reference_length': 10352, 'rouge1': 0.34466447200431, 'rouge2': 0.12496668780912443, 'rougeL': 0.29159389419317716, 'rougeLsum': 0.2913731156012332, 'meteor': 0.3413907628246414}\n"
     ]
    },
    {
     "data": {
      "text/plain": [
       "{'validation/evaluate_bleu': 7.77831788507012,\n",
       " 'validation/evaluate_rouge1': 0.34466447200431,\n",
       " 'validation/evaluate_rouge2': 0.12496668780912443,\n",
       " 'validation/evaluate_rougeL': 0.29159389419317716,\n",
       " 'validation/evaluate_rougeLsum': 0.2913731156012332,\n",
       " 'validation/evaluate_meteor': 0.3413907628246414}"
      ]
     },
     "execution_count": 18,
     "metadata": {},
     "output_type": "execute_result"
    }
   ],
   "source": [
    "train_config.few_val_samples = None\n",
    "train_config.val_batch_size = 8\n",
    "full_val_dataloader = get_val_dataloader(\n",
    "    train_config, model, tokenizer,\n",
    "    val_dataset_path=train_config.val_dataset_path,\n",
    "    audio_embeds_val_prefix=train_config.audio_embeds_val_prefix,\n",
    ")\n",
    "\n",
    "\n",
    "validation_metrics = val_loop(model, tokenizer, full_val_dataloader, epoch=-1, captioning_metrics=captioning_metrics)\n",
    "validation_metrics"
   ]
  },
  {
   "cell_type": "code",
   "execution_count": null,
   "id": "c5OiTWA8PS8i",
   "metadata": {
    "colab": {
     "base_uri": "https://localhost:8080/"
    },
    "id": "c5OiTWA8PS8i",
    "outputId": "c0948fa5-b295-4947-cc58-82b5efa4e7db"
   },
   "outputs": [
    {
     "name": "stdout",
     "output_type": "stream",
     "text": [
      "  adding: llaaa_pretrained/ (stored 0%)\n",
      "  adding: llaaa_pretrained/audio_tokens_embeddings.pt (deflated 11%)\n",
      "  adding: llaaa_pretrained/projection.pt (deflated 7%)\n",
      "  adding: llaaa_pretrained/config.json (deflated 21%)\n"
     ]
    }
   ],
   "source": [
    "# Заархивируем данные\n",
    "# В репозиторий в этот раз я предлагаю закоммитить веса через [git-lfs](https://git-lfs.com/)\n",
    "# На стороне гитхаба стоит ограничение на 50MB. Если грузить без lfs\n",
    "# Вот тут гуглится туториал по добавлению файликов в lfs - https://josh-ops.com/posts/add-files-to-git-lfs/\n",
    "\n",
    "# Альтернативный вариант разбить файлик на 10+ кусков-архивов\n",
    "# но это не очень удобно - см `zip -rs 40M ...`\n",
    "\n",
    "# !cd data/models/lunar-dragon-12/ && mv best llaaa_pretrained  && zip llaaa_pretrained.zip llaaa_pretrained/"
   ]
  },
  {
   "cell_type": "code",
   "execution_count": 17,
   "id": "a80c2879-0619-4139-911d-40728b3ca44d",
   "metadata": {},
   "outputs": [
    {
     "name": "stdout",
     "output_type": "stream",
     "text": [
      "Переименование и архивирование завершено.\n"
     ]
    }
   ],
   "source": [
    "# import os\n",
    "# import shutil\n",
    "# import zipfile\n",
    "\n",
    "# # Переход в директорию (не обязательно)\n",
    "# os.chdir('data/models/lunar-dragon-12/')\n",
    "\n",
    "# # Переименование директории\n",
    "# src = 'best'\n",
    "# dst = 'llaaa_pretrained'\n",
    "# if os.path.exists(src):\n",
    "#     shutil.move(src, dst)\n",
    "\n",
    "# # Архивирование директории\n",
    "# shutil.make_archive('llaaa_pretrained', 'zip', dst)\n",
    "\n",
    "# # Проверка результата\n",
    "# print(\"Переименование и архивирование завершено.\")\n"
   ]
  },
  {
   "cell_type": "markdown",
   "id": "FeEx6rUx4jJL",
   "metadata": {
    "id": "FeEx6rUx4jJL"
   },
   "source": [
    "> **Важно!** Дальнейшие действия не оценятся автогрейдером. Если справились с первичным обучениеп адаптера, загрузите решение на гитхаб. Потом, если есть желание, можете попробовать получить бонусные баллы.\n",
    "\n"
   ]
  },
  {
   "cell_type": "markdown",
   "id": "1f9ca384-99ca-4e77-8421-e0ed659ab1c3",
   "metadata": {
    "id": "1f9ca384-99ca-4e77-8421-e0ed659ab1c3"
   },
   "source": [
    "# Файнтюним LoRA адаптер LLM'ки вместе с дообучением нашего адаптера для аудио модальности\n",
    "\n",
    "> **Важно!** Дальнейшие действия не оценятся автогрейдером. Если справились с первичным обучениеп адаптера, загрузите решение на гитхаб. Потом, если есть желание, можете попробовать получить бонусные баллы.\n",
    "\n",
    "\n",
    "`peft` -- это библиотека от HF для эффктивного файнтюна LLM.\n",
    "\n",
    "Чаще всего используется метод [LoRA](https://huggingface.co/docs/peft/main/en/conceptual_guides/lora) для файнтюна LLM -- настоятельно рекомендую почитать доку про этот метод в HF.\n",
    "\n",
    "Хотя есть и другие методы:\n",
    "* [Prompt-based methods](https://huggingface.co/docs/peft/main/en/task_guides/prompt_based_methods)\n",
    "* [IA3](https://huggingface.co/docs/peft/main/en/task_guides/ia3)\n",
    "\n"
   ]
  },
  {
   "cell_type": "code",
   "execution_count": 28,
   "id": "Rt60nGo0OhcE",
   "metadata": {
    "id": "Rt60nGo0OhcE"
   },
   "outputs": [],
   "source": [
    "from peft import PeftModel, LoraConfig\n",
    "from peft import PeftConfig\n",
    "import peft\n",
    "\n",
    "def peft_llama_lm(from_pretrained=None):\n",
    "    model_name = \"TinyLlama/TinyLlama-1.1B-Chat-v0.4\"\n",
    "    lm_model = TinyLlamaLanguageModel.from_pretrained(model_name)\n",
    "\n",
    "    if from_pretrained is None:\n",
    "        lora_config = LoraConfig(\n",
    "            r=16,\n",
    "            lora_alpha=32,\n",
    "            target_modules=[\"q_proj\", \"v_proj\"],\n",
    "            lora_dropout=0.05,\n",
    "            bias=\"none\",\n",
    "            task_type=\"CAUSAL_LM\"\n",
    "        )\n",
    "        lm_model = PeftTinyLlamaLanguageModel(lm_model, lora_config)\n",
    "    else:\n",
    "        lm_model = PeftTinyLlamaLanguageModel.from_pretrained(lm_model, from_pretrained)\n",
    "\n",
    "    tokenizer = AutoTokenizer.from_pretrained(model_name)\n",
    "\n",
    "    return lm_model, tokenizer\n",
    "\n",
    "\n",
    "\n",
    "\n",
    "class PeftTinyLlamaLanguageModel(PeftModel):\n",
    "\n",
    "    def encode_text(self, intput_ids=None):\n",
    "        #          .peft.llama_model\n",
    "        return self.model.model.embed_tokens(intput_ids)\n",
    "\n",
    "    @classmethod\n",
    "    def from_pretrained(\n",
    "        cls,\n",
    "        model: PreTrainedModel,\n",
    "        model_id: Union[str, os.PathLike],\n",
    "        adapter_name: str = \"default\",\n",
    "        is_trainable: bool = False,\n",
    "        config: Optional[PeftConfig] = None,\n",
    "        **kwargs: Any,\n",
    "    ):\n",
    "        from peft.mapping import PEFT_TYPE_TO_CONFIG_MAPPING\n",
    "\n",
    "        # load the config\n",
    "        if config is None:\n",
    "            config = PEFT_TYPE_TO_CONFIG_MAPPING[\n",
    "                PeftConfig._get_peft_type(\n",
    "                    model_id,\n",
    "                    subfolder=kwargs.get(\"subfolder\", None),\n",
    "                    revision=kwargs.get(\"revision\", None),\n",
    "                    cache_dir=kwargs.get(\"cache_dir\", None),\n",
    "                    use_auth_token=kwargs.get(\"use_auth_token\", None),\n",
    "                )\n",
    "            ].from_pretrained(model_id, **kwargs)\n",
    "        elif isinstance(config, PeftConfig):\n",
    "            config.inference_mode = not is_trainable\n",
    "        else:\n",
    "            raise ValueError(f\"The input config must be a PeftConfig, got {config.__class__}\")\n",
    "\n",
    "        if (getattr(model, \"hf_device_map\", None) is not None) and len(\n",
    "            set(model.hf_device_map.values()).intersection({\"cpu\", \"disk\"})\n",
    "        ) > 0:\n",
    "            peft.remove_hook_from_submodules(model)\n",
    "\n",
    "        if config.is_prompt_learning and is_trainable:\n",
    "            raise ValueError(\"Cannot set a prompt learning adapter to trainable when loading pretrained adapter.\")\n",
    "        else:\n",
    "            config.inference_mode = not is_trainable\n",
    "\n",
    "        model = cls(model, config, adapter_name)\n",
    "        model.load_adapter(model_id, adapter_name, is_trainable=is_trainable, **kwargs)\n",
    "        return model"
   ]
  },
  {
   "cell_type": "code",
   "execution_count": 29,
   "id": "90ac0a82-c771-44bb-88f7-3f16b1c3da17",
   "metadata": {
    "id": "90ac0a82-c771-44bb-88f7-3f16b1c3da17"
   },
   "outputs": [],
   "source": [
    "class PeftTrainConfig:\n",
    "    log_level = \"DEBUG\"\n",
    "    # Training\n",
    "    num_epochs = 15\n",
    "    train_batch_size = 8\n",
    "    val_batch_size = 1\n",
    "    log_grad_norm = True\n",
    "    learning_rate = 1e-4\n",
    "    gradient_accumulation_steps = 1\n",
    "\n",
    "    evaluate_every_epoch_mod = 4\n",
    "    save_model_every_epoch_mod = 1\n",
    "\n",
    "    # Model\n",
    "    llaaa_from_pretrained = \"data/models/swept-forest-9/best/\"\n",
    "    modality_tokens = 32\n",
    "    llm_train_lora = True\n",
    "    llm_lora_from_pretrained = None\n",
    "\n",
    "    # Data\n",
    "    few_train_samples = None\n",
    "    few_val_samples = 100\n",
    "    dataloader_num_workers = 0\n",
    "\n",
    "    train_dataset_path = \"data/CLOTHO_v2.1/clotho_hf_dataset/clotho_development_imagebind_single.dataset/\"\n",
    "    audio_embeds_train_prefix = \"data/CLOTHO_v2.1/clotho_audio_embeds_processed_imagebind_single/development/\"\n",
    "\n",
    "    val_dataset_path = \"data/CLOTHO_v2.1/clotho_hf_dataset/clotho_validation_imagebind_single.dataset/\"\n",
    "    audio_embeds_val_prefix = \"data/CLOTHO_v2.1/clotho_audio_embeds_processed_imagebind_single/validation/\"\n"
   ]
  },
  {
   "cell_type": "code",
   "execution_count": 22,
   "id": "ceb461ac-10aa-47c1-9a2e-ff6e3ee20237",
   "metadata": {
    "id": "ceb461ac-10aa-47c1-9a2e-ff6e3ee20237",
    "outputId": "0b562d12-f754-445f-c0a6-03d6aaf88aea"
   },
   "outputs": [
    {
     "name": "stdout",
     "output_type": "stream",
     "text": [
      " Том в устройстве C не имеет метки.\n",
      " Серийный номер тома: 56BB-6321\n",
      "\n",
      " Содержимое папки C:\\Users\\arssm\\0Jupyter_Life\\DL\\LLM\\data\\models\\swept-forest-9\\best\n",
      "\n",
      "23.06.2024  00:51    <DIR>          DESK-ARS\\arssm         .\n",
      "23.06.2024  00:51    <DIR>          DESK-ARS\\arssm         ..\n",
      "23.06.2024  01:04            17 772 DESK-ARS\\arssm         audio_tokens_embeddings.pt\n",
      "23.06.2024  01:04               125 DESK-ARS\\arssm         config.json\n",
      "23.06.2024  01:04       537 396 778 DESK-ARS\\arssm         projection.pt\n",
      "               3 файлов    537 414 675 байт\n",
      "               2 папок  534 493 265 920 байт свободно\n"
     ]
    }
   ],
   "source": [
    "!dir /Q data\\models\\swept-forest-9\\best"
   ]
  },
  {
   "cell_type": "code",
   "execution_count": 30,
   "id": "1fb18412-af0e-4b53-87f6-61ec68c6e842",
   "metadata": {
    "id": "1fb18412-af0e-4b53-87f6-61ec68c6e842",
    "scrolled": true
   },
   "outputs": [
    {
     "name": "stderr",
     "output_type": "stream",
     "text": [
      "2024-06-23 01:23:35,779 DEBUG Resetting dropped connection: huggingface.co\n",
      "2024-06-23 01:23:36,003 DEBUG https://huggingface.co:443 \"HEAD /TinyLlama/TinyLlama-1.1B-Chat-v0.4/resolve/main/config.json HTTP/1.1\" 200 0\n",
      "2024-06-23 01:23:36,197 DEBUG https://huggingface.co:443 \"HEAD /TinyLlama/TinyLlama-1.1B-Chat-v0.4/resolve/main/config.json HTTP/1.1\" 200 0\n",
      "2024-06-23 01:23:42,086 DEBUG https://huggingface.co:443 \"HEAD /TinyLlama/TinyLlama-1.1B-Chat-v0.4/resolve/main/generation_config.json HTTP/1.1\" 200 0\n",
      "2024-06-23 01:23:43,740 DEBUG https://huggingface.co:443 \"HEAD /TinyLlama/TinyLlama-1.1B-Chat-v0.4/resolve/main/tokenizer_config.json HTTP/1.1\" 200 0\n",
      "2024-06-23 01:23:43,851 INFO load llaaa weights: data/models/swept-forest-9/best/\n",
      "C:\\Users\\arssm\\AppData\\Local\\Temp\\ipykernel_12620\\2754879042.py:49: UserWarning: Unknown 3 keywords arguments for LlaaaConfig. (found ('transformers_version', '_commit_hash', 'attn_implementation'))\n",
      "  warnings.warn(\n",
      "2024-06-23 01:23:45,645 INFO load train dataloader\n",
      "2024-06-23 01:23:45,744 INFO load val dataloader\n",
      "2024-06-23 01:23:45,760 INFO run training\n"
     ]
    }
   ],
   "source": [
    "peft_train_config = PeftTrainConfig()\n",
    "\n",
    "lm_model, tokenizer = peft_llama_lm(from_pretrained=peft_train_config.llm_lora_from_pretrained)\n",
    "\n",
    "logger.info(\"load llaaa weights: %s\", peft_train_config.llaaa_from_pretrained)\n",
    "\n",
    "device = 'cuda' if torch.cuda.is_available() else 'cpu'\n",
    "\n",
    "audio_encoder = DummyAudioEncoder()\n",
    "audio_encoder.to(device)\n",
    "\n",
    "freeze_model(audio_encoder)\n",
    "\n",
    "llaaa_from_pretrained = pathlib.Path(peft_train_config.llaaa_from_pretrained)\n",
    "model = Llaaa.from_pretrained(lm_model, audio_encoder, llaaa_from_pretrained)\n",
    "\n",
    "logger.info(\"load train dataloader\")\n",
    "train_dataloader = get_train_dataloader(\n",
    "    peft_train_config, model, tokenizer,\n",
    "    train_dataset_path=peft_train_config.train_dataset_path,\n",
    "    audio_embeds_train_prefix=peft_train_config.audio_embeds_train_prefix,\n",
    ")\n",
    "logger.info(\"load val dataloader\")\n",
    "val_dataloader = get_val_dataloader(\n",
    "    peft_train_config, model, tokenizer,\n",
    "    val_dataset_path=peft_train_config.val_dataset_path,\n",
    "    audio_embeds_val_prefix=peft_train_config.audio_embeds_val_prefix,\n",
    ")\n",
    "\n",
    "logger.info(\"run training\")\n",
    "\n",
    "\n",
    "# audio_tokens_embeddings = torch.load(llaaa_from_pretrained.joinpath('audio_tokens_embeddings.pt'))\n",
    "# projection = torch.load(llaaa_from_pretrained.joinpath('projection.pt'))\n",
    "# model.audio_tokens_embeddings.load_state_dict(audio_tokens_embeddings)\n",
    "# model.projection.load_state_dict(projection)\n"
   ]
  },
  {
   "cell_type": "code",
   "execution_count": 31,
   "id": "a5987cb1-5ece-4dfd-a2c7-eb0ca9467128",
   "metadata": {
    "id": "a5987cb1-5ece-4dfd-a2c7-eb0ca9467128",
    "scrolled": true
   },
   "outputs": [
    {
     "data": {
      "text/html": [
       "Tracking run with wandb version 0.17.2"
      ],
      "text/plain": [
       "<IPython.core.display.HTML object>"
      ]
     },
     "metadata": {},
     "output_type": "display_data"
    },
    {
     "data": {
      "text/html": [
       "Run data is saved locally in <code>C:\\Users\\arssm\\0Jupyter_Life\\DL\\LLM\\wandb\\run-20240623_012359-qqikclhq</code>"
      ],
      "text/plain": [
       "<IPython.core.display.HTML object>"
      ]
     },
     "metadata": {},
     "output_type": "display_data"
    },
    {
     "data": {
      "text/html": [
       "Syncing run <strong><a href='https://wandb.ai/smir_kko/hw-multimodal-llm-peft/runs/qqikclhq' target=\"_blank\">honest-dream-1</a></strong> to <a href='https://wandb.ai/smir_kko/hw-multimodal-llm-peft' target=\"_blank\">Weights & Biases</a> (<a href='https://wandb.me/run' target=\"_blank\">docs</a>)<br/>"
      ],
      "text/plain": [
       "<IPython.core.display.HTML object>"
      ]
     },
     "metadata": {},
     "output_type": "display_data"
    },
    {
     "data": {
      "text/html": [
       " View project at <a href='https://wandb.ai/smir_kko/hw-multimodal-llm-peft' target=\"_blank\">https://wandb.ai/smir_kko/hw-multimodal-llm-peft</a>"
      ],
      "text/plain": [
       "<IPython.core.display.HTML object>"
      ]
     },
     "metadata": {},
     "output_type": "display_data"
    },
    {
     "data": {
      "text/html": [
       " View run at <a href='https://wandb.ai/smir_kko/hw-multimodal-llm-peft/runs/qqikclhq' target=\"_blank\">https://wandb.ai/smir_kko/hw-multimodal-llm-peft/runs/qqikclhq</a>"
      ],
      "text/plain": [
       "<IPython.core.display.HTML object>"
      ]
     },
     "metadata": {},
     "output_type": "display_data"
    },
    {
     "name": "stderr",
     "output_type": "stream",
     "text": [
      "2024-06-23 01:24:05,811 DEBUG Starting new HTTPS connection (1): s3.amazonaws.com:443\n",
      "2024-06-23 01:24:06,254 DEBUG https://s3.amazonaws.com:443 \"HEAD /datasets.huggingface.co/datasets/metrics/evaluate-metric/bleu/evaluate-metric/bleu.py HTTP/1.1\" 404 0\n",
      "2024-06-23 01:24:06,269 DEBUG Starting new HTTPS connection (1): huggingface.co:443\n",
      "2024-06-23 01:24:06,472 DEBUG https://huggingface.co:443 \"HEAD /spaces/evaluate-metric/bleu/resolve/v0.4.2/bleu.py HTTP/1.1\" 404 0\n",
      "2024-06-23 01:24:06,474 DEBUG Starting new HTTPS connection (1): huggingface.co:443\n",
      "2024-06-23 01:24:06,660 DEBUG https://huggingface.co:443 \"HEAD /spaces/evaluate-metric/bleu/resolve/main/bleu.py HTTP/1.1\" 200 0\n",
      "2024-06-23 01:24:06,673 DEBUG Starting new HTTPS connection (1): github.com:443\n",
      "2024-06-23 01:24:06,941 DEBUG https://github.com:443 \"HEAD /tensorflow/nmt/raw/master/nmt/scripts/bleu.py HTTP/1.1\" 302 0\n",
      "2024-06-23 01:24:06,944 DEBUG Starting new HTTPS connection (1): raw.githubusercontent.com:443\n",
      "2024-06-23 01:24:07,170 DEBUG https://raw.githubusercontent.com:443 \"HEAD /tensorflow/nmt/master/nmt/scripts/bleu.py HTTP/1.1\" 200 0\n",
      "2024-06-23 01:24:07,187 DEBUG Starting new HTTPS connection (1): huggingface.co:443\n",
      "2024-06-23 01:24:07,402 DEBUG https://huggingface.co:443 \"HEAD /spaces/evaluate-metric/bleu/resolve/main/tokenizer_13a.py HTTP/1.1\" 200 0\n",
      "2024-06-23 01:24:07,420 DEBUG Attempting to acquire lock 2054978715920 on C:\\Users\\arssm\\.cache\\huggingface\\modules\\evaluate_modules\\metrics\\evaluate-metric--bleu.lock\n",
      "2024-06-23 01:24:07,422 DEBUG Lock 2054978715920 acquired on C:\\Users\\arssm\\.cache\\huggingface\\modules\\evaluate_modules\\metrics\\evaluate-metric--bleu.lock\n",
      "2024-06-23 01:24:07,425 DEBUG Attempting to release lock 2054978715920 on C:\\Users\\arssm\\.cache\\huggingface\\modules\\evaluate_modules\\metrics\\evaluate-metric--bleu.lock\n",
      "2024-06-23 01:24:07,426 DEBUG Lock 2054978715920 released on C:\\Users\\arssm\\.cache\\huggingface\\modules\\evaluate_modules\\metrics\\evaluate-metric--bleu.lock\n",
      "2024-06-23 01:24:07,456 DEBUG Starting new HTTPS connection (1): s3.amazonaws.com:443\n",
      "2024-06-23 01:24:07,852 DEBUG https://s3.amazonaws.com:443 \"HEAD /datasets.huggingface.co/datasets/metrics/evaluate-metric/rouge/evaluate-metric/rouge.py HTTP/1.1\" 404 0\n",
      "2024-06-23 01:24:07,861 DEBUG Starting new HTTPS connection (1): huggingface.co:443\n",
      "2024-06-23 01:24:08,053 DEBUG https://huggingface.co:443 \"HEAD /spaces/evaluate-metric/rouge/resolve/v0.4.2/rouge.py HTTP/1.1\" 404 0\n",
      "2024-06-23 01:24:08,066 DEBUG Starting new HTTPS connection (1): huggingface.co:443\n",
      "2024-06-23 01:24:08,264 DEBUG https://huggingface.co:443 \"HEAD /spaces/evaluate-metric/rouge/resolve/main/rouge.py HTTP/1.1\" 200 0\n",
      "2024-06-23 01:24:08,281 DEBUG Attempting to acquire lock 2054262682208 on C:\\Users\\arssm\\.cache\\huggingface\\modules\\evaluate_modules\\metrics\\evaluate-metric--rouge.lock\n",
      "2024-06-23 01:24:08,283 DEBUG Lock 2054262682208 acquired on C:\\Users\\arssm\\.cache\\huggingface\\modules\\evaluate_modules\\metrics\\evaluate-metric--rouge.lock\n",
      "2024-06-23 01:24:08,284 DEBUG Attempting to release lock 2054262682208 on C:\\Users\\arssm\\.cache\\huggingface\\modules\\evaluate_modules\\metrics\\evaluate-metric--rouge.lock\n",
      "2024-06-23 01:24:08,286 DEBUG Lock 2054262682208 released on C:\\Users\\arssm\\.cache\\huggingface\\modules\\evaluate_modules\\metrics\\evaluate-metric--rouge.lock\n",
      "2024-06-23 01:24:08,291 DEBUG Starting new HTTPS connection (1): s3.amazonaws.com:443\n",
      "2024-06-23 01:24:08,676 DEBUG https://s3.amazonaws.com:443 \"HEAD /datasets.huggingface.co/datasets/metrics/evaluate-metric/meteor/evaluate-metric/meteor.py HTTP/1.1\" 404 0\n",
      "2024-06-23 01:24:08,694 DEBUG Starting new HTTPS connection (1): huggingface.co:443\n",
      "2024-06-23 01:24:09,100 DEBUG https://huggingface.co:443 \"HEAD /spaces/evaluate-metric/meteor/resolve/v0.4.2/meteor.py HTTP/1.1\" 404 0\n",
      "2024-06-23 01:24:09,104 DEBUG Starting new HTTPS connection (1): huggingface.co:443\n",
      "2024-06-23 01:24:09,296 DEBUG https://huggingface.co:443 \"HEAD /spaces/evaluate-metric/meteor/resolve/main/meteor.py HTTP/1.1\" 200 0\n",
      "2024-06-23 01:24:09,306 DEBUG Attempting to acquire lock 2054991817584 on C:\\Users\\arssm\\.cache\\huggingface\\modules\\evaluate_modules\\metrics\\evaluate-metric--meteor.lock\n",
      "2024-06-23 01:24:09,307 DEBUG Lock 2054991817584 acquired on C:\\Users\\arssm\\.cache\\huggingface\\modules\\evaluate_modules\\metrics\\evaluate-metric--meteor.lock\n",
      "2024-06-23 01:24:09,308 DEBUG Attempting to release lock 2054991817584 on C:\\Users\\arssm\\.cache\\huggingface\\modules\\evaluate_modules\\metrics\\evaluate-metric--meteor.lock\n",
      "2024-06-23 01:24:09,310 DEBUG Lock 2054991817584 released on C:\\Users\\arssm\\.cache\\huggingface\\modules\\evaluate_modules\\metrics\\evaluate-metric--meteor.lock\n",
      "[nltk_data] Downloading package wordnet to\n",
      "[nltk_data]     C:\\Users\\arssm\\AppData\\Roaming\\nltk_data...\n",
      "[nltk_data]   Package wordnet is already up-to-date!\n",
      "[nltk_data] Downloading package punkt to\n",
      "[nltk_data]     C:\\Users\\arssm\\AppData\\Roaming\\nltk_data...\n",
      "[nltk_data]   Package punkt is already up-to-date!\n",
      "[nltk_data] Downloading package omw-1.4 to\n",
      "[nltk_data]     C:\\Users\\arssm\\AppData\\Roaming\\nltk_data...\n",
      "[nltk_data]   Package omw-1.4 is already up-to-date!\n"
     ]
    },
    {
     "data": {
      "application/vnd.jupyter.widget-view+json": {
       "model_id": "a892835b5f40427e961746e752dae8f2",
       "version_major": 2,
       "version_minor": 0
      },
      "text/plain": [
       "Epoch 0:   0%|          | 0/479 [00:00<?, ?it/s]"
      ]
     },
     "metadata": {},
     "output_type": "display_data"
    },
    {
     "name": "stderr",
     "output_type": "stream",
     "text": [
      "2024-06-23 01:28:07,100 INFO go validation 0\n"
     ]
    },
    {
     "data": {
      "application/vnd.jupyter.widget-view+json": {
       "model_id": "28a4a34d8f40422ca7f30eac6237f689",
       "version_major": 2,
       "version_minor": 0
      },
      "text/plain": [
       "  0%|          | 0/100 [00:00<?, ?it/s]"
      ]
     },
     "metadata": {},
     "output_type": "display_data"
    },
    {
     "name": "stderr",
     "output_type": "stream",
     "text": [
      "2024-06-23 01:29:41,752 INFO Using default tokenizer.\n",
      "2024-06-23 01:29:42,494 INFO evaluate_bleu_results {'bleu': 0.05584922636961504, 'precisions': [0.4437299035369775, 0.09003496503496504, 0.028735632183908046, 0.00847457627118644], 'brevity_penalty': 1.0, 'length_ratio': 1.2124756335282652, 'translation_length': 1244, 'reference_length': 1026, 'rouge1': 0.3301201860184502, 'rouge2': 0.09150369168575267, 'rougeL': 0.2688028954758369, 'rougeLsum': 0.26922956923436414, 'meteor': 0.26987091217259257}\n",
      "2024-06-23 01:29:42,495 INFO validation metrics {'validation/evaluate_bleu': 5.584922636961505, 'validation/evaluate_rouge1': 0.3301201860184502, 'validation/evaluate_rouge2': 0.09150369168575267, 'validation/evaluate_rougeL': 0.2688028954758369, 'validation/evaluate_rougeLsum': 0.26922956923436414, 'validation/evaluate_meteor': 0.26987091217259257}\n",
      "2024-06-23 01:29:42,498 INFO save model to data\\models\\honest-dream-1\\best\n",
      "2024-06-23 01:29:43,661 INFO save model to data\\models\\honest-dream-1\\last\n"
     ]
    },
    {
     "data": {
      "application/vnd.jupyter.widget-view+json": {
       "model_id": "a54de041564845f397360e0152eba14d",
       "version_major": 2,
       "version_minor": 0
      },
      "text/plain": [
       "Epoch 1:   0%|          | 0/479 [00:00<?, ?it/s]"
      ]
     },
     "metadata": {},
     "output_type": "display_data"
    },
    {
     "name": "stderr",
     "output_type": "stream",
     "text": [
      "2024-06-23 01:33:37,399 INFO save model to data\\models\\honest-dream-1\\last\n"
     ]
    },
    {
     "data": {
      "application/vnd.jupyter.widget-view+json": {
       "model_id": "399f6c5880bf4d37ac1160b0416cacf0",
       "version_major": 2,
       "version_minor": 0
      },
      "text/plain": [
       "Epoch 2:   0%|          | 0/479 [00:00<?, ?it/s]"
      ]
     },
     "metadata": {},
     "output_type": "display_data"
    },
    {
     "name": "stderr",
     "output_type": "stream",
     "text": [
      "2024-06-23 01:37:32,717 INFO save model to data\\models\\honest-dream-1\\last\n"
     ]
    },
    {
     "data": {
      "application/vnd.jupyter.widget-view+json": {
       "model_id": "3877535edb2741309f7161c6385f2224",
       "version_major": 2,
       "version_minor": 0
      },
      "text/plain": [
       "Epoch 3:   0%|          | 0/479 [00:00<?, ?it/s]"
      ]
     },
     "metadata": {},
     "output_type": "display_data"
    },
    {
     "name": "stderr",
     "output_type": "stream",
     "text": [
      "2024-06-23 01:41:27,182 INFO save model to data\\models\\honest-dream-1\\last\n"
     ]
    },
    {
     "data": {
      "application/vnd.jupyter.widget-view+json": {
       "model_id": "fa1ada7dee90421d80250929da353c69",
       "version_major": 2,
       "version_minor": 0
      },
      "text/plain": [
       "Epoch 4:   0%|          | 0/479 [00:00<?, ?it/s]"
      ]
     },
     "metadata": {},
     "output_type": "display_data"
    },
    {
     "name": "stderr",
     "output_type": "stream",
     "text": [
      "2024-06-23 01:45:21,211 INFO go validation 4\n"
     ]
    },
    {
     "data": {
      "application/vnd.jupyter.widget-view+json": {
       "model_id": "61630d7adece466d82343dc0339ca5ea",
       "version_major": 2,
       "version_minor": 0
      },
      "text/plain": [
       "  0%|          | 0/100 [00:00<?, ?it/s]"
      ]
     },
     "metadata": {},
     "output_type": "display_data"
    },
    {
     "name": "stderr",
     "output_type": "stream",
     "text": [
      "2024-06-23 01:46:54,969 INFO Using default tokenizer.\n",
      "2024-06-23 01:46:55,638 INFO evaluate_bleu_results {'bleu': 0.06729058632974053, 'precisions': [0.4549800796812749, 0.09956709956709957, 0.03601895734597156, 0.012565445026178011], 'brevity_penalty': 1.0, 'length_ratio': 1.2231968810916178, 'translation_length': 1255, 'reference_length': 1026, 'rouge1': 0.3509998605468112, 'rouge2': 0.1040502279401258, 'rougeL': 0.2951558765056362, 'rougeLsum': 0.2959805223813886, 'meteor': 0.28016096154448117}\n",
      "2024-06-23 01:46:55,640 INFO validation metrics {'validation/evaluate_bleu': 6.729058632974053, 'validation/evaluate_rouge1': 0.3509998605468112, 'validation/evaluate_rouge2': 0.1040502279401258, 'validation/evaluate_rougeL': 0.2951558765056362, 'validation/evaluate_rougeLsum': 0.2959805223813886, 'validation/evaluate_meteor': 0.28016096154448117}\n",
      "2024-06-23 01:46:55,641 INFO save model to data\\models\\honest-dream-1\\best\n",
      "2024-06-23 01:46:56,404 INFO save model to data\\models\\honest-dream-1\\last\n"
     ]
    },
    {
     "data": {
      "application/vnd.jupyter.widget-view+json": {
       "model_id": "908dc4bc37f44a568ea20e556ed366d6",
       "version_major": 2,
       "version_minor": 0
      },
      "text/plain": [
       "Epoch 5:   0%|          | 0/479 [00:00<?, ?it/s]"
      ]
     },
     "metadata": {},
     "output_type": "display_data"
    },
    {
     "name": "stderr",
     "output_type": "stream",
     "text": [
      "2024-06-23 01:50:52,073 INFO save model to data\\models\\honest-dream-1\\last\n"
     ]
    },
    {
     "data": {
      "application/vnd.jupyter.widget-view+json": {
       "model_id": "ab2e630b41ec4419886366c81089bc89",
       "version_major": 2,
       "version_minor": 0
      },
      "text/plain": [
       "Epoch 6:   0%|          | 0/479 [00:00<?, ?it/s]"
      ]
     },
     "metadata": {},
     "output_type": "display_data"
    },
    {
     "name": "stderr",
     "output_type": "stream",
     "text": [
      "2024-06-23 01:54:45,827 INFO save model to data\\models\\honest-dream-1\\last\n"
     ]
    },
    {
     "data": {
      "application/vnd.jupyter.widget-view+json": {
       "model_id": "f1c2dd41706f4a83ab59adf067e01318",
       "version_major": 2,
       "version_minor": 0
      },
      "text/plain": [
       "Epoch 7:   0%|          | 0/479 [00:00<?, ?it/s]"
      ]
     },
     "metadata": {},
     "output_type": "display_data"
    },
    {
     "name": "stderr",
     "output_type": "stream",
     "text": [
      "2024-06-23 01:58:41,856 INFO save model to data\\models\\honest-dream-1\\last\n"
     ]
    },
    {
     "data": {
      "application/vnd.jupyter.widget-view+json": {
       "model_id": "a0660629c2994895bd6454738806862b",
       "version_major": 2,
       "version_minor": 0
      },
      "text/plain": [
       "Epoch 8:   0%|          | 0/479 [00:00<?, ?it/s]"
      ]
     },
     "metadata": {},
     "output_type": "display_data"
    },
    {
     "name": "stderr",
     "output_type": "stream",
     "text": [
      "2024-06-23 02:02:35,793 INFO go validation 8\n"
     ]
    },
    {
     "data": {
      "application/vnd.jupyter.widget-view+json": {
       "model_id": "42908033e43e44a1b50c7f36b0950bea",
       "version_major": 2,
       "version_minor": 0
      },
      "text/plain": [
       "  0%|          | 0/100 [00:00<?, ?it/s]"
      ]
     },
     "metadata": {},
     "output_type": "display_data"
    },
    {
     "name": "stderr",
     "output_type": "stream",
     "text": [
      "2024-06-23 02:04:10,747 INFO Using default tokenizer.\n",
      "2024-06-23 02:04:11,434 INFO evaluate_bleu_results {'bleu': 0.07288516500218728, 'precisions': [0.44251968503937006, 0.10341880341880341, 0.037383177570093455, 0.016494845360824743], 'brevity_penalty': 1.0, 'length_ratio': 1.2378167641325537, 'translation_length': 1270, 'reference_length': 1026, 'rouge1': 0.3384924526186996, 'rouge2': 0.11473489266146347, 'rougeL': 0.30009764744214595, 'rougeLsum': 0.3002459060825564, 'meteor': 0.29204298233883047}\n",
      "2024-06-23 02:04:11,435 INFO validation metrics {'validation/evaluate_bleu': 7.288516500218728, 'validation/evaluate_rouge1': 0.3384924526186996, 'validation/evaluate_rouge2': 0.11473489266146347, 'validation/evaluate_rougeL': 0.30009764744214595, 'validation/evaluate_rougeLsum': 0.3002459060825564, 'validation/evaluate_meteor': 0.29204298233883047}\n",
      "2024-06-23 02:04:11,437 INFO save model to data\\models\\honest-dream-1\\best\n",
      "2024-06-23 02:04:12,204 INFO save model to data\\models\\honest-dream-1\\last\n"
     ]
    },
    {
     "data": {
      "application/vnd.jupyter.widget-view+json": {
       "model_id": "abe7d0ebe5e24c0d9d468e189ef9d681",
       "version_major": 2,
       "version_minor": 0
      },
      "text/plain": [
       "Epoch 9:   0%|          | 0/479 [00:00<?, ?it/s]"
      ]
     },
     "metadata": {},
     "output_type": "display_data"
    },
    {
     "name": "stderr",
     "output_type": "stream",
     "text": [
      "2024-06-23 02:08:06,214 INFO save model to data\\models\\honest-dream-1\\last\n"
     ]
    },
    {
     "data": {
      "application/vnd.jupyter.widget-view+json": {
       "model_id": "6079d36441f8470abc8dfa140c040676",
       "version_major": 2,
       "version_minor": 0
      },
      "text/plain": [
       "Epoch 10:   0%|          | 0/479 [00:00<?, ?it/s]"
      ]
     },
     "metadata": {},
     "output_type": "display_data"
    },
    {
     "name": "stderr",
     "output_type": "stream",
     "text": [
      "2024-06-23 02:12:00,774 INFO save model to data\\models\\honest-dream-1\\last\n"
     ]
    },
    {
     "data": {
      "application/vnd.jupyter.widget-view+json": {
       "model_id": "538730872a1244d3bcde6f35794132d1",
       "version_major": 2,
       "version_minor": 0
      },
      "text/plain": [
       "Epoch 11:   0%|          | 0/479 [00:00<?, ?it/s]"
      ]
     },
     "metadata": {},
     "output_type": "display_data"
    },
    {
     "name": "stderr",
     "output_type": "stream",
     "text": [
      "2024-06-23 02:15:55,493 INFO save model to data\\models\\honest-dream-1\\last\n"
     ]
    },
    {
     "data": {
      "application/vnd.jupyter.widget-view+json": {
       "model_id": "502e553420a74bc6a290957e49699928",
       "version_major": 2,
       "version_minor": 0
      },
      "text/plain": [
       "Epoch 12:   0%|          | 0/479 [00:00<?, ?it/s]"
      ]
     },
     "metadata": {},
     "output_type": "display_data"
    },
    {
     "name": "stderr",
     "output_type": "stream",
     "text": [
      "2024-06-23 02:19:48,779 INFO go validation 12\n"
     ]
    },
    {
     "data": {
      "application/vnd.jupyter.widget-view+json": {
       "model_id": "08408e97af8d4cbd920483a940500483",
       "version_major": 2,
       "version_minor": 0
      },
      "text/plain": [
       "  0%|          | 0/100 [00:00<?, ?it/s]"
      ]
     },
     "metadata": {},
     "output_type": "display_data"
    },
    {
     "name": "stderr",
     "output_type": "stream",
     "text": [
      "2024-06-23 02:21:24,670 INFO Using default tokenizer.\n",
      "2024-06-23 02:21:25,380 INFO evaluate_bleu_results {'bleu': 0.06550806533177979, 'precisions': [0.4449648711943794, 0.10499576629974598, 0.03515263644773358, 0.011213047910295617], 'brevity_penalty': 1.0, 'length_ratio': 1.2485380116959064, 'translation_length': 1281, 'reference_length': 1026, 'rouge1': 0.3379166568280968, 'rouge2': 0.1039989182843962, 'rougeL': 0.28585280349147557, 'rougeLsum': 0.2866509743696778, 'meteor': 0.2789338735482382}\n",
      "2024-06-23 02:21:25,382 INFO validation metrics {'validation/evaluate_bleu': 6.550806533177979, 'validation/evaluate_rouge1': 0.3379166568280968, 'validation/evaluate_rouge2': 0.1039989182843962, 'validation/evaluate_rougeL': 0.28585280349147557, 'validation/evaluate_rougeLsum': 0.2866509743696778, 'validation/evaluate_meteor': 0.2789338735482382}\n",
      "2024-06-23 02:21:25,384 INFO save model to data\\models\\honest-dream-1\\last\n"
     ]
    },
    {
     "data": {
      "application/vnd.jupyter.widget-view+json": {
       "model_id": "18fbaa0687bf408997eedb3764f3fe81",
       "version_major": 2,
       "version_minor": 0
      },
      "text/plain": [
       "Epoch 13:   0%|          | 0/479 [00:00<?, ?it/s]"
      ]
     },
     "metadata": {},
     "output_type": "display_data"
    },
    {
     "name": "stderr",
     "output_type": "stream",
     "text": [
      "2024-06-23 02:25:20,018 INFO save model to data\\models\\honest-dream-1\\last\n"
     ]
    },
    {
     "data": {
      "application/vnd.jupyter.widget-view+json": {
       "model_id": "239b464d597645bc8459affceeff8365",
       "version_major": 2,
       "version_minor": 0
      },
      "text/plain": [
       "Epoch 14:   0%|          | 0/479 [00:00<?, ?it/s]"
      ]
     },
     "metadata": {},
     "output_type": "display_data"
    },
    {
     "name": "stderr",
     "output_type": "stream",
     "text": [
      "2024-06-23 02:29:13,106 INFO save model to data\\models\\honest-dream-1\\last\n",
      "2024-06-23 02:29:14,574 INFO save model to data\\models\\honest-dream-1\\last\n"
     ]
    },
    {
     "data": {
      "application/vnd.jupyter.widget-view+json": {
       "model_id": "",
       "version_major": 2,
       "version_minor": 0
      },
      "text/plain": [
       "VBox(children=(Label(value='0.001 MB of 0.022 MB uploaded\\r'), FloatProgress(value=0.044143563292499466, max=1…"
      ]
     },
     "metadata": {},
     "output_type": "display_data"
    },
    {
     "data": {
      "text/html": [
       "<style>\n",
       "    table.wandb td:nth-child(1) { padding: 0 10px; text-align: left ; width: auto;} td:nth-child(2) {text-align: left ; width: 100%}\n",
       "    .wandb-row { display: flex; flex-direction: row; flex-wrap: wrap; justify-content: flex-start; width: 100% }\n",
       "    .wandb-col { display: flex; flex-direction: column; flex-basis: 100%; flex: 1; padding: 10px; }\n",
       "    </style>\n",
       "<div class=\"wandb-row\"><div class=\"wandb-col\"><h3>Run history:</h3><br/><table class=\"wandb\"><tr><td>epoch</td><td>▁▁▁▁▁▂▂▂▃▃▃▃▃▃▃▃▄▄▄▅▅▅▅▅▅▅▆▆▆▇▇▇▇▇▇▇▇███</td></tr><tr><td>grad_norm_bias</td><td>▁▁▁▁▁▁▁▁▁▁▁▁▁▁▁▁▁▁▁▁▁▁▁▁▁▁▁▁▁▁▁▁▁▁▁▁▁▁▁▁</td></tr><tr><td>grad_norm_weight</td><td>▁▁▁▁▁▁▁▁▁▁▁▁▁▁▁▁▁▁▁▁▁▁▁▁▁▁▁▁▁▁▁▁▁▁▁▁▁▁▁▁</td></tr><tr><td>train_loss</td><td>▇█▄▇▅▆▅▅▆▇▄▄▄▂▄▂▂▃▅▇▅▄▃▅▃▂▅▄▅▂▂▂▁▁▃▂▁▂▃▂</td></tr><tr><td>validation/evaluate_bleu</td><td>▁▆█▅</td></tr><tr><td>validation/evaluate_meteor</td><td>▁▄█▄</td></tr><tr><td>validation/evaluate_rouge1</td><td>▁█▄▄</td></tr><tr><td>validation/evaluate_rouge2</td><td>▁▅█▅</td></tr><tr><td>validation/evaluate_rougeL</td><td>▁▇█▅</td></tr><tr><td>validation/evaluate_rougeLsum</td><td>▁▇█▅</td></tr></table><br/></div><div class=\"wandb-col\"><h3>Run summary:</h3><br/><table class=\"wandb\"><tr><td>epoch</td><td>14</td></tr><tr><td>grad_norm_bias</td><td>0.0</td></tr><tr><td>grad_norm_weight</td><td>0.0</td></tr><tr><td>train_loss</td><td>1.59014</td></tr><tr><td>validation/evaluate_bleu</td><td>6.55081</td></tr><tr><td>validation/evaluate_meteor</td><td>0.27893</td></tr><tr><td>validation/evaluate_rouge1</td><td>0.33792</td></tr><tr><td>validation/evaluate_rouge2</td><td>0.104</td></tr><tr><td>validation/evaluate_rougeL</td><td>0.28585</td></tr><tr><td>validation/evaluate_rougeLsum</td><td>0.28665</td></tr></table><br/></div></div>"
      ],
      "text/plain": [
       "<IPython.core.display.HTML object>"
      ]
     },
     "metadata": {},
     "output_type": "display_data"
    },
    {
     "data": {
      "text/html": [
       " View run <strong style=\"color:#cdcd00\">honest-dream-1</strong> at: <a href='https://wandb.ai/smir_kko/hw-multimodal-llm-peft/runs/qqikclhq' target=\"_blank\">https://wandb.ai/smir_kko/hw-multimodal-llm-peft/runs/qqikclhq</a><br/> View project at: <a href='https://wandb.ai/smir_kko/hw-multimodal-llm-peft' target=\"_blank\">https://wandb.ai/smir_kko/hw-multimodal-llm-peft</a><br/>Synced 6 W&B file(s), 0 media file(s), 0 artifact file(s) and 0 other file(s)"
      ],
      "text/plain": [
       "<IPython.core.display.HTML object>"
      ]
     },
     "metadata": {},
     "output_type": "display_data"
    },
    {
     "data": {
      "text/html": [
       "Find logs at: <code>.\\wandb\\run-20240623_012359-qqikclhq\\logs</code>"
      ],
      "text/plain": [
       "<IPython.core.display.HTML object>"
      ]
     },
     "metadata": {},
     "output_type": "display_data"
    },
    {
     "data": {
      "text/html": [
       "The new W&B backend becomes opt-out in version 0.18.0; try it out with `wandb.require(\"core\")`! See https://wandb.me/wandb-core for more information."
      ],
      "text/plain": [
       "<IPython.core.display.HTML object>"
      ]
     },
     "metadata": {},
     "output_type": "display_data"
    },
    {
     "name": "stderr",
     "output_type": "stream",
     "text": [
      "2024-06-23 02:29:19,081 DEBUG Resetting dropped connection: o151352.ingest.sentry.io\n",
      "2024-06-23 02:29:19,480 DEBUG https://o151352.ingest.sentry.io:443 \"POST /api/4504800232407040/envelope/ HTTP/1.1\" 200 0\n"
     ]
    }
   ],
   "source": [
    "with wandb.init(project=\"hw-multimodal-llm-peft\") as metric_logger:\n",
    "    train(\n",
    "        model=model,\n",
    "        tokenizer=tokenizer,\n",
    "        metric_logger=metric_logger,\n",
    "        train_dataloader=train_dataloader,\n",
    "        val_dataloader=val_dataloader,\n",
    "        train_config=peft_train_config,\n",
    "        # device_placement=False,\n",
    "    )"
   ]
  },
  {
   "cell_type": "code",
   "execution_count": null,
   "id": "c92eef40-90f2-409f-98f4-62c3ee965f99",
   "metadata": {},
   "outputs": [],
   "source": []
  }
 ],
 "metadata": {
  "accelerator": "GPU",
  "colab": {
   "gpuType": "T4",
   "provenance": [],
   "toc_visible": true
  },
  "kernelspec": {
   "display_name": "Python 3 (ipykernel)",
   "language": "python",
   "name": "python3"
  },
  "language_info": {
   "codemirror_mode": {
    "name": "ipython",
    "version": 3
   },
   "file_extension": ".py",
   "mimetype": "text/x-python",
   "name": "python",
   "nbconvert_exporter": "python",
   "pygments_lexer": "ipython3",
   "version": "3.12.3"
  },
  "widgets": {
   "application/vnd.jupyter.widget-state+json": {
    "0128c429346e473bbe539c8e782642d2": {
     "model_module": "@jupyter-widgets/base",
     "model_module_version": "1.2.0",
     "model_name": "LayoutModel",
     "state": {
      "_model_module": "@jupyter-widgets/base",
      "_model_module_version": "1.2.0",
      "_model_name": "LayoutModel",
      "_view_count": null,
      "_view_module": "@jupyter-widgets/base",
      "_view_module_version": "1.2.0",
      "_view_name": "LayoutView",
      "align_content": null,
      "align_items": null,
      "align_self": null,
      "border": null,
      "bottom": null,
      "display": null,
      "flex": null,
      "flex_flow": null,
      "grid_area": null,
      "grid_auto_columns": null,
      "grid_auto_flow": null,
      "grid_auto_rows": null,
      "grid_column": null,
      "grid_gap": null,
      "grid_row": null,
      "grid_template_areas": null,
      "grid_template_columns": null,
      "grid_template_rows": null,
      "height": null,
      "justify_content": null,
      "justify_items": null,
      "left": null,
      "margin": null,
      "max_height": null,
      "max_width": null,
      "min_height": null,
      "min_width": null,
      "object_fit": null,
      "object_position": null,
      "order": null,
      "overflow": null,
      "overflow_x": null,
      "overflow_y": null,
      "padding": null,
      "right": null,
      "top": null,
      "visibility": null,
      "width": null
     }
    },
    "02f48f63aa804184b3489300bc8a098c": {
     "model_module": "@jupyter-widgets/controls",
     "model_module_version": "1.5.0",
     "model_name": "ProgressStyleModel",
     "state": {
      "_model_module": "@jupyter-widgets/controls",
      "_model_module_version": "1.5.0",
      "_model_name": "ProgressStyleModel",
      "_view_count": null,
      "_view_module": "@jupyter-widgets/base",
      "_view_module_version": "1.2.0",
      "_view_name": "StyleView",
      "bar_color": null,
      "description_width": ""
     }
    },
    "03291c0e822544b19ffcd54ee818691f": {
     "model_module": "@jupyter-widgets/controls",
     "model_module_version": "1.5.0",
     "model_name": "HBoxModel",
     "state": {
      "_dom_classes": [],
      "_model_module": "@jupyter-widgets/controls",
      "_model_module_version": "1.5.0",
      "_model_name": "HBoxModel",
      "_view_count": null,
      "_view_module": "@jupyter-widgets/controls",
      "_view_module_version": "1.5.0",
      "_view_name": "HBoxView",
      "box_style": "",
      "children": [
       "IPY_MODEL_77c8a1b352774c23b7fc29af5d4ad905",
       "IPY_MODEL_c7328ac1c287494f980d40d53a7635c4",
       "IPY_MODEL_128186df235c4a669e2b426ad0f1c52f"
      ],
      "layout": "IPY_MODEL_1c77c51105ce46a99ebf3da0acfd9ea8"
     }
    },
    "0c9c6d0f8ea24facaee50cfe05d5ce67": {
     "model_module": "@jupyter-widgets/controls",
     "model_module_version": "1.5.0",
     "model_name": "FloatProgressModel",
     "state": {
      "_dom_classes": [],
      "_model_module": "@jupyter-widgets/controls",
      "_model_module_version": "1.5.0",
      "_model_name": "FloatProgressModel",
      "_view_count": null,
      "_view_module": "@jupyter-widgets/controls",
      "_view_module_version": "1.5.0",
      "_view_name": "ProgressView",
      "bar_style": "success",
      "description": "",
      "description_tooltip": null,
      "layout": "IPY_MODEL_63f0d58e610e4dca9b4f80ef89024318",
      "max": 6927,
      "min": 0,
      "orientation": "horizontal",
      "style": "IPY_MODEL_6eecb4f7d61f426888d31b2e4234f016",
      "value": 6927
     }
    },
    "0efa62716ec144a4b00cf9c25084b474": {
     "model_module": "@jupyter-widgets/controls",
     "model_module_version": "1.5.0",
     "model_name": "DescriptionStyleModel",
     "state": {
      "_model_module": "@jupyter-widgets/controls",
      "_model_module_version": "1.5.0",
      "_model_name": "DescriptionStyleModel",
      "_view_count": null,
      "_view_module": "@jupyter-widgets/base",
      "_view_module_version": "1.2.0",
      "_view_name": "StyleView",
      "description_width": ""
     }
    },
    "103e87207e624346b3cf47ecaeb881d5": {
     "model_module": "@jupyter-widgets/controls",
     "model_module_version": "1.5.0",
     "model_name": "DescriptionStyleModel",
     "state": {
      "_model_module": "@jupyter-widgets/controls",
      "_model_module_version": "1.5.0",
      "_model_name": "DescriptionStyleModel",
      "_view_count": null,
      "_view_module": "@jupyter-widgets/base",
      "_view_module_version": "1.2.0",
      "_view_name": "StyleView",
      "description_width": ""
     }
    },
    "128186df235c4a669e2b426ad0f1c52f": {
     "model_module": "@jupyter-widgets/controls",
     "model_module_version": "1.5.0",
     "model_name": "HTMLModel",
     "state": {
      "_dom_classes": [],
      "_model_module": "@jupyter-widgets/controls",
      "_model_module_version": "1.5.0",
      "_model_name": "HTMLModel",
      "_view_count": null,
      "_view_module": "@jupyter-widgets/controls",
      "_view_module_version": "1.5.0",
      "_view_name": "HTMLView",
      "description": "",
      "description_tooltip": null,
      "layout": "IPY_MODEL_abf042590df44512afe2b1ca27076f1a",
      "placeholder": "​",
      "style": "IPY_MODEL_7e360c17d3e34beb98bae7b1904445c2",
      "value": " 479/479 [35:43&lt;00:00,  1.01s/it]"
     }
    },
    "1470106df30b4182ac626deac6201bc8": {
     "model_module": "@jupyter-widgets/controls",
     "model_module_version": "1.5.0",
     "model_name": "HTMLModel",
     "state": {
      "_dom_classes": [],
      "_model_module": "@jupyter-widgets/controls",
      "_model_module_version": "1.5.0",
      "_model_name": "HTMLModel",
      "_view_count": null,
      "_view_module": "@jupyter-widgets/controls",
      "_view_module_version": "1.5.0",
      "_view_name": "HTMLView",
      "description": "",
      "description_tooltip": null,
      "layout": "IPY_MODEL_9fb10caa6e034fb1aa0c4966e1b2266d",
      "placeholder": "​",
      "style": "IPY_MODEL_a6d72e6ca74544f2b9d4d859d54c0611",
      "value": "Saving the dataset (1/1 shards): 100%"
     }
    },
    "1700756807404b99af25a2fe70b09043": {
     "model_module": "@jupyter-widgets/controls",
     "model_module_version": "1.5.0",
     "model_name": "HTMLModel",
     "state": {
      "_dom_classes": [],
      "_model_module": "@jupyter-widgets/controls",
      "_model_module_version": "1.5.0",
      "_model_name": "HTMLModel",
      "_view_count": null,
      "_view_module": "@jupyter-widgets/controls",
      "_view_module_version": "1.5.0",
      "_view_name": "HTMLView",
      "description": "",
      "description_tooltip": null,
      "layout": "IPY_MODEL_5de600c6a2364176a1c3825b7c1bef23",
      "placeholder": "​",
      "style": "IPY_MODEL_ec030f2f0cca436ab71b74f9536d720c",
      "value": "Epoch=4 Loss=2.447 BLEU=6.928: 100%"
     }
    },
    "189eb9226a5643e7989ccd90ea5b65e1": {
     "model_module": "@jupyter-widgets/controls",
     "model_module_version": "1.5.0",
     "model_name": "FloatProgressModel",
     "state": {
      "_dom_classes": [],
      "_model_module": "@jupyter-widgets/controls",
      "_model_module_version": "1.5.0",
      "_model_name": "FloatProgressModel",
      "_view_count": null,
      "_view_module": "@jupyter-widgets/controls",
      "_view_module_version": "1.5.0",
      "_view_name": "ProgressView",
      "bar_style": "success",
      "description": "",
      "description_tooltip": null,
      "layout": "IPY_MODEL_98c010ddb547459c855613633af7c0d4",
      "max": 479,
      "min": 0,
      "orientation": "horizontal",
      "style": "IPY_MODEL_95f843e30f384e7f8f8db739404779e2",
      "value": 479
     }
    },
    "1c39cb8f1a264d0eadc2e9fa0bff1173": {
     "model_module": "@jupyter-widgets/base",
     "model_module_version": "1.2.0",
     "model_name": "LayoutModel",
     "state": {
      "_model_module": "@jupyter-widgets/base",
      "_model_module_version": "1.2.0",
      "_model_name": "LayoutModel",
      "_view_count": null,
      "_view_module": "@jupyter-widgets/base",
      "_view_module_version": "1.2.0",
      "_view_name": "LayoutView",
      "align_content": null,
      "align_items": null,
      "align_self": null,
      "border": null,
      "bottom": null,
      "display": null,
      "flex": null,
      "flex_flow": null,
      "grid_area": null,
      "grid_auto_columns": null,
      "grid_auto_flow": null,
      "grid_auto_rows": null,
      "grid_column": null,
      "grid_gap": null,
      "grid_row": null,
      "grid_template_areas": null,
      "grid_template_columns": null,
      "grid_template_rows": null,
      "height": null,
      "justify_content": null,
      "justify_items": null,
      "left": null,
      "margin": null,
      "max_height": null,
      "max_width": null,
      "min_height": null,
      "min_width": null,
      "object_fit": null,
      "object_position": null,
      "order": null,
      "overflow": null,
      "overflow_x": null,
      "overflow_y": null,
      "padding": null,
      "right": null,
      "top": null,
      "visibility": null,
      "width": null
     }
    },
    "1c77c51105ce46a99ebf3da0acfd9ea8": {
     "model_module": "@jupyter-widgets/base",
     "model_module_version": "1.2.0",
     "model_name": "LayoutModel",
     "state": {
      "_model_module": "@jupyter-widgets/base",
      "_model_module_version": "1.2.0",
      "_model_name": "LayoutModel",
      "_view_count": null,
      "_view_module": "@jupyter-widgets/base",
      "_view_module_version": "1.2.0",
      "_view_name": "LayoutView",
      "align_content": null,
      "align_items": null,
      "align_self": null,
      "border": null,
      "bottom": null,
      "display": null,
      "flex": null,
      "flex_flow": null,
      "grid_area": null,
      "grid_auto_columns": null,
      "grid_auto_flow": null,
      "grid_auto_rows": null,
      "grid_column": null,
      "grid_gap": null,
      "grid_row": null,
      "grid_template_areas": null,
      "grid_template_columns": null,
      "grid_template_rows": null,
      "height": null,
      "justify_content": null,
      "justify_items": null,
      "left": null,
      "margin": null,
      "max_height": null,
      "max_width": null,
      "min_height": null,
      "min_width": null,
      "object_fit": null,
      "object_position": null,
      "order": null,
      "overflow": null,
      "overflow_x": null,
      "overflow_y": null,
      "padding": null,
      "right": null,
      "top": null,
      "visibility": null,
      "width": null
     }
    },
    "2154149361174426ac40fc0ac57da8ff": {
     "model_module": "@jupyter-widgets/controls",
     "model_module_version": "1.5.0",
     "model_name": "DescriptionStyleModel",
     "state": {
      "_model_module": "@jupyter-widgets/controls",
      "_model_module_version": "1.5.0",
      "_model_name": "DescriptionStyleModel",
      "_view_count": null,
      "_view_module": "@jupyter-widgets/base",
      "_view_module_version": "1.2.0",
      "_view_name": "StyleView",
      "description_width": ""
     }
    },
    "23100fbb0d1d4c8cba952a2228301124": {
     "model_module": "@jupyter-widgets/base",
     "model_module_version": "1.2.0",
     "model_name": "LayoutModel",
     "state": {
      "_model_module": "@jupyter-widgets/base",
      "_model_module_version": "1.2.0",
      "_model_name": "LayoutModel",
      "_view_count": null,
      "_view_module": "@jupyter-widgets/base",
      "_view_module_version": "1.2.0",
      "_view_name": "LayoutView",
      "align_content": null,
      "align_items": null,
      "align_self": null,
      "border": null,
      "bottom": null,
      "display": null,
      "flex": null,
      "flex_flow": null,
      "grid_area": null,
      "grid_auto_columns": null,
      "grid_auto_flow": null,
      "grid_auto_rows": null,
      "grid_column": null,
      "grid_gap": null,
      "grid_row": null,
      "grid_template_areas": null,
      "grid_template_columns": null,
      "grid_template_rows": null,
      "height": null,
      "justify_content": null,
      "justify_items": null,
      "left": null,
      "margin": null,
      "max_height": null,
      "max_width": null,
      "min_height": null,
      "min_width": null,
      "object_fit": null,
      "object_position": null,
      "order": null,
      "overflow": null,
      "overflow_x": null,
      "overflow_y": null,
      "padding": null,
      "right": null,
      "top": null,
      "visibility": null,
      "width": null
     }
    },
    "23c95b409b5f496385445e9d7972b114": {
     "model_module": "@jupyter-widgets/base",
     "model_module_version": "1.2.0",
     "model_name": "LayoutModel",
     "state": {
      "_model_module": "@jupyter-widgets/base",
      "_model_module_version": "1.2.0",
      "_model_name": "LayoutModel",
      "_view_count": null,
      "_view_module": "@jupyter-widgets/base",
      "_view_module_version": "1.2.0",
      "_view_name": "LayoutView",
      "align_content": null,
      "align_items": null,
      "align_self": null,
      "border": null,
      "bottom": null,
      "display": null,
      "flex": null,
      "flex_flow": null,
      "grid_area": null,
      "grid_auto_columns": null,
      "grid_auto_flow": null,
      "grid_auto_rows": null,
      "grid_column": null,
      "grid_gap": null,
      "grid_row": null,
      "grid_template_areas": null,
      "grid_template_columns": null,
      "grid_template_rows": null,
      "height": null,
      "justify_content": null,
      "justify_items": null,
      "left": null,
      "margin": null,
      "max_height": null,
      "max_width": null,
      "min_height": null,
      "min_width": null,
      "object_fit": null,
      "object_position": null,
      "order": null,
      "overflow": null,
      "overflow_x": null,
      "overflow_y": null,
      "padding": null,
      "right": null,
      "top": null,
      "visibility": null,
      "width": null
     }
    },
    "2b704184d2754d55b06d76d3174ae33a": {
     "model_module": "@jupyter-widgets/controls",
     "model_module_version": "1.5.0",
     "model_name": "VBoxModel",
     "state": {
      "_dom_classes": [],
      "_model_module": "@jupyter-widgets/controls",
      "_model_module_version": "1.5.0",
      "_model_name": "VBoxModel",
      "_view_count": null,
      "_view_module": "@jupyter-widgets/controls",
      "_view_module_version": "1.5.0",
      "_view_name": "VBoxView",
      "box_style": "",
      "children": [
       "IPY_MODEL_b90f9eeaa3394219a836baaff0ff1ba2",
       "IPY_MODEL_f5057f0c9e44451f822516feac2e7367"
      ],
      "layout": "IPY_MODEL_2e2fe948b9264bd89c9584f786d579de"
     }
    },
    "2d039cba3d774ce7985bc756a6c6cf5a": {
     "model_module": "@jupyter-widgets/controls",
     "model_module_version": "1.5.0",
     "model_name": "ProgressStyleModel",
     "state": {
      "_model_module": "@jupyter-widgets/controls",
      "_model_module_version": "1.5.0",
      "_model_name": "ProgressStyleModel",
      "_view_count": null,
      "_view_module": "@jupyter-widgets/base",
      "_view_module_version": "1.2.0",
      "_view_name": "StyleView",
      "bar_color": null,
      "description_width": ""
     }
    },
    "2db595efe280479da4402c502f5d91c8": {
     "model_module": "@jupyter-widgets/base",
     "model_module_version": "1.2.0",
     "model_name": "LayoutModel",
     "state": {
      "_model_module": "@jupyter-widgets/base",
      "_model_module_version": "1.2.0",
      "_model_name": "LayoutModel",
      "_view_count": null,
      "_view_module": "@jupyter-widgets/base",
      "_view_module_version": "1.2.0",
      "_view_name": "LayoutView",
      "align_content": null,
      "align_items": null,
      "align_self": null,
      "border": null,
      "bottom": null,
      "display": null,
      "flex": null,
      "flex_flow": null,
      "grid_area": null,
      "grid_auto_columns": null,
      "grid_auto_flow": null,
      "grid_auto_rows": null,
      "grid_column": null,
      "grid_gap": null,
      "grid_row": null,
      "grid_template_areas": null,
      "grid_template_columns": null,
      "grid_template_rows": null,
      "height": null,
      "justify_content": null,
      "justify_items": null,
      "left": null,
      "margin": null,
      "max_height": null,
      "max_width": null,
      "min_height": null,
      "min_width": null,
      "object_fit": null,
      "object_position": null,
      "order": null,
      "overflow": null,
      "overflow_x": null,
      "overflow_y": null,
      "padding": null,
      "right": null,
      "top": null,
      "visibility": null,
      "width": null
     }
    },
    "2dc291ec9cdd4d74af7ddad3e8fc4f12": {
     "model_module": "@jupyter-widgets/base",
     "model_module_version": "1.2.0",
     "model_name": "LayoutModel",
     "state": {
      "_model_module": "@jupyter-widgets/base",
      "_model_module_version": "1.2.0",
      "_model_name": "LayoutModel",
      "_view_count": null,
      "_view_module": "@jupyter-widgets/base",
      "_view_module_version": "1.2.0",
      "_view_name": "LayoutView",
      "align_content": null,
      "align_items": null,
      "align_self": null,
      "border": null,
      "bottom": null,
      "display": null,
      "flex": null,
      "flex_flow": null,
      "grid_area": null,
      "grid_auto_columns": null,
      "grid_auto_flow": null,
      "grid_auto_rows": null,
      "grid_column": null,
      "grid_gap": null,
      "grid_row": null,
      "grid_template_areas": null,
      "grid_template_columns": null,
      "grid_template_rows": null,
      "height": null,
      "justify_content": null,
      "justify_items": null,
      "left": null,
      "margin": null,
      "max_height": null,
      "max_width": null,
      "min_height": null,
      "min_width": null,
      "object_fit": null,
      "object_position": null,
      "order": null,
      "overflow": null,
      "overflow_x": null,
      "overflow_y": null,
      "padding": null,
      "right": null,
      "top": null,
      "visibility": null,
      "width": null
     }
    },
    "2e0e37c30a9647fd829c5ea0cebb3ae8": {
     "model_module": "@jupyter-widgets/base",
     "model_module_version": "1.2.0",
     "model_name": "LayoutModel",
     "state": {
      "_model_module": "@jupyter-widgets/base",
      "_model_module_version": "1.2.0",
      "_model_name": "LayoutModel",
      "_view_count": null,
      "_view_module": "@jupyter-widgets/base",
      "_view_module_version": "1.2.0",
      "_view_name": "LayoutView",
      "align_content": null,
      "align_items": null,
      "align_self": null,
      "border": null,
      "bottom": null,
      "display": null,
      "flex": null,
      "flex_flow": null,
      "grid_area": null,
      "grid_auto_columns": null,
      "grid_auto_flow": null,
      "grid_auto_rows": null,
      "grid_column": null,
      "grid_gap": null,
      "grid_row": null,
      "grid_template_areas": null,
      "grid_template_columns": null,
      "grid_template_rows": null,
      "height": null,
      "justify_content": null,
      "justify_items": null,
      "left": null,
      "margin": null,
      "max_height": null,
      "max_width": null,
      "min_height": null,
      "min_width": null,
      "object_fit": null,
      "object_position": null,
      "order": null,
      "overflow": null,
      "overflow_x": null,
      "overflow_y": null,
      "padding": null,
      "right": null,
      "top": null,
      "visibility": null,
      "width": null
     }
    },
    "2e2fe948b9264bd89c9584f786d579de": {
     "model_module": "@jupyter-widgets/base",
     "model_module_version": "1.2.0",
     "model_name": "LayoutModel",
     "state": {
      "_model_module": "@jupyter-widgets/base",
      "_model_module_version": "1.2.0",
      "_model_name": "LayoutModel",
      "_view_count": null,
      "_view_module": "@jupyter-widgets/base",
      "_view_module_version": "1.2.0",
      "_view_name": "LayoutView",
      "align_content": null,
      "align_items": null,
      "align_self": null,
      "border": null,
      "bottom": null,
      "display": null,
      "flex": null,
      "flex_flow": null,
      "grid_area": null,
      "grid_auto_columns": null,
      "grid_auto_flow": null,
      "grid_auto_rows": null,
      "grid_column": null,
      "grid_gap": null,
      "grid_row": null,
      "grid_template_areas": null,
      "grid_template_columns": null,
      "grid_template_rows": null,
      "height": null,
      "justify_content": null,
      "justify_items": null,
      "left": null,
      "margin": null,
      "max_height": null,
      "max_width": null,
      "min_height": null,
      "min_width": null,
      "object_fit": null,
      "object_position": null,
      "order": null,
      "overflow": null,
      "overflow_x": null,
      "overflow_y": null,
      "padding": null,
      "right": null,
      "top": null,
      "visibility": null,
      "width": null
     }
    },
    "2e53ff7d08514a3b9c745b875c7ee56b": {
     "model_module": "@jupyter-widgets/controls",
     "model_module_version": "1.5.0",
     "model_name": "ProgressStyleModel",
     "state": {
      "_model_module": "@jupyter-widgets/controls",
      "_model_module_version": "1.5.0",
      "_model_name": "ProgressStyleModel",
      "_view_count": null,
      "_view_module": "@jupyter-widgets/base",
      "_view_module_version": "1.2.0",
      "_view_name": "StyleView",
      "bar_color": null,
      "description_width": ""
     }
    },
    "2f5892c72713409f9871ff892934aca9": {
     "model_module": "@jupyter-widgets/base",
     "model_module_version": "1.2.0",
     "model_name": "LayoutModel",
     "state": {
      "_model_module": "@jupyter-widgets/base",
      "_model_module_version": "1.2.0",
      "_model_name": "LayoutModel",
      "_view_count": null,
      "_view_module": "@jupyter-widgets/base",
      "_view_module_version": "1.2.0",
      "_view_name": "LayoutView",
      "align_content": null,
      "align_items": null,
      "align_self": null,
      "border": null,
      "bottom": null,
      "display": null,
      "flex": null,
      "flex_flow": null,
      "grid_area": null,
      "grid_auto_columns": null,
      "grid_auto_flow": null,
      "grid_auto_rows": null,
      "grid_column": null,
      "grid_gap": null,
      "grid_row": null,
      "grid_template_areas": null,
      "grid_template_columns": null,
      "grid_template_rows": null,
      "height": null,
      "justify_content": null,
      "justify_items": null,
      "left": null,
      "margin": null,
      "max_height": null,
      "max_width": null,
      "min_height": null,
      "min_width": null,
      "object_fit": null,
      "object_position": null,
      "order": null,
      "overflow": null,
      "overflow_x": null,
      "overflow_y": null,
      "padding": null,
      "right": null,
      "top": null,
      "visibility": null,
      "width": null
     }
    },
    "323757fd6f9b4849ac17abb1351abb00": {
     "model_module": "@jupyter-widgets/base",
     "model_module_version": "1.2.0",
     "model_name": "LayoutModel",
     "state": {
      "_model_module": "@jupyter-widgets/base",
      "_model_module_version": "1.2.0",
      "_model_name": "LayoutModel",
      "_view_count": null,
      "_view_module": "@jupyter-widgets/base",
      "_view_module_version": "1.2.0",
      "_view_name": "LayoutView",
      "align_content": null,
      "align_items": null,
      "align_self": null,
      "border": null,
      "bottom": null,
      "display": null,
      "flex": null,
      "flex_flow": null,
      "grid_area": null,
      "grid_auto_columns": null,
      "grid_auto_flow": null,
      "grid_auto_rows": null,
      "grid_column": null,
      "grid_gap": null,
      "grid_row": null,
      "grid_template_areas": null,
      "grid_template_columns": null,
      "grid_template_rows": null,
      "height": null,
      "justify_content": null,
      "justify_items": null,
      "left": null,
      "margin": null,
      "max_height": null,
      "max_width": null,
      "min_height": null,
      "min_width": null,
      "object_fit": null,
      "object_position": null,
      "order": null,
      "overflow": null,
      "overflow_x": null,
      "overflow_y": null,
      "padding": null,
      "right": null,
      "top": null,
      "visibility": null,
      "width": null
     }
    },
    "3357a86018434d429258cca80f90e733": {
     "model_module": "@jupyter-widgets/controls",
     "model_module_version": "1.5.0",
     "model_name": "HBoxModel",
     "state": {
      "_dom_classes": [],
      "_model_module": "@jupyter-widgets/controls",
      "_model_module_version": "1.5.0",
      "_model_name": "HBoxModel",
      "_view_count": null,
      "_view_module": "@jupyter-widgets/controls",
      "_view_module_version": "1.5.0",
      "_view_name": "HBoxView",
      "box_style": "",
      "children": [
       "IPY_MODEL_da4b42ead1174addbba8aa8b733412aa",
       "IPY_MODEL_c0628a68d5644a35b9fda044cf84dc06",
       "IPY_MODEL_c63bf6017dc042d595cc9ae67ea38d3b"
      ],
      "layout": "IPY_MODEL_e4953858ffe949bc91260da9fb65a16e"
     }
    },
    "35a4b94cde1a4497a3b83ddc9f80e8aa": {
     "model_module": "@jupyter-widgets/controls",
     "model_module_version": "1.5.0",
     "model_name": "DescriptionStyleModel",
     "state": {
      "_model_module": "@jupyter-widgets/controls",
      "_model_module_version": "1.5.0",
      "_model_name": "DescriptionStyleModel",
      "_view_count": null,
      "_view_module": "@jupyter-widgets/base",
      "_view_module_version": "1.2.0",
      "_view_name": "StyleView",
      "description_width": ""
     }
    },
    "35ad5379e03546c5b4b1b7edb7c4a172": {
     "model_module": "@jupyter-widgets/controls",
     "model_module_version": "1.5.0",
     "model_name": "DescriptionStyleModel",
     "state": {
      "_model_module": "@jupyter-widgets/controls",
      "_model_module_version": "1.5.0",
      "_model_name": "DescriptionStyleModel",
      "_view_count": null,
      "_view_module": "@jupyter-widgets/base",
      "_view_module_version": "1.2.0",
      "_view_name": "StyleView",
      "description_width": ""
     }
    },
    "3c3d5b147bd441e981c88a9fb07b0d34": {
     "model_module": "@jupyter-widgets/base",
     "model_module_version": "1.2.0",
     "model_name": "LayoutModel",
     "state": {
      "_model_module": "@jupyter-widgets/base",
      "_model_module_version": "1.2.0",
      "_model_name": "LayoutModel",
      "_view_count": null,
      "_view_module": "@jupyter-widgets/base",
      "_view_module_version": "1.2.0",
      "_view_name": "LayoutView",
      "align_content": null,
      "align_items": null,
      "align_self": null,
      "border": null,
      "bottom": null,
      "display": null,
      "flex": null,
      "flex_flow": null,
      "grid_area": null,
      "grid_auto_columns": null,
      "grid_auto_flow": null,
      "grid_auto_rows": null,
      "grid_column": null,
      "grid_gap": null,
      "grid_row": null,
      "grid_template_areas": null,
      "grid_template_columns": null,
      "grid_template_rows": null,
      "height": null,
      "justify_content": null,
      "justify_items": null,
      "left": null,
      "margin": null,
      "max_height": null,
      "max_width": null,
      "min_height": null,
      "min_width": null,
      "object_fit": null,
      "object_position": null,
      "order": null,
      "overflow": null,
      "overflow_x": null,
      "overflow_y": null,
      "padding": null,
      "right": null,
      "top": null,
      "visibility": null,
      "width": null
     }
    },
    "3e48714da49840e28a7e6ed01a424f58": {
     "model_module": "@jupyter-widgets/controls",
     "model_module_version": "1.5.0",
     "model_name": "DescriptionStyleModel",
     "state": {
      "_model_module": "@jupyter-widgets/controls",
      "_model_module_version": "1.5.0",
      "_model_name": "DescriptionStyleModel",
      "_view_count": null,
      "_view_module": "@jupyter-widgets/base",
      "_view_module_version": "1.2.0",
      "_view_name": "StyleView",
      "description_width": ""
     }
    },
    "3f5047f3e40e464c86974052343e48fc": {
     "model_module": "@jupyter-widgets/controls",
     "model_module_version": "1.5.0",
     "model_name": "ProgressStyleModel",
     "state": {
      "_model_module": "@jupyter-widgets/controls",
      "_model_module_version": "1.5.0",
      "_model_name": "ProgressStyleModel",
      "_view_count": null,
      "_view_module": "@jupyter-widgets/base",
      "_view_module_version": "1.2.0",
      "_view_name": "StyleView",
      "bar_color": null,
      "description_width": ""
     }
    },
    "3fa78db09d2f4c09b49d58a58bea0466": {
     "model_module": "@jupyter-widgets/base",
     "model_module_version": "1.2.0",
     "model_name": "LayoutModel",
     "state": {
      "_model_module": "@jupyter-widgets/base",
      "_model_module_version": "1.2.0",
      "_model_name": "LayoutModel",
      "_view_count": null,
      "_view_module": "@jupyter-widgets/base",
      "_view_module_version": "1.2.0",
      "_view_name": "LayoutView",
      "align_content": null,
      "align_items": null,
      "align_self": null,
      "border": null,
      "bottom": null,
      "display": null,
      "flex": null,
      "flex_flow": null,
      "grid_area": null,
      "grid_auto_columns": null,
      "grid_auto_flow": null,
      "grid_auto_rows": null,
      "grid_column": null,
      "grid_gap": null,
      "grid_row": null,
      "grid_template_areas": null,
      "grid_template_columns": null,
      "grid_template_rows": null,
      "height": null,
      "justify_content": null,
      "justify_items": null,
      "left": null,
      "margin": null,
      "max_height": null,
      "max_width": null,
      "min_height": null,
      "min_width": null,
      "object_fit": null,
      "object_position": null,
      "order": null,
      "overflow": null,
      "overflow_x": null,
      "overflow_y": null,
      "padding": null,
      "right": null,
      "top": null,
      "visibility": null,
      "width": null
     }
    },
    "3fb159f40c4442bfbb092848f0669d60": {
     "model_module": "@jupyter-widgets/base",
     "model_module_version": "1.2.0",
     "model_name": "LayoutModel",
     "state": {
      "_model_module": "@jupyter-widgets/base",
      "_model_module_version": "1.2.0",
      "_model_name": "LayoutModel",
      "_view_count": null,
      "_view_module": "@jupyter-widgets/base",
      "_view_module_version": "1.2.0",
      "_view_name": "LayoutView",
      "align_content": null,
      "align_items": null,
      "align_self": null,
      "border": null,
      "bottom": null,
      "display": null,
      "flex": null,
      "flex_flow": null,
      "grid_area": null,
      "grid_auto_columns": null,
      "grid_auto_flow": null,
      "grid_auto_rows": null,
      "grid_column": null,
      "grid_gap": null,
      "grid_row": null,
      "grid_template_areas": null,
      "grid_template_columns": null,
      "grid_template_rows": null,
      "height": null,
      "justify_content": null,
      "justify_items": null,
      "left": null,
      "margin": null,
      "max_height": null,
      "max_width": null,
      "min_height": null,
      "min_width": null,
      "object_fit": null,
      "object_position": null,
      "order": null,
      "overflow": null,
      "overflow_x": null,
      "overflow_y": null,
      "padding": null,
      "right": null,
      "top": null,
      "visibility": null,
      "width": null
     }
    },
    "429b4da14c3d448b9ee1e65d89caaa99": {
     "model_module": "@jupyter-widgets/controls",
     "model_module_version": "1.5.0",
     "model_name": "DescriptionStyleModel",
     "state": {
      "_model_module": "@jupyter-widgets/controls",
      "_model_module_version": "1.5.0",
      "_model_name": "DescriptionStyleModel",
      "_view_count": null,
      "_view_module": "@jupyter-widgets/base",
      "_view_module_version": "1.2.0",
      "_view_name": "StyleView",
      "description_width": ""
     }
    },
    "441585c399974e17b0b49fcaf8a62c5d": {
     "model_module": "@jupyter-widgets/base",
     "model_module_version": "1.2.0",
     "model_name": "LayoutModel",
     "state": {
      "_model_module": "@jupyter-widgets/base",
      "_model_module_version": "1.2.0",
      "_model_name": "LayoutModel",
      "_view_count": null,
      "_view_module": "@jupyter-widgets/base",
      "_view_module_version": "1.2.0",
      "_view_name": "LayoutView",
      "align_content": null,
      "align_items": null,
      "align_self": null,
      "border": null,
      "bottom": null,
      "display": null,
      "flex": null,
      "flex_flow": null,
      "grid_area": null,
      "grid_auto_columns": null,
      "grid_auto_flow": null,
      "grid_auto_rows": null,
      "grid_column": null,
      "grid_gap": null,
      "grid_row": null,
      "grid_template_areas": null,
      "grid_template_columns": null,
      "grid_template_rows": null,
      "height": null,
      "justify_content": null,
      "justify_items": null,
      "left": null,
      "margin": null,
      "max_height": null,
      "max_width": null,
      "min_height": null,
      "min_width": null,
      "object_fit": null,
      "object_position": null,
      "order": null,
      "overflow": null,
      "overflow_x": null,
      "overflow_y": null,
      "padding": null,
      "right": null,
      "top": null,
      "visibility": null,
      "width": null
     }
    },
    "45c794c56aea45708463d98605b6938c": {
     "model_module": "@jupyter-widgets/controls",
     "model_module_version": "1.5.0",
     "model_name": "DescriptionStyleModel",
     "state": {
      "_model_module": "@jupyter-widgets/controls",
      "_model_module_version": "1.5.0",
      "_model_name": "DescriptionStyleModel",
      "_view_count": null,
      "_view_module": "@jupyter-widgets/base",
      "_view_module_version": "1.2.0",
      "_view_name": "StyleView",
      "description_width": ""
     }
    },
    "4b189c559c0748e984fb35509d60ea50": {
     "model_module": "@jupyter-widgets/controls",
     "model_module_version": "1.5.0",
     "model_name": "HTMLModel",
     "state": {
      "_dom_classes": [],
      "_model_module": "@jupyter-widgets/controls",
      "_model_module_version": "1.5.0",
      "_model_name": "HTMLModel",
      "_view_count": null,
      "_view_module": "@jupyter-widgets/controls",
      "_view_module_version": "1.5.0",
      "_view_name": "HTMLView",
      "description": "",
      "description_tooltip": null,
      "layout": "IPY_MODEL_c19357ddcaba414b8b0893329ed7f6cf",
      "placeholder": "​",
      "style": "IPY_MODEL_c5648d48e379485c9530df2bac6d672d",
      "value": " 479/479 [09:31&lt;00:00,  1.01s/it]"
     }
    },
    "4b65c3dbe2e9436b9211c197ea910a95": {
     "model_module": "@jupyter-widgets/controls",
     "model_module_version": "1.5.0",
     "model_name": "HTMLModel",
     "state": {
      "_dom_classes": [],
      "_model_module": "@jupyter-widgets/controls",
      "_model_module_version": "1.5.0",
      "_model_name": "HTMLModel",
      "_view_count": null,
      "_view_module": "@jupyter-widgets/controls",
      "_view_module_version": "1.5.0",
      "_view_name": "HTMLView",
      "description": "",
      "description_tooltip": null,
      "layout": "IPY_MODEL_b426c79bf79e433787050676e5f361c9",
      "placeholder": "​",
      "style": "IPY_MODEL_45c794c56aea45708463d98605b6938c",
      "value": "Downloading builder script: 100%"
     }
    },
    "4beb9c2c1ce24a29b54f8cdcd1fd5b31": {
     "model_module": "@jupyter-widgets/controls",
     "model_module_version": "1.5.0",
     "model_name": "FloatProgressModel",
     "state": {
      "_dom_classes": [],
      "_model_module": "@jupyter-widgets/controls",
      "_model_module_version": "1.5.0",
      "_model_name": "FloatProgressModel",
      "_view_count": null,
      "_view_module": "@jupyter-widgets/controls",
      "_view_module_version": "1.5.0",
      "_view_name": "ProgressView",
      "bar_style": "success",
      "description": "",
      "description_tooltip": null,
      "layout": "IPY_MODEL_2db595efe280479da4402c502f5d91c8",
      "max": 479,
      "min": 0,
      "orientation": "horizontal",
      "style": "IPY_MODEL_60083d14728c4847af026df7d1c299d7",
      "value": 479
     }
    },
    "4ca725a26faf4348bee664f0b591cd3b": {
     "model_module": "@jupyter-widgets/controls",
     "model_module_version": "1.5.0",
     "model_name": "DescriptionStyleModel",
     "state": {
      "_model_module": "@jupyter-widgets/controls",
      "_model_module_version": "1.5.0",
      "_model_name": "DescriptionStyleModel",
      "_view_count": null,
      "_view_module": "@jupyter-widgets/base",
      "_view_module_version": "1.2.0",
      "_view_name": "StyleView",
      "description_width": ""
     }
    },
    "4efbd0736f6f456dab9c0362a95b8054": {
     "model_module": "@jupyter-widgets/controls",
     "model_module_version": "1.5.0",
     "model_name": "DescriptionStyleModel",
     "state": {
      "_model_module": "@jupyter-widgets/controls",
      "_model_module_version": "1.5.0",
      "_model_name": "DescriptionStyleModel",
      "_view_count": null,
      "_view_module": "@jupyter-widgets/base",
      "_view_module_version": "1.2.0",
      "_view_name": "StyleView",
      "description_width": ""
     }
    },
    "4ff00b6d00a9474bb5283469c7b36b1c": {
     "model_module": "@jupyter-widgets/base",
     "model_module_version": "1.2.0",
     "model_name": "LayoutModel",
     "state": {
      "_model_module": "@jupyter-widgets/base",
      "_model_module_version": "1.2.0",
      "_model_name": "LayoutModel",
      "_view_count": null,
      "_view_module": "@jupyter-widgets/base",
      "_view_module_version": "1.2.0",
      "_view_name": "LayoutView",
      "align_content": null,
      "align_items": null,
      "align_self": null,
      "border": null,
      "bottom": null,
      "display": null,
      "flex": null,
      "flex_flow": null,
      "grid_area": null,
      "grid_auto_columns": null,
      "grid_auto_flow": null,
      "grid_auto_rows": null,
      "grid_column": null,
      "grid_gap": null,
      "grid_row": null,
      "grid_template_areas": null,
      "grid_template_columns": null,
      "grid_template_rows": null,
      "height": null,
      "justify_content": null,
      "justify_items": null,
      "left": null,
      "margin": null,
      "max_height": null,
      "max_width": null,
      "min_height": null,
      "min_width": null,
      "object_fit": null,
      "object_position": null,
      "order": null,
      "overflow": null,
      "overflow_x": null,
      "overflow_y": null,
      "padding": null,
      "right": null,
      "top": null,
      "visibility": null,
      "width": null
     }
    },
    "52b1f5bed7c3440ca6575bd7a81d4a57": {
     "model_module": "@jupyter-widgets/controls",
     "model_module_version": "1.5.0",
     "model_name": "DescriptionStyleModel",
     "state": {
      "_model_module": "@jupyter-widgets/controls",
      "_model_module_version": "1.5.0",
      "_model_name": "DescriptionStyleModel",
      "_view_count": null,
      "_view_module": "@jupyter-widgets/base",
      "_view_module_version": "1.2.0",
      "_view_name": "StyleView",
      "description_width": ""
     }
    },
    "541441e703ce40338bbeab1b46d6ce4d": {
     "model_module": "@jupyter-widgets/base",
     "model_module_version": "1.2.0",
     "model_name": "LayoutModel",
     "state": {
      "_model_module": "@jupyter-widgets/base",
      "_model_module_version": "1.2.0",
      "_model_name": "LayoutModel",
      "_view_count": null,
      "_view_module": "@jupyter-widgets/base",
      "_view_module_version": "1.2.0",
      "_view_name": "LayoutView",
      "align_content": null,
      "align_items": null,
      "align_self": null,
      "border": null,
      "bottom": null,
      "display": null,
      "flex": null,
      "flex_flow": null,
      "grid_area": null,
      "grid_auto_columns": null,
      "grid_auto_flow": null,
      "grid_auto_rows": null,
      "grid_column": null,
      "grid_gap": null,
      "grid_row": null,
      "grid_template_areas": null,
      "grid_template_columns": null,
      "grid_template_rows": null,
      "height": null,
      "justify_content": null,
      "justify_items": null,
      "left": null,
      "margin": null,
      "max_height": null,
      "max_width": null,
      "min_height": null,
      "min_width": null,
      "object_fit": null,
      "object_position": null,
      "order": null,
      "overflow": null,
      "overflow_x": null,
      "overflow_y": null,
      "padding": null,
      "right": null,
      "top": null,
      "visibility": null,
      "width": null
     }
    },
    "557b72e51f914a5589216b18c5274d75": {
     "model_module": "@jupyter-widgets/base",
     "model_module_version": "1.2.0",
     "model_name": "LayoutModel",
     "state": {
      "_model_module": "@jupyter-widgets/base",
      "_model_module_version": "1.2.0",
      "_model_name": "LayoutModel",
      "_view_count": null,
      "_view_module": "@jupyter-widgets/base",
      "_view_module_version": "1.2.0",
      "_view_name": "LayoutView",
      "align_content": null,
      "align_items": null,
      "align_self": null,
      "border": null,
      "bottom": null,
      "display": null,
      "flex": null,
      "flex_flow": null,
      "grid_area": null,
      "grid_auto_columns": null,
      "grid_auto_flow": null,
      "grid_auto_rows": null,
      "grid_column": null,
      "grid_gap": null,
      "grid_row": null,
      "grid_template_areas": null,
      "grid_template_columns": null,
      "grid_template_rows": null,
      "height": null,
      "justify_content": null,
      "justify_items": null,
      "left": null,
      "margin": null,
      "max_height": null,
      "max_width": null,
      "min_height": null,
      "min_width": null,
      "object_fit": null,
      "object_position": null,
      "order": null,
      "overflow": null,
      "overflow_x": null,
      "overflow_y": null,
      "padding": null,
      "right": null,
      "top": null,
      "visibility": null,
      "width": null
     }
    },
    "5604274498704a12bcd99b4c22964396": {
     "model_module": "@jupyter-widgets/base",
     "model_module_version": "1.2.0",
     "model_name": "LayoutModel",
     "state": {
      "_model_module": "@jupyter-widgets/base",
      "_model_module_version": "1.2.0",
      "_model_name": "LayoutModel",
      "_view_count": null,
      "_view_module": "@jupyter-widgets/base",
      "_view_module_version": "1.2.0",
      "_view_name": "LayoutView",
      "align_content": null,
      "align_items": null,
      "align_self": null,
      "border": null,
      "bottom": null,
      "display": null,
      "flex": null,
      "flex_flow": null,
      "grid_area": null,
      "grid_auto_columns": null,
      "grid_auto_flow": null,
      "grid_auto_rows": null,
      "grid_column": null,
      "grid_gap": null,
      "grid_row": null,
      "grid_template_areas": null,
      "grid_template_columns": null,
      "grid_template_rows": null,
      "height": null,
      "justify_content": null,
      "justify_items": null,
      "left": null,
      "margin": null,
      "max_height": null,
      "max_width": null,
      "min_height": null,
      "min_width": null,
      "object_fit": null,
      "object_position": null,
      "order": null,
      "overflow": null,
      "overflow_x": null,
      "overflow_y": null,
      "padding": null,
      "right": null,
      "top": null,
      "visibility": null,
      "width": null
     }
    },
    "599b3de3f800438cb2b3d8e40d5dac16": {
     "model_module": "@jupyter-widgets/controls",
     "model_module_version": "1.5.0",
     "model_name": "HTMLModel",
     "state": {
      "_dom_classes": [],
      "_model_module": "@jupyter-widgets/controls",
      "_model_module_version": "1.5.0",
      "_model_name": "HTMLModel",
      "_view_count": null,
      "_view_module": "@jupyter-widgets/controls",
      "_view_module_version": "1.5.0",
      "_view_name": "HTMLView",
      "description": "",
      "description_tooltip": null,
      "layout": "IPY_MODEL_b37c4da40f244b798f5a67bd7a377aa6",
      "placeholder": "​",
      "style": "IPY_MODEL_35a4b94cde1a4497a3b83ddc9f80e8aa",
      "value": " 3839/3839 [00:00&lt;00:00, 85373.84 examples/s]"
     }
    },
    "5baf9ef0528144f793546b21b1f60fd8": {
     "model_module": "@jupyter-widgets/controls",
     "model_module_version": "1.5.0",
     "model_name": "HTMLModel",
     "state": {
      "_dom_classes": [],
      "_model_module": "@jupyter-widgets/controls",
      "_model_module_version": "1.5.0",
      "_model_name": "HTMLModel",
      "_view_count": null,
      "_view_module": "@jupyter-widgets/controls",
      "_view_module_version": "1.5.0",
      "_view_name": "HTMLView",
      "description": "",
      "description_tooltip": null,
      "layout": "IPY_MODEL_a081b9ca9a0d4cc088cc79570a4a553f",
      "placeholder": "​",
      "style": "IPY_MODEL_4efbd0736f6f456dab9c0362a95b8054",
      "value": "100%"
     }
    },
    "5bcaa793a4de4acc99e86553016e361b": {
     "model_module": "@jupyter-widgets/controls",
     "model_module_version": "1.5.0",
     "model_name": "HTMLModel",
     "state": {
      "_dom_classes": [],
      "_model_module": "@jupyter-widgets/controls",
      "_model_module_version": "1.5.0",
      "_model_name": "HTMLModel",
      "_view_count": null,
      "_view_module": "@jupyter-widgets/controls",
      "_view_module_version": "1.5.0",
      "_view_name": "HTMLView",
      "description": "",
      "description_tooltip": null,
      "layout": "IPY_MODEL_323757fd6f9b4849ac17abb1351abb00",
      "placeholder": "​",
      "style": "IPY_MODEL_35ad5379e03546c5b4b1b7edb7c4a172",
      "value": "100%"
     }
    },
    "5caca9e442d54d86b23bb7ea292cf639": {
     "model_module": "@jupyter-widgets/controls",
     "model_module_version": "1.5.0",
     "model_name": "HTMLModel",
     "state": {
      "_dom_classes": [],
      "_model_module": "@jupyter-widgets/controls",
      "_model_module_version": "1.5.0",
      "_model_name": "HTMLModel",
      "_view_count": null,
      "_view_module": "@jupyter-widgets/controls",
      "_view_module_version": "1.5.0",
      "_view_name": "HTMLView",
      "description": "",
      "description_tooltip": null,
      "layout": "IPY_MODEL_835075b26c5446b88112dd414ec3147a",
      "placeholder": "​",
      "style": "IPY_MODEL_ad586a45e65945c293a5b6efab662cb0",
      "value": " 6.93k/6.93k [00:00&lt;00:00, 92.9kB/s]"
     }
    },
    "5d72eb12ca1643299397e38636d3738e": {
     "model_module": "@jupyter-widgets/controls",
     "model_module_version": "1.5.0",
     "model_name": "HBoxModel",
     "state": {
      "_dom_classes": [],
      "_model_module": "@jupyter-widgets/controls",
      "_model_module_version": "1.5.0",
      "_model_name": "HBoxModel",
      "_view_count": null,
      "_view_module": "@jupyter-widgets/controls",
      "_view_module_version": "1.5.0",
      "_view_name": "HBoxView",
      "box_style": "",
      "children": [
       "IPY_MODEL_dc15c3ca34014ac7b48e1d3e721a836f",
       "IPY_MODEL_80ffc58e60f04dea962a07b07aef778d",
       "IPY_MODEL_6660dc4dd6d44878bfd1631118d5c3e7"
      ],
      "layout": "IPY_MODEL_6ef369b9f4254d8dba106aed77dff8dc"
     }
    },
    "5ddee79213e44a0fa780fbd60280a325": {
     "model_module": "@jupyter-widgets/controls",
     "model_module_version": "1.5.0",
     "model_name": "HBoxModel",
     "state": {
      "_dom_classes": [],
      "_model_module": "@jupyter-widgets/controls",
      "_model_module_version": "1.5.0",
      "_model_name": "HBoxModel",
      "_view_count": null,
      "_view_module": "@jupyter-widgets/controls",
      "_view_module_version": "1.5.0",
      "_view_name": "HBoxView",
      "box_style": "",
      "children": [
       "IPY_MODEL_abec0c8a4ba14a4f9dd154faeeea00d8",
       "IPY_MODEL_71cc9061c0864a1886d2228f9957bbf1",
       "IPY_MODEL_b48283188e3748c39b1bbd022cadd07c"
      ],
      "layout": "IPY_MODEL_0128c429346e473bbe539c8e782642d2"
     }
    },
    "5de600c6a2364176a1c3825b7c1bef23": {
     "model_module": "@jupyter-widgets/base",
     "model_module_version": "1.2.0",
     "model_name": "LayoutModel",
     "state": {
      "_model_module": "@jupyter-widgets/base",
      "_model_module_version": "1.2.0",
      "_model_name": "LayoutModel",
      "_view_count": null,
      "_view_module": "@jupyter-widgets/base",
      "_view_module_version": "1.2.0",
      "_view_name": "LayoutView",
      "align_content": null,
      "align_items": null,
      "align_self": null,
      "border": null,
      "bottom": null,
      "display": null,
      "flex": null,
      "flex_flow": null,
      "grid_area": null,
      "grid_auto_columns": null,
      "grid_auto_flow": null,
      "grid_auto_rows": null,
      "grid_column": null,
      "grid_gap": null,
      "grid_row": null,
      "grid_template_areas": null,
      "grid_template_columns": null,
      "grid_template_rows": null,
      "height": null,
      "justify_content": null,
      "justify_items": null,
      "left": null,
      "margin": null,
      "max_height": null,
      "max_width": null,
      "min_height": null,
      "min_width": null,
      "object_fit": null,
      "object_position": null,
      "order": null,
      "overflow": null,
      "overflow_x": null,
      "overflow_y": null,
      "padding": null,
      "right": null,
      "top": null,
      "visibility": null,
      "width": null
     }
    },
    "60083d14728c4847af026df7d1c299d7": {
     "model_module": "@jupyter-widgets/controls",
     "model_module_version": "1.5.0",
     "model_name": "ProgressStyleModel",
     "state": {
      "_model_module": "@jupyter-widgets/controls",
      "_model_module_version": "1.5.0",
      "_model_name": "ProgressStyleModel",
      "_view_count": null,
      "_view_module": "@jupyter-widgets/base",
      "_view_module_version": "1.2.0",
      "_view_name": "StyleView",
      "bar_color": null,
      "description_width": ""
     }
    },
    "61e018e33d6e47aabe9a3ea9f43036bd": {
     "model_module": "@jupyter-widgets/controls",
     "model_module_version": "1.5.0",
     "model_name": "DescriptionStyleModel",
     "state": {
      "_model_module": "@jupyter-widgets/controls",
      "_model_module_version": "1.5.0",
      "_model_name": "DescriptionStyleModel",
      "_view_count": null,
      "_view_module": "@jupyter-widgets/base",
      "_view_module_version": "1.2.0",
      "_view_name": "StyleView",
      "description_width": ""
     }
    },
    "6367f17fe568427baf99f7830182cf70": {
     "model_module": "@jupyter-widgets/base",
     "model_module_version": "1.2.0",
     "model_name": "LayoutModel",
     "state": {
      "_model_module": "@jupyter-widgets/base",
      "_model_module_version": "1.2.0",
      "_model_name": "LayoutModel",
      "_view_count": null,
      "_view_module": "@jupyter-widgets/base",
      "_view_module_version": "1.2.0",
      "_view_name": "LayoutView",
      "align_content": null,
      "align_items": null,
      "align_self": null,
      "border": null,
      "bottom": null,
      "display": null,
      "flex": null,
      "flex_flow": null,
      "grid_area": null,
      "grid_auto_columns": null,
      "grid_auto_flow": null,
      "grid_auto_rows": null,
      "grid_column": null,
      "grid_gap": null,
      "grid_row": null,
      "grid_template_areas": null,
      "grid_template_columns": null,
      "grid_template_rows": null,
      "height": null,
      "justify_content": null,
      "justify_items": null,
      "left": null,
      "margin": null,
      "max_height": null,
      "max_width": null,
      "min_height": null,
      "min_width": null,
      "object_fit": null,
      "object_position": null,
      "order": null,
      "overflow": null,
      "overflow_x": null,
      "overflow_y": null,
      "padding": null,
      "right": null,
      "top": null,
      "visibility": null,
      "width": null
     }
    },
    "63f0d58e610e4dca9b4f80ef89024318": {
     "model_module": "@jupyter-widgets/base",
     "model_module_version": "1.2.0",
     "model_name": "LayoutModel",
     "state": {
      "_model_module": "@jupyter-widgets/base",
      "_model_module_version": "1.2.0",
      "_model_name": "LayoutModel",
      "_view_count": null,
      "_view_module": "@jupyter-widgets/base",
      "_view_module_version": "1.2.0",
      "_view_name": "LayoutView",
      "align_content": null,
      "align_items": null,
      "align_self": null,
      "border": null,
      "bottom": null,
      "display": null,
      "flex": null,
      "flex_flow": null,
      "grid_area": null,
      "grid_auto_columns": null,
      "grid_auto_flow": null,
      "grid_auto_rows": null,
      "grid_column": null,
      "grid_gap": null,
      "grid_row": null,
      "grid_template_areas": null,
      "grid_template_columns": null,
      "grid_template_rows": null,
      "height": null,
      "justify_content": null,
      "justify_items": null,
      "left": null,
      "margin": null,
      "max_height": null,
      "max_width": null,
      "min_height": null,
      "min_width": null,
      "object_fit": null,
      "object_position": null,
      "order": null,
      "overflow": null,
      "overflow_x": null,
      "overflow_y": null,
      "padding": null,
      "right": null,
      "top": null,
      "visibility": null,
      "width": null
     }
    },
    "66315ac80597426cbcfe9967697dfacc": {
     "model_module": "@jupyter-widgets/base",
     "model_module_version": "1.2.0",
     "model_name": "LayoutModel",
     "state": {
      "_model_module": "@jupyter-widgets/base",
      "_model_module_version": "1.2.0",
      "_model_name": "LayoutModel",
      "_view_count": null,
      "_view_module": "@jupyter-widgets/base",
      "_view_module_version": "1.2.0",
      "_view_name": "LayoutView",
      "align_content": null,
      "align_items": null,
      "align_self": null,
      "border": null,
      "bottom": null,
      "display": null,
      "flex": null,
      "flex_flow": null,
      "grid_area": null,
      "grid_auto_columns": null,
      "grid_auto_flow": null,
      "grid_auto_rows": null,
      "grid_column": null,
      "grid_gap": null,
      "grid_row": null,
      "grid_template_areas": null,
      "grid_template_columns": null,
      "grid_template_rows": null,
      "height": null,
      "justify_content": null,
      "justify_items": null,
      "left": null,
      "margin": null,
      "max_height": null,
      "max_width": null,
      "min_height": null,
      "min_width": null,
      "object_fit": null,
      "object_position": null,
      "order": null,
      "overflow": null,
      "overflow_x": null,
      "overflow_y": null,
      "padding": null,
      "right": null,
      "top": null,
      "visibility": null,
      "width": null
     }
    },
    "6660dc4dd6d44878bfd1631118d5c3e7": {
     "model_module": "@jupyter-widgets/controls",
     "model_module_version": "1.5.0",
     "model_name": "HTMLModel",
     "state": {
      "_dom_classes": [],
      "_model_module": "@jupyter-widgets/controls",
      "_model_module_version": "1.5.0",
      "_model_name": "HTMLModel",
      "_view_count": null,
      "_view_module": "@jupyter-widgets/controls",
      "_view_module_version": "1.5.0",
      "_view_name": "HTMLView",
      "description": "",
      "description_tooltip": null,
      "layout": "IPY_MODEL_a6eacbc87c7d420b99fc9000e83b756e",
      "placeholder": "​",
      "style": "IPY_MODEL_4ca725a26faf4348bee664f0b591cd3b",
      "value": " 3839/3839 [05:35&lt;00:00, 12.11it/s]"
     }
    },
    "66c82e522cff47d393d4a47fc045bfcd": {
     "model_module": "@jupyter-widgets/controls",
     "model_module_version": "1.5.0",
     "model_name": "FloatProgressModel",
     "state": {
      "_dom_classes": [],
      "_model_module": "@jupyter-widgets/controls",
      "_model_module_version": "1.5.0",
      "_model_name": "FloatProgressModel",
      "_view_count": null,
      "_view_module": "@jupyter-widgets/controls",
      "_view_module_version": "1.5.0",
      "_view_name": "ProgressView",
      "bar_style": "success",
      "description": "",
      "description_tooltip": null,
      "layout": "IPY_MODEL_2dc291ec9cdd4d74af7ddad3e8fc4f12",
      "max": 100,
      "min": 0,
      "orientation": "horizontal",
      "style": "IPY_MODEL_d357c103aef44cd3b91c6cbfbd0e91c8",
      "value": 100
     }
    },
    "67560acabcdf4ca0aefeaef6a276f54d": {
     "model_module": "@jupyter-widgets/controls",
     "model_module_version": "1.5.0",
     "model_name": "DescriptionStyleModel",
     "state": {
      "_model_module": "@jupyter-widgets/controls",
      "_model_module_version": "1.5.0",
      "_model_name": "DescriptionStyleModel",
      "_view_count": null,
      "_view_module": "@jupyter-widgets/base",
      "_view_module_version": "1.2.0",
      "_view_name": "StyleView",
      "description_width": ""
     }
    },
    "67f24c6278a547b5aa37caa397fe7d45": {
     "model_module": "@jupyter-widgets/controls",
     "model_module_version": "1.5.0",
     "model_name": "DescriptionStyleModel",
     "state": {
      "_model_module": "@jupyter-widgets/controls",
      "_model_module_version": "1.5.0",
      "_model_name": "DescriptionStyleModel",
      "_view_count": null,
      "_view_module": "@jupyter-widgets/base",
      "_view_module_version": "1.2.0",
      "_view_name": "StyleView",
      "description_width": ""
     }
    },
    "6af480a2035b482a81206d6c4ff572d2": {
     "model_module": "@jupyter-widgets/base",
     "model_module_version": "1.2.0",
     "model_name": "LayoutModel",
     "state": {
      "_model_module": "@jupyter-widgets/base",
      "_model_module_version": "1.2.0",
      "_model_name": "LayoutModel",
      "_view_count": null,
      "_view_module": "@jupyter-widgets/base",
      "_view_module_version": "1.2.0",
      "_view_name": "LayoutView",
      "align_content": null,
      "align_items": null,
      "align_self": null,
      "border": null,
      "bottom": null,
      "display": null,
      "flex": null,
      "flex_flow": null,
      "grid_area": null,
      "grid_auto_columns": null,
      "grid_auto_flow": null,
      "grid_auto_rows": null,
      "grid_column": null,
      "grid_gap": null,
      "grid_row": null,
      "grid_template_areas": null,
      "grid_template_columns": null,
      "grid_template_rows": null,
      "height": null,
      "justify_content": null,
      "justify_items": null,
      "left": null,
      "margin": null,
      "max_height": null,
      "max_width": null,
      "min_height": null,
      "min_width": null,
      "object_fit": null,
      "object_position": null,
      "order": null,
      "overflow": null,
      "overflow_x": null,
      "overflow_y": null,
      "padding": null,
      "right": null,
      "top": null,
      "visibility": null,
      "width": null
     }
    },
    "6eecb4f7d61f426888d31b2e4234f016": {
     "model_module": "@jupyter-widgets/controls",
     "model_module_version": "1.5.0",
     "model_name": "ProgressStyleModel",
     "state": {
      "_model_module": "@jupyter-widgets/controls",
      "_model_module_version": "1.5.0",
      "_model_name": "ProgressStyleModel",
      "_view_count": null,
      "_view_module": "@jupyter-widgets/base",
      "_view_module_version": "1.2.0",
      "_view_name": "StyleView",
      "bar_color": null,
      "description_width": ""
     }
    },
    "6ef369b9f4254d8dba106aed77dff8dc": {
     "model_module": "@jupyter-widgets/base",
     "model_module_version": "1.2.0",
     "model_name": "LayoutModel",
     "state": {
      "_model_module": "@jupyter-widgets/base",
      "_model_module_version": "1.2.0",
      "_model_name": "LayoutModel",
      "_view_count": null,
      "_view_module": "@jupyter-widgets/base",
      "_view_module_version": "1.2.0",
      "_view_name": "LayoutView",
      "align_content": null,
      "align_items": null,
      "align_self": null,
      "border": null,
      "bottom": null,
      "display": null,
      "flex": null,
      "flex_flow": null,
      "grid_area": null,
      "grid_auto_columns": null,
      "grid_auto_flow": null,
      "grid_auto_rows": null,
      "grid_column": null,
      "grid_gap": null,
      "grid_row": null,
      "grid_template_areas": null,
      "grid_template_columns": null,
      "grid_template_rows": null,
      "height": null,
      "justify_content": null,
      "justify_items": null,
      "left": null,
      "margin": null,
      "max_height": null,
      "max_width": null,
      "min_height": null,
      "min_width": null,
      "object_fit": null,
      "object_position": null,
      "order": null,
      "overflow": null,
      "overflow_x": null,
      "overflow_y": null,
      "padding": null,
      "right": null,
      "top": null,
      "visibility": null,
      "width": null
     }
    },
    "71cc9061c0864a1886d2228f9957bbf1": {
     "model_module": "@jupyter-widgets/controls",
     "model_module_version": "1.5.0",
     "model_name": "FloatProgressModel",
     "state": {
      "_dom_classes": [],
      "_model_module": "@jupyter-widgets/controls",
      "_model_module_version": "1.5.0",
      "_model_name": "FloatProgressModel",
      "_view_count": null,
      "_view_module": "@jupyter-widgets/controls",
      "_view_module_version": "1.5.0",
      "_view_name": "ProgressView",
      "bar_style": "success",
      "description": "",
      "description_tooltip": null,
      "layout": "IPY_MODEL_ec15b43bfe0f4622b3c8ec66b41bc368",
      "max": 100,
      "min": 0,
      "orientation": "horizontal",
      "style": "IPY_MODEL_f0204afd650a4920ba6f3c42abed0280",
      "value": 100
     }
    },
    "71d6d3d0345e4242a57986e003d574e6": {
     "model_module": "@jupyter-widgets/base",
     "model_module_version": "1.2.0",
     "model_name": "LayoutModel",
     "state": {
      "_model_module": "@jupyter-widgets/base",
      "_model_module_version": "1.2.0",
      "_model_name": "LayoutModel",
      "_view_count": null,
      "_view_module": "@jupyter-widgets/base",
      "_view_module_version": "1.2.0",
      "_view_name": "LayoutView",
      "align_content": null,
      "align_items": null,
      "align_self": null,
      "border": null,
      "bottom": null,
      "display": null,
      "flex": null,
      "flex_flow": null,
      "grid_area": null,
      "grid_auto_columns": null,
      "grid_auto_flow": null,
      "grid_auto_rows": null,
      "grid_column": null,
      "grid_gap": null,
      "grid_row": null,
      "grid_template_areas": null,
      "grid_template_columns": null,
      "grid_template_rows": null,
      "height": null,
      "justify_content": null,
      "justify_items": null,
      "left": null,
      "margin": null,
      "max_height": null,
      "max_width": null,
      "min_height": null,
      "min_width": null,
      "object_fit": null,
      "object_position": null,
      "order": null,
      "overflow": null,
      "overflow_x": null,
      "overflow_y": null,
      "padding": null,
      "right": null,
      "top": null,
      "visibility": null,
      "width": null
     }
    },
    "747bae5ba2d44d02a290aa5fcfcdabd5": {
     "model_module": "@jupyter-widgets/controls",
     "model_module_version": "1.5.0",
     "model_name": "DescriptionStyleModel",
     "state": {
      "_model_module": "@jupyter-widgets/controls",
      "_model_module_version": "1.5.0",
      "_model_name": "DescriptionStyleModel",
      "_view_count": null,
      "_view_module": "@jupyter-widgets/base",
      "_view_module_version": "1.2.0",
      "_view_name": "StyleView",
      "description_width": ""
     }
    },
    "76d281f981924d2a8c635e08e36ef4fe": {
     "model_module": "@jupyter-widgets/controls",
     "model_module_version": "1.5.0",
     "model_name": "HBoxModel",
     "state": {
      "_dom_classes": [],
      "_model_module": "@jupyter-widgets/controls",
      "_model_module_version": "1.5.0",
      "_model_name": "HBoxModel",
      "_view_count": null,
      "_view_module": "@jupyter-widgets/controls",
      "_view_module_version": "1.5.0",
      "_view_name": "HBoxView",
      "box_style": "",
      "children": [
       "IPY_MODEL_1700756807404b99af25a2fe70b09043",
       "IPY_MODEL_189eb9226a5643e7989ccd90ea5b65e1",
       "IPY_MODEL_943e9e2a428b48d9ac2af2f4f556eecf"
      ],
      "layout": "IPY_MODEL_92732c1414a543d8bfb13188c5165ea0"
     }
    },
    "77c8a1b352774c23b7fc29af5d4ad905": {
     "model_module": "@jupyter-widgets/controls",
     "model_module_version": "1.5.0",
     "model_name": "HTMLModel",
     "state": {
      "_dom_classes": [],
      "_model_module": "@jupyter-widgets/controls",
      "_model_module_version": "1.5.0",
      "_model_name": "HTMLModel",
      "_view_count": null,
      "_view_module": "@jupyter-widgets/controls",
      "_view_module_version": "1.5.0",
      "_view_name": "HTMLView",
      "description": "",
      "description_tooltip": null,
      "layout": "IPY_MODEL_66315ac80597426cbcfe9967697dfacc",
      "placeholder": "​",
      "style": "IPY_MODEL_7983c536a14348ab8eb756b4e14b131e",
      "value": "Epoch=2 Loss=2.271 BLEU=6.928: 100%"
     }
    },
    "7983c536a14348ab8eb756b4e14b131e": {
     "model_module": "@jupyter-widgets/controls",
     "model_module_version": "1.5.0",
     "model_name": "DescriptionStyleModel",
     "state": {
      "_model_module": "@jupyter-widgets/controls",
      "_model_module_version": "1.5.0",
      "_model_name": "DescriptionStyleModel",
      "_view_count": null,
      "_view_module": "@jupyter-widgets/base",
      "_view_module_version": "1.2.0",
      "_view_name": "StyleView",
      "description_width": ""
     }
    },
    "79bd87d5dc054fc69ad13afcbf4ddada": {
     "model_module": "@jupyter-widgets/controls",
     "model_module_version": "1.5.0",
     "model_name": "HTMLModel",
     "state": {
      "_dom_classes": [],
      "_model_module": "@jupyter-widgets/controls",
      "_model_module_version": "1.5.0",
      "_model_name": "HTMLModel",
      "_view_count": null,
      "_view_module": "@jupyter-widgets/controls",
      "_view_module_version": "1.5.0",
      "_view_name": "HTMLView",
      "description": "",
      "description_tooltip": null,
      "layout": "IPY_MODEL_e31cc79fab334f9eb6c8301396762992",
      "placeholder": "​",
      "style": "IPY_MODEL_0efa62716ec144a4b00cf9c25084b474",
      "value": "Epoch=1 Loss=2.640 BLEU=6.928: 100%"
     }
    },
    "79f5de4c6ca64174b4b51b79c4bb8825": {
     "model_module": "@jupyter-widgets/base",
     "model_module_version": "1.2.0",
     "model_name": "LayoutModel",
     "state": {
      "_model_module": "@jupyter-widgets/base",
      "_model_module_version": "1.2.0",
      "_model_name": "LayoutModel",
      "_view_count": null,
      "_view_module": "@jupyter-widgets/base",
      "_view_module_version": "1.2.0",
      "_view_name": "LayoutView",
      "align_content": null,
      "align_items": null,
      "align_self": null,
      "border": null,
      "bottom": null,
      "display": null,
      "flex": null,
      "flex_flow": null,
      "grid_area": null,
      "grid_auto_columns": null,
      "grid_auto_flow": null,
      "grid_auto_rows": null,
      "grid_column": null,
      "grid_gap": null,
      "grid_row": null,
      "grid_template_areas": null,
      "grid_template_columns": null,
      "grid_template_rows": null,
      "height": null,
      "justify_content": null,
      "justify_items": null,
      "left": null,
      "margin": null,
      "max_height": null,
      "max_width": null,
      "min_height": null,
      "min_width": null,
      "object_fit": null,
      "object_position": null,
      "order": null,
      "overflow": null,
      "overflow_x": null,
      "overflow_y": null,
      "padding": null,
      "right": null,
      "top": null,
      "visibility": null,
      "width": null
     }
    },
    "7e355ab07aa442fcbd13886dbaac423e": {
     "model_module": "@jupyter-widgets/base",
     "model_module_version": "1.2.0",
     "model_name": "LayoutModel",
     "state": {
      "_model_module": "@jupyter-widgets/base",
      "_model_module_version": "1.2.0",
      "_model_name": "LayoutModel",
      "_view_count": null,
      "_view_module": "@jupyter-widgets/base",
      "_view_module_version": "1.2.0",
      "_view_name": "LayoutView",
      "align_content": null,
      "align_items": null,
      "align_self": null,
      "border": null,
      "bottom": null,
      "display": null,
      "flex": null,
      "flex_flow": null,
      "grid_area": null,
      "grid_auto_columns": null,
      "grid_auto_flow": null,
      "grid_auto_rows": null,
      "grid_column": null,
      "grid_gap": null,
      "grid_row": null,
      "grid_template_areas": null,
      "grid_template_columns": null,
      "grid_template_rows": null,
      "height": null,
      "justify_content": null,
      "justify_items": null,
      "left": null,
      "margin": null,
      "max_height": null,
      "max_width": null,
      "min_height": null,
      "min_width": null,
      "object_fit": null,
      "object_position": null,
      "order": null,
      "overflow": null,
      "overflow_x": null,
      "overflow_y": null,
      "padding": null,
      "right": null,
      "top": null,
      "visibility": null,
      "width": null
     }
    },
    "7e360c17d3e34beb98bae7b1904445c2": {
     "model_module": "@jupyter-widgets/controls",
     "model_module_version": "1.5.0",
     "model_name": "DescriptionStyleModel",
     "state": {
      "_model_module": "@jupyter-widgets/controls",
      "_model_module_version": "1.5.0",
      "_model_name": "DescriptionStyleModel",
      "_view_count": null,
      "_view_module": "@jupyter-widgets/base",
      "_view_module_version": "1.2.0",
      "_view_name": "StyleView",
      "description_width": ""
     }
    },
    "80ffc58e60f04dea962a07b07aef778d": {
     "model_module": "@jupyter-widgets/controls",
     "model_module_version": "1.5.0",
     "model_name": "FloatProgressModel",
     "state": {
      "_dom_classes": [],
      "_model_module": "@jupyter-widgets/controls",
      "_model_module_version": "1.5.0",
      "_model_name": "FloatProgressModel",
      "_view_count": null,
      "_view_module": "@jupyter-widgets/controls",
      "_view_module_version": "1.5.0",
      "_view_name": "ProgressView",
      "bar_style": "success",
      "description": "",
      "description_tooltip": null,
      "layout": "IPY_MODEL_3fb159f40c4442bfbb092848f0669d60",
      "max": 3839,
      "min": 0,
      "orientation": "horizontal",
      "style": "IPY_MODEL_2e53ff7d08514a3b9c745b875c7ee56b",
      "value": 3839
     }
    },
    "8159be4faf044cf9900a3399c27d9a15": {
     "model_module": "@jupyter-widgets/base",
     "model_module_version": "1.2.0",
     "model_name": "LayoutModel",
     "state": {
      "_model_module": "@jupyter-widgets/base",
      "_model_module_version": "1.2.0",
      "_model_name": "LayoutModel",
      "_view_count": null,
      "_view_module": "@jupyter-widgets/base",
      "_view_module_version": "1.2.0",
      "_view_name": "LayoutView",
      "align_content": null,
      "align_items": null,
      "align_self": null,
      "border": null,
      "bottom": null,
      "display": null,
      "flex": null,
      "flex_flow": null,
      "grid_area": null,
      "grid_auto_columns": null,
      "grid_auto_flow": null,
      "grid_auto_rows": null,
      "grid_column": null,
      "grid_gap": null,
      "grid_row": null,
      "grid_template_areas": null,
      "grid_template_columns": null,
      "grid_template_rows": null,
      "height": null,
      "justify_content": null,
      "justify_items": null,
      "left": null,
      "margin": null,
      "max_height": null,
      "max_width": null,
      "min_height": null,
      "min_width": null,
      "object_fit": null,
      "object_position": null,
      "order": null,
      "overflow": null,
      "overflow_x": null,
      "overflow_y": null,
      "padding": null,
      "right": null,
      "top": null,
      "visibility": null,
      "width": null
     }
    },
    "835075b26c5446b88112dd414ec3147a": {
     "model_module": "@jupyter-widgets/base",
     "model_module_version": "1.2.0",
     "model_name": "LayoutModel",
     "state": {
      "_model_module": "@jupyter-widgets/base",
      "_model_module_version": "1.2.0",
      "_model_name": "LayoutModel",
      "_view_count": null,
      "_view_module": "@jupyter-widgets/base",
      "_view_module_version": "1.2.0",
      "_view_name": "LayoutView",
      "align_content": null,
      "align_items": null,
      "align_self": null,
      "border": null,
      "bottom": null,
      "display": null,
      "flex": null,
      "flex_flow": null,
      "grid_area": null,
      "grid_auto_columns": null,
      "grid_auto_flow": null,
      "grid_auto_rows": null,
      "grid_column": null,
      "grid_gap": null,
      "grid_row": null,
      "grid_template_areas": null,
      "grid_template_columns": null,
      "grid_template_rows": null,
      "height": null,
      "justify_content": null,
      "justify_items": null,
      "left": null,
      "margin": null,
      "max_height": null,
      "max_width": null,
      "min_height": null,
      "min_width": null,
      "object_fit": null,
      "object_position": null,
      "order": null,
      "overflow": null,
      "overflow_x": null,
      "overflow_y": null,
      "padding": null,
      "right": null,
      "top": null,
      "visibility": null,
      "width": null
     }
    },
    "8370cfc7f7614f14824955587aea7986": {
     "model_module": "@jupyter-widgets/controls",
     "model_module_version": "1.5.0",
     "model_name": "HBoxModel",
     "state": {
      "_dom_classes": [],
      "_model_module": "@jupyter-widgets/controls",
      "_model_module_version": "1.5.0",
      "_model_name": "HBoxModel",
      "_view_count": null,
      "_view_module": "@jupyter-widgets/controls",
      "_view_module_version": "1.5.0",
      "_view_name": "HBoxView",
      "box_style": "",
      "children": [
       "IPY_MODEL_4b65c3dbe2e9436b9211c197ea910a95",
       "IPY_MODEL_0c9c6d0f8ea24facaee50cfe05d5ce67",
       "IPY_MODEL_5caca9e442d54d86b23bb7ea292cf639"
      ],
      "layout": "IPY_MODEL_dc47ca11582e4af2b17afff63eadbca7"
     }
    },
    "84dadeecfdc04a128158b9b5b5c9979c": {
     "model_module": "@jupyter-widgets/controls",
     "model_module_version": "1.5.0",
     "model_name": "DescriptionStyleModel",
     "state": {
      "_model_module": "@jupyter-widgets/controls",
      "_model_module_version": "1.5.0",
      "_model_name": "DescriptionStyleModel",
      "_view_count": null,
      "_view_module": "@jupyter-widgets/base",
      "_view_module_version": "1.2.0",
      "_view_name": "StyleView",
      "description_width": ""
     }
    },
    "854560ffd7bd4a77ae832a95adb8ff9f": {
     "model_module": "@jupyter-widgets/controls",
     "model_module_version": "1.5.0",
     "model_name": "HTMLModel",
     "state": {
      "_dom_classes": [],
      "_model_module": "@jupyter-widgets/controls",
      "_model_module_version": "1.5.0",
      "_model_name": "HTMLModel",
      "_view_count": null,
      "_view_module": "@jupyter-widgets/controls",
      "_view_module_version": "1.5.0",
      "_view_name": "HTMLView",
      "description": "",
      "description_tooltip": null,
      "layout": "IPY_MODEL_e2c2cc94fc674713b84174578938bdcc",
      "placeholder": "​",
      "style": "IPY_MODEL_9a654d499811418fa44a5a09c8f3e713",
      "value": "Epoch=3 Loss=2.523 BLEU=6.928: 100%"
     }
    },
    "8d7d0047aa0b420eb0024a0152e4d42b": {
     "model_module": "@jupyter-widgets/base",
     "model_module_version": "1.2.0",
     "model_name": "LayoutModel",
     "state": {
      "_model_module": "@jupyter-widgets/base",
      "_model_module_version": "1.2.0",
      "_model_name": "LayoutModel",
      "_view_count": null,
      "_view_module": "@jupyter-widgets/base",
      "_view_module_version": "1.2.0",
      "_view_name": "LayoutView",
      "align_content": null,
      "align_items": null,
      "align_self": null,
      "border": null,
      "bottom": null,
      "display": null,
      "flex": null,
      "flex_flow": null,
      "grid_area": null,
      "grid_auto_columns": null,
      "grid_auto_flow": null,
      "grid_auto_rows": null,
      "grid_column": null,
      "grid_gap": null,
      "grid_row": null,
      "grid_template_areas": null,
      "grid_template_columns": null,
      "grid_template_rows": null,
      "height": null,
      "justify_content": null,
      "justify_items": null,
      "left": null,
      "margin": null,
      "max_height": null,
      "max_width": null,
      "min_height": null,
      "min_width": null,
      "object_fit": null,
      "object_position": null,
      "order": null,
      "overflow": null,
      "overflow_x": null,
      "overflow_y": null,
      "padding": null,
      "right": null,
      "top": null,
      "visibility": null,
      "width": null
     }
    },
    "92732c1414a543d8bfb13188c5165ea0": {
     "model_module": "@jupyter-widgets/base",
     "model_module_version": "1.2.0",
     "model_name": "LayoutModel",
     "state": {
      "_model_module": "@jupyter-widgets/base",
      "_model_module_version": "1.2.0",
      "_model_name": "LayoutModel",
      "_view_count": null,
      "_view_module": "@jupyter-widgets/base",
      "_view_module_version": "1.2.0",
      "_view_name": "LayoutView",
      "align_content": null,
      "align_items": null,
      "align_self": null,
      "border": null,
      "bottom": null,
      "display": null,
      "flex": null,
      "flex_flow": null,
      "grid_area": null,
      "grid_auto_columns": null,
      "grid_auto_flow": null,
      "grid_auto_rows": null,
      "grid_column": null,
      "grid_gap": null,
      "grid_row": null,
      "grid_template_areas": null,
      "grid_template_columns": null,
      "grid_template_rows": null,
      "height": null,
      "justify_content": null,
      "justify_items": null,
      "left": null,
      "margin": null,
      "max_height": null,
      "max_width": null,
      "min_height": null,
      "min_width": null,
      "object_fit": null,
      "object_position": null,
      "order": null,
      "overflow": null,
      "overflow_x": null,
      "overflow_y": null,
      "padding": null,
      "right": null,
      "top": null,
      "visibility": null,
      "width": null
     }
    },
    "943e9e2a428b48d9ac2af2f4f556eecf": {
     "model_module": "@jupyter-widgets/controls",
     "model_module_version": "1.5.0",
     "model_name": "HTMLModel",
     "state": {
      "_dom_classes": [],
      "_model_module": "@jupyter-widgets/controls",
      "_model_module_version": "1.5.0",
      "_model_name": "HTMLModel",
      "_view_count": null,
      "_view_module": "@jupyter-widgets/controls",
      "_view_module_version": "1.5.0",
      "_view_name": "HTMLView",
      "description": "",
      "description_tooltip": null,
      "layout": "IPY_MODEL_4ff00b6d00a9474bb5283469c7b36b1c",
      "placeholder": "​",
      "style": "IPY_MODEL_b27ff479cbce4e5ca7610847cae538d6",
      "value": " 479/479 [19:24&lt;00:00,  1.01s/it]"
     }
    },
    "95f843e30f384e7f8f8db739404779e2": {
     "model_module": "@jupyter-widgets/controls",
     "model_module_version": "1.5.0",
     "model_name": "ProgressStyleModel",
     "state": {
      "_model_module": "@jupyter-widgets/controls",
      "_model_module_version": "1.5.0",
      "_model_name": "ProgressStyleModel",
      "_view_count": null,
      "_view_module": "@jupyter-widgets/base",
      "_view_module_version": "1.2.0",
      "_view_name": "StyleView",
      "bar_color": null,
      "description_width": ""
     }
    },
    "97143437f1ad40d5a4f41340e1953c65": {
     "model_module": "@jupyter-widgets/base",
     "model_module_version": "1.2.0",
     "model_name": "LayoutModel",
     "state": {
      "_model_module": "@jupyter-widgets/base",
      "_model_module_version": "1.2.0",
      "_model_name": "LayoutModel",
      "_view_count": null,
      "_view_module": "@jupyter-widgets/base",
      "_view_module_version": "1.2.0",
      "_view_name": "LayoutView",
      "align_content": null,
      "align_items": null,
      "align_self": null,
      "border": null,
      "bottom": null,
      "display": null,
      "flex": null,
      "flex_flow": null,
      "grid_area": null,
      "grid_auto_columns": null,
      "grid_auto_flow": null,
      "grid_auto_rows": null,
      "grid_column": null,
      "grid_gap": null,
      "grid_row": null,
      "grid_template_areas": null,
      "grid_template_columns": null,
      "grid_template_rows": null,
      "height": null,
      "justify_content": null,
      "justify_items": null,
      "left": null,
      "margin": null,
      "max_height": null,
      "max_width": null,
      "min_height": null,
      "min_width": null,
      "object_fit": null,
      "object_position": null,
      "order": null,
      "overflow": null,
      "overflow_x": null,
      "overflow_y": null,
      "padding": null,
      "right": null,
      "top": null,
      "visibility": null,
      "width": null
     }
    },
    "98431ab3713843de8bbae54b0be6c316": {
     "model_module": "@jupyter-widgets/controls",
     "model_module_version": "1.5.0",
     "model_name": "HTMLModel",
     "state": {
      "_dom_classes": [],
      "_model_module": "@jupyter-widgets/controls",
      "_model_module_version": "1.5.0",
      "_model_name": "HTMLModel",
      "_view_count": null,
      "_view_module": "@jupyter-widgets/controls",
      "_view_module_version": "1.5.0",
      "_view_name": "HTMLView",
      "description": "",
      "description_tooltip": null,
      "layout": "IPY_MODEL_9ec6e51ede5a43599b4a799c70861e5e",
      "placeholder": "​",
      "style": "IPY_MODEL_3e48714da49840e28a7e6ed01a424f58",
      "value": " 1045/1045 [00:00&lt;00:00, 27048.50 examples/s]"
     }
    },
    "98c010ddb547459c855613633af7c0d4": {
     "model_module": "@jupyter-widgets/base",
     "model_module_version": "1.2.0",
     "model_name": "LayoutModel",
     "state": {
      "_model_module": "@jupyter-widgets/base",
      "_model_module_version": "1.2.0",
      "_model_name": "LayoutModel",
      "_view_count": null,
      "_view_module": "@jupyter-widgets/base",
      "_view_module_version": "1.2.0",
      "_view_name": "LayoutView",
      "align_content": null,
      "align_items": null,
      "align_self": null,
      "border": null,
      "bottom": null,
      "display": null,
      "flex": null,
      "flex_flow": null,
      "grid_area": null,
      "grid_auto_columns": null,
      "grid_auto_flow": null,
      "grid_auto_rows": null,
      "grid_column": null,
      "grid_gap": null,
      "grid_row": null,
      "grid_template_areas": null,
      "grid_template_columns": null,
      "grid_template_rows": null,
      "height": null,
      "justify_content": null,
      "justify_items": null,
      "left": null,
      "margin": null,
      "max_height": null,
      "max_width": null,
      "min_height": null,
      "min_width": null,
      "object_fit": null,
      "object_position": null,
      "order": null,
      "overflow": null,
      "overflow_x": null,
      "overflow_y": null,
      "padding": null,
      "right": null,
      "top": null,
      "visibility": null,
      "width": null
     }
    },
    "9a2cf25eb2384639af572276af8aa24a": {
     "model_module": "@jupyter-widgets/controls",
     "model_module_version": "1.5.0",
     "model_name": "DescriptionStyleModel",
     "state": {
      "_model_module": "@jupyter-widgets/controls",
      "_model_module_version": "1.5.0",
      "_model_name": "DescriptionStyleModel",
      "_view_count": null,
      "_view_module": "@jupyter-widgets/base",
      "_view_module_version": "1.2.0",
      "_view_name": "StyleView",
      "description_width": ""
     }
    },
    "9a654d499811418fa44a5a09c8f3e713": {
     "model_module": "@jupyter-widgets/controls",
     "model_module_version": "1.5.0",
     "model_name": "DescriptionStyleModel",
     "state": {
      "_model_module": "@jupyter-widgets/controls",
      "_model_module_version": "1.5.0",
      "_model_name": "DescriptionStyleModel",
      "_view_count": null,
      "_view_module": "@jupyter-widgets/base",
      "_view_module_version": "1.2.0",
      "_view_name": "StyleView",
      "description_width": ""
     }
    },
    "9b85f93735e040d5956a57fb0c42a175": {
     "model_module": "@jupyter-widgets/controls",
     "model_module_version": "1.5.0",
     "model_name": "HTMLModel",
     "state": {
      "_dom_classes": [],
      "_model_module": "@jupyter-widgets/controls",
      "_model_module_version": "1.5.0",
      "_model_name": "HTMLModel",
      "_view_count": null,
      "_view_module": "@jupyter-widgets/controls",
      "_view_module_version": "1.5.0",
      "_view_name": "HTMLView",
      "description": "",
      "description_tooltip": null,
      "layout": "IPY_MODEL_cdbdb21bd47c43279520a1f26eb6512e",
      "placeholder": "​",
      "style": "IPY_MODEL_61e018e33d6e47aabe9a3ea9f43036bd",
      "value": " 100/100 [01:22&lt;00:00,  1.27it/s]"
     }
    },
    "9c147df955214df7b30a005bf93b37e8": {
     "model_module": "@jupyter-widgets/controls",
     "model_module_version": "1.5.0",
     "model_name": "FloatProgressModel",
     "state": {
      "_dom_classes": [],
      "_model_module": "@jupyter-widgets/controls",
      "_model_module_version": "1.5.0",
      "_model_name": "FloatProgressModel",
      "_view_count": null,
      "_view_module": "@jupyter-widgets/controls",
      "_view_module_version": "1.5.0",
      "_view_name": "ProgressView",
      "bar_style": "success",
      "description": "",
      "description_tooltip": null,
      "layout": "IPY_MODEL_faa3ee74fe4943debe3e40c3195199dd",
      "max": 3839,
      "min": 0,
      "orientation": "horizontal",
      "style": "IPY_MODEL_02f48f63aa804184b3489300bc8a098c",
      "value": 3839
     }
    },
    "9cbe93a386e34ac4a1bd22182bad4021": {
     "model_module": "@jupyter-widgets/controls",
     "model_module_version": "1.5.0",
     "model_name": "HTMLModel",
     "state": {
      "_dom_classes": [],
      "_model_module": "@jupyter-widgets/controls",
      "_model_module_version": "1.5.0",
      "_model_name": "HTMLModel",
      "_view_count": null,
      "_view_module": "@jupyter-widgets/controls",
      "_view_module_version": "1.5.0",
      "_view_name": "HTMLView",
      "description": "",
      "description_tooltip": null,
      "layout": "IPY_MODEL_6af480a2035b482a81206d6c4ff572d2",
      "placeholder": "​",
      "style": "IPY_MODEL_103e87207e624346b3cf47ecaeb881d5",
      "value": " 479/479 [27:35&lt;00:00,  1.01s/it]"
     }
    },
    "9ec6e51ede5a43599b4a799c70861e5e": {
     "model_module": "@jupyter-widgets/base",
     "model_module_version": "1.2.0",
     "model_name": "LayoutModel",
     "state": {
      "_model_module": "@jupyter-widgets/base",
      "_model_module_version": "1.2.0",
      "_model_name": "LayoutModel",
      "_view_count": null,
      "_view_module": "@jupyter-widgets/base",
      "_view_module_version": "1.2.0",
      "_view_name": "LayoutView",
      "align_content": null,
      "align_items": null,
      "align_self": null,
      "border": null,
      "bottom": null,
      "display": null,
      "flex": null,
      "flex_flow": null,
      "grid_area": null,
      "grid_auto_columns": null,
      "grid_auto_flow": null,
      "grid_auto_rows": null,
      "grid_column": null,
      "grid_gap": null,
      "grid_row": null,
      "grid_template_areas": null,
      "grid_template_columns": null,
      "grid_template_rows": null,
      "height": null,
      "justify_content": null,
      "justify_items": null,
      "left": null,
      "margin": null,
      "max_height": null,
      "max_width": null,
      "min_height": null,
      "min_width": null,
      "object_fit": null,
      "object_position": null,
      "order": null,
      "overflow": null,
      "overflow_x": null,
      "overflow_y": null,
      "padding": null,
      "right": null,
      "top": null,
      "visibility": null,
      "width": null
     }
    },
    "9fb10caa6e034fb1aa0c4966e1b2266d": {
     "model_module": "@jupyter-widgets/base",
     "model_module_version": "1.2.0",
     "model_name": "LayoutModel",
     "state": {
      "_model_module": "@jupyter-widgets/base",
      "_model_module_version": "1.2.0",
      "_model_name": "LayoutModel",
      "_view_count": null,
      "_view_module": "@jupyter-widgets/base",
      "_view_module_version": "1.2.0",
      "_view_name": "LayoutView",
      "align_content": null,
      "align_items": null,
      "align_self": null,
      "border": null,
      "bottom": null,
      "display": null,
      "flex": null,
      "flex_flow": null,
      "grid_area": null,
      "grid_auto_columns": null,
      "grid_auto_flow": null,
      "grid_auto_rows": null,
      "grid_column": null,
      "grid_gap": null,
      "grid_row": null,
      "grid_template_areas": null,
      "grid_template_columns": null,
      "grid_template_rows": null,
      "height": null,
      "justify_content": null,
      "justify_items": null,
      "left": null,
      "margin": null,
      "max_height": null,
      "max_width": null,
      "min_height": null,
      "min_width": null,
      "object_fit": null,
      "object_position": null,
      "order": null,
      "overflow": null,
      "overflow_x": null,
      "overflow_y": null,
      "padding": null,
      "right": null,
      "top": null,
      "visibility": null,
      "width": null
     }
    },
    "a081b9ca9a0d4cc088cc79570a4a553f": {
     "model_module": "@jupyter-widgets/base",
     "model_module_version": "1.2.0",
     "model_name": "LayoutModel",
     "state": {
      "_model_module": "@jupyter-widgets/base",
      "_model_module_version": "1.2.0",
      "_model_name": "LayoutModel",
      "_view_count": null,
      "_view_module": "@jupyter-widgets/base",
      "_view_module_version": "1.2.0",
      "_view_name": "LayoutView",
      "align_content": null,
      "align_items": null,
      "align_self": null,
      "border": null,
      "bottom": null,
      "display": null,
      "flex": null,
      "flex_flow": null,
      "grid_area": null,
      "grid_auto_columns": null,
      "grid_auto_flow": null,
      "grid_auto_rows": null,
      "grid_column": null,
      "grid_gap": null,
      "grid_row": null,
      "grid_template_areas": null,
      "grid_template_columns": null,
      "grid_template_rows": null,
      "height": null,
      "justify_content": null,
      "justify_items": null,
      "left": null,
      "margin": null,
      "max_height": null,
      "max_width": null,
      "min_height": null,
      "min_width": null,
      "object_fit": null,
      "object_position": null,
      "order": null,
      "overflow": null,
      "overflow_x": null,
      "overflow_y": null,
      "padding": null,
      "right": null,
      "top": null,
      "visibility": null,
      "width": null
     }
    },
    "a0aea2bbc4994d26811058630c7cfd50": {
     "model_module": "@jupyter-widgets/controls",
     "model_module_version": "1.5.0",
     "model_name": "ProgressStyleModel",
     "state": {
      "_model_module": "@jupyter-widgets/controls",
      "_model_module_version": "1.5.0",
      "_model_name": "ProgressStyleModel",
      "_view_count": null,
      "_view_module": "@jupyter-widgets/base",
      "_view_module_version": "1.2.0",
      "_view_name": "StyleView",
      "bar_color": null,
      "description_width": ""
     }
    },
    "a0cbcfa9b5cb46d68c45bfc2ce0dc4c3": {
     "model_module": "@jupyter-widgets/controls",
     "model_module_version": "1.5.0",
     "model_name": "HBoxModel",
     "state": {
      "_dom_classes": [],
      "_model_module": "@jupyter-widgets/controls",
      "_model_module_version": "1.5.0",
      "_model_name": "HBoxModel",
      "_view_count": null,
      "_view_module": "@jupyter-widgets/controls",
      "_view_module_version": "1.5.0",
      "_view_name": "HBoxView",
      "box_style": "",
      "children": [
       "IPY_MODEL_854560ffd7bd4a77ae832a95adb8ff9f",
       "IPY_MODEL_ba93173c1ed6483a9588a165f8e1700b",
       "IPY_MODEL_9cbe93a386e34ac4a1bd22182bad4021"
      ],
      "layout": "IPY_MODEL_6367f17fe568427baf99f7830182cf70"
     }
    },
    "a3225f4cb1134209983c087bb9fda4a7": {
     "model_module": "@jupyter-widgets/base",
     "model_module_version": "1.2.0",
     "model_name": "LayoutModel",
     "state": {
      "_model_module": "@jupyter-widgets/base",
      "_model_module_version": "1.2.0",
      "_model_name": "LayoutModel",
      "_view_count": null,
      "_view_module": "@jupyter-widgets/base",
      "_view_module_version": "1.2.0",
      "_view_name": "LayoutView",
      "align_content": null,
      "align_items": null,
      "align_self": null,
      "border": null,
      "bottom": null,
      "display": null,
      "flex": null,
      "flex_flow": null,
      "grid_area": null,
      "grid_auto_columns": null,
      "grid_auto_flow": null,
      "grid_auto_rows": null,
      "grid_column": null,
      "grid_gap": null,
      "grid_row": null,
      "grid_template_areas": null,
      "grid_template_columns": null,
      "grid_template_rows": null,
      "height": null,
      "justify_content": null,
      "justify_items": null,
      "left": null,
      "margin": null,
      "max_height": null,
      "max_width": null,
      "min_height": null,
      "min_width": null,
      "object_fit": null,
      "object_position": null,
      "order": null,
      "overflow": null,
      "overflow_x": null,
      "overflow_y": null,
      "padding": null,
      "right": null,
      "top": null,
      "visibility": null,
      "width": null
     }
    },
    "a6d72e6ca74544f2b9d4d859d54c0611": {
     "model_module": "@jupyter-widgets/controls",
     "model_module_version": "1.5.0",
     "model_name": "DescriptionStyleModel",
     "state": {
      "_model_module": "@jupyter-widgets/controls",
      "_model_module_version": "1.5.0",
      "_model_name": "DescriptionStyleModel",
      "_view_count": null,
      "_view_module": "@jupyter-widgets/base",
      "_view_module_version": "1.2.0",
      "_view_name": "StyleView",
      "description_width": ""
     }
    },
    "a6eacbc87c7d420b99fc9000e83b756e": {
     "model_module": "@jupyter-widgets/base",
     "model_module_version": "1.2.0",
     "model_name": "LayoutModel",
     "state": {
      "_model_module": "@jupyter-widgets/base",
      "_model_module_version": "1.2.0",
      "_model_name": "LayoutModel",
      "_view_count": null,
      "_view_module": "@jupyter-widgets/base",
      "_view_module_version": "1.2.0",
      "_view_name": "LayoutView",
      "align_content": null,
      "align_items": null,
      "align_self": null,
      "border": null,
      "bottom": null,
      "display": null,
      "flex": null,
      "flex_flow": null,
      "grid_area": null,
      "grid_auto_columns": null,
      "grid_auto_flow": null,
      "grid_auto_rows": null,
      "grid_column": null,
      "grid_gap": null,
      "grid_row": null,
      "grid_template_areas": null,
      "grid_template_columns": null,
      "grid_template_rows": null,
      "height": null,
      "justify_content": null,
      "justify_items": null,
      "left": null,
      "margin": null,
      "max_height": null,
      "max_width": null,
      "min_height": null,
      "min_width": null,
      "object_fit": null,
      "object_position": null,
      "order": null,
      "overflow": null,
      "overflow_x": null,
      "overflow_y": null,
      "padding": null,
      "right": null,
      "top": null,
      "visibility": null,
      "width": null
     }
    },
    "ab7dd77c2bf74f2aaa4ef7bc35571097": {
     "model_module": "@jupyter-widgets/base",
     "model_module_version": "1.2.0",
     "model_name": "LayoutModel",
     "state": {
      "_model_module": "@jupyter-widgets/base",
      "_model_module_version": "1.2.0",
      "_model_name": "LayoutModel",
      "_view_count": null,
      "_view_module": "@jupyter-widgets/base",
      "_view_module_version": "1.2.0",
      "_view_name": "LayoutView",
      "align_content": null,
      "align_items": null,
      "align_self": null,
      "border": null,
      "bottom": null,
      "display": null,
      "flex": null,
      "flex_flow": null,
      "grid_area": null,
      "grid_auto_columns": null,
      "grid_auto_flow": null,
      "grid_auto_rows": null,
      "grid_column": null,
      "grid_gap": null,
      "grid_row": null,
      "grid_template_areas": null,
      "grid_template_columns": null,
      "grid_template_rows": null,
      "height": null,
      "justify_content": null,
      "justify_items": null,
      "left": null,
      "margin": null,
      "max_height": null,
      "max_width": null,
      "min_height": null,
      "min_width": null,
      "object_fit": null,
      "object_position": null,
      "order": null,
      "overflow": null,
      "overflow_x": null,
      "overflow_y": null,
      "padding": null,
      "right": null,
      "top": null,
      "visibility": null,
      "width": null
     }
    },
    "abec0c8a4ba14a4f9dd154faeeea00d8": {
     "model_module": "@jupyter-widgets/controls",
     "model_module_version": "1.5.0",
     "model_name": "HTMLModel",
     "state": {
      "_dom_classes": [],
      "_model_module": "@jupyter-widgets/controls",
      "_model_module_version": "1.5.0",
      "_model_name": "HTMLModel",
      "_view_count": null,
      "_view_module": "@jupyter-widgets/controls",
      "_view_module_version": "1.5.0",
      "_view_name": "HTMLView",
      "description": "",
      "description_tooltip": null,
      "layout": "IPY_MODEL_3fa78db09d2f4c09b49d58a58bea0466",
      "placeholder": "​",
      "style": "IPY_MODEL_52b1f5bed7c3440ca6575bd7a81d4a57",
      "value": "100%"
     }
    },
    "abf042590df44512afe2b1ca27076f1a": {
     "model_module": "@jupyter-widgets/base",
     "model_module_version": "1.2.0",
     "model_name": "LayoutModel",
     "state": {
      "_model_module": "@jupyter-widgets/base",
      "_model_module_version": "1.2.0",
      "_model_name": "LayoutModel",
      "_view_count": null,
      "_view_module": "@jupyter-widgets/base",
      "_view_module_version": "1.2.0",
      "_view_name": "LayoutView",
      "align_content": null,
      "align_items": null,
      "align_self": null,
      "border": null,
      "bottom": null,
      "display": null,
      "flex": null,
      "flex_flow": null,
      "grid_area": null,
      "grid_auto_columns": null,
      "grid_auto_flow": null,
      "grid_auto_rows": null,
      "grid_column": null,
      "grid_gap": null,
      "grid_row": null,
      "grid_template_areas": null,
      "grid_template_columns": null,
      "grid_template_rows": null,
      "height": null,
      "justify_content": null,
      "justify_items": null,
      "left": null,
      "margin": null,
      "max_height": null,
      "max_width": null,
      "min_height": null,
      "min_width": null,
      "object_fit": null,
      "object_position": null,
      "order": null,
      "overflow": null,
      "overflow_x": null,
      "overflow_y": null,
      "padding": null,
      "right": null,
      "top": null,
      "visibility": null,
      "width": null
     }
    },
    "ad586a45e65945c293a5b6efab662cb0": {
     "model_module": "@jupyter-widgets/controls",
     "model_module_version": "1.5.0",
     "model_name": "DescriptionStyleModel",
     "state": {
      "_model_module": "@jupyter-widgets/controls",
      "_model_module_version": "1.5.0",
      "_model_name": "DescriptionStyleModel",
      "_view_count": null,
      "_view_module": "@jupyter-widgets/base",
      "_view_module_version": "1.2.0",
      "_view_name": "StyleView",
      "description_width": ""
     }
    },
    "b27ff479cbce4e5ca7610847cae538d6": {
     "model_module": "@jupyter-widgets/controls",
     "model_module_version": "1.5.0",
     "model_name": "DescriptionStyleModel",
     "state": {
      "_model_module": "@jupyter-widgets/controls",
      "_model_module_version": "1.5.0",
      "_model_name": "DescriptionStyleModel",
      "_view_count": null,
      "_view_module": "@jupyter-widgets/base",
      "_view_module_version": "1.2.0",
      "_view_name": "StyleView",
      "description_width": ""
     }
    },
    "b37c4da40f244b798f5a67bd7a377aa6": {
     "model_module": "@jupyter-widgets/base",
     "model_module_version": "1.2.0",
     "model_name": "LayoutModel",
     "state": {
      "_model_module": "@jupyter-widgets/base",
      "_model_module_version": "1.2.0",
      "_model_name": "LayoutModel",
      "_view_count": null,
      "_view_module": "@jupyter-widgets/base",
      "_view_module_version": "1.2.0",
      "_view_name": "LayoutView",
      "align_content": null,
      "align_items": null,
      "align_self": null,
      "border": null,
      "bottom": null,
      "display": null,
      "flex": null,
      "flex_flow": null,
      "grid_area": null,
      "grid_auto_columns": null,
      "grid_auto_flow": null,
      "grid_auto_rows": null,
      "grid_column": null,
      "grid_gap": null,
      "grid_row": null,
      "grid_template_areas": null,
      "grid_template_columns": null,
      "grid_template_rows": null,
      "height": null,
      "justify_content": null,
      "justify_items": null,
      "left": null,
      "margin": null,
      "max_height": null,
      "max_width": null,
      "min_height": null,
      "min_width": null,
      "object_fit": null,
      "object_position": null,
      "order": null,
      "overflow": null,
      "overflow_x": null,
      "overflow_y": null,
      "padding": null,
      "right": null,
      "top": null,
      "visibility": null,
      "width": null
     }
    },
    "b426c79bf79e433787050676e5f361c9": {
     "model_module": "@jupyter-widgets/base",
     "model_module_version": "1.2.0",
     "model_name": "LayoutModel",
     "state": {
      "_model_module": "@jupyter-widgets/base",
      "_model_module_version": "1.2.0",
      "_model_name": "LayoutModel",
      "_view_count": null,
      "_view_module": "@jupyter-widgets/base",
      "_view_module_version": "1.2.0",
      "_view_name": "LayoutView",
      "align_content": null,
      "align_items": null,
      "align_self": null,
      "border": null,
      "bottom": null,
      "display": null,
      "flex": null,
      "flex_flow": null,
      "grid_area": null,
      "grid_auto_columns": null,
      "grid_auto_flow": null,
      "grid_auto_rows": null,
      "grid_column": null,
      "grid_gap": null,
      "grid_row": null,
      "grid_template_areas": null,
      "grid_template_columns": null,
      "grid_template_rows": null,
      "height": null,
      "justify_content": null,
      "justify_items": null,
      "left": null,
      "margin": null,
      "max_height": null,
      "max_width": null,
      "min_height": null,
      "min_width": null,
      "object_fit": null,
      "object_position": null,
      "order": null,
      "overflow": null,
      "overflow_x": null,
      "overflow_y": null,
      "padding": null,
      "right": null,
      "top": null,
      "visibility": null,
      "width": null
     }
    },
    "b48283188e3748c39b1bbd022cadd07c": {
     "model_module": "@jupyter-widgets/controls",
     "model_module_version": "1.5.0",
     "model_name": "HTMLModel",
     "state": {
      "_dom_classes": [],
      "_model_module": "@jupyter-widgets/controls",
      "_model_module_version": "1.5.0",
      "_model_name": "HTMLModel",
      "_view_count": null,
      "_view_module": "@jupyter-widgets/controls",
      "_view_module_version": "1.5.0",
      "_view_name": "HTMLView",
      "description": "",
      "description_tooltip": null,
      "layout": "IPY_MODEL_a3225f4cb1134209983c087bb9fda4a7",
      "placeholder": "​",
      "style": "IPY_MODEL_84dadeecfdc04a128158b9b5b5c9979c",
      "value": " 100/100 [01:22&lt;00:00,  1.23it/s]"
     }
    },
    "b4b85ce0d9e74790905a2d8778363e7d": {
     "model_module": "@jupyter-widgets/controls",
     "model_module_version": "1.5.0",
     "model_name": "HBoxModel",
     "state": {
      "_dom_classes": [],
      "_model_module": "@jupyter-widgets/controls",
      "_model_module_version": "1.5.0",
      "_model_name": "HBoxModel",
      "_view_count": null,
      "_view_module": "@jupyter-widgets/controls",
      "_view_module_version": "1.5.0",
      "_view_name": "HBoxView",
      "box_style": "",
      "children": [
       "IPY_MODEL_5baf9ef0528144f793546b21b1f60fd8",
       "IPY_MODEL_66c82e522cff47d393d4a47fc045bfcd",
       "IPY_MODEL_9b85f93735e040d5956a57fb0c42a175"
      ],
      "layout": "IPY_MODEL_ab7dd77c2bf74f2aaa4ef7bc35571097"
     }
    },
    "b90f9eeaa3394219a836baaff0ff1ba2": {
     "model_module": "@jupyter-widgets/controls",
     "model_module_version": "1.5.0",
     "model_name": "LabelModel",
     "state": {
      "_dom_classes": [],
      "_model_module": "@jupyter-widgets/controls",
      "_model_module_version": "1.5.0",
      "_model_name": "LabelModel",
      "_view_count": null,
      "_view_module": "@jupyter-widgets/controls",
      "_view_module_version": "1.5.0",
      "_view_name": "LabelView",
      "description": "",
      "description_tooltip": null,
      "layout": "IPY_MODEL_3c3d5b147bd441e981c88a9fb07b0d34",
      "placeholder": "​",
      "style": "IPY_MODEL_429b4da14c3d448b9ee1e65d89caaa99",
      "value": "0.012 MB of 0.012 MB uploaded\r"
     }
    },
    "b92261c7f8914f8580b538b9f31b728b": {
     "model_module": "@jupyter-widgets/controls",
     "model_module_version": "1.5.0",
     "model_name": "HBoxModel",
     "state": {
      "_dom_classes": [],
      "_model_module": "@jupyter-widgets/controls",
      "_model_module_version": "1.5.0",
      "_model_name": "HBoxModel",
      "_view_count": null,
      "_view_module": "@jupyter-widgets/controls",
      "_view_module_version": "1.5.0",
      "_view_name": "HBoxView",
      "box_style": "",
      "children": [
       "IPY_MODEL_1470106df30b4182ac626deac6201bc8",
       "IPY_MODEL_e38a733da0744c03b3063f43e657a5eb",
       "IPY_MODEL_98431ab3713843de8bbae54b0be6c316"
      ],
      "layout": "IPY_MODEL_7e355ab07aa442fcbd13886dbaac423e"
     }
    },
    "ba93173c1ed6483a9588a165f8e1700b": {
     "model_module": "@jupyter-widgets/controls",
     "model_module_version": "1.5.0",
     "model_name": "FloatProgressModel",
     "state": {
      "_dom_classes": [],
      "_model_module": "@jupyter-widgets/controls",
      "_model_module_version": "1.5.0",
      "_model_name": "FloatProgressModel",
      "_view_count": null,
      "_view_module": "@jupyter-widgets/controls",
      "_view_module_version": "1.5.0",
      "_view_name": "ProgressView",
      "bar_style": "success",
      "description": "",
      "description_tooltip": null,
      "layout": "IPY_MODEL_dff52979714a4d1997ce351073766aba",
      "max": 479,
      "min": 0,
      "orientation": "horizontal",
      "style": "IPY_MODEL_fb03e7d4d59d41e5a2f6af577b2c9c4b",
      "value": 479
     }
    },
    "bb0fa9ed12e345aea9194717c6e7f073": {
     "model_module": "@jupyter-widgets/controls",
     "model_module_version": "1.5.0",
     "model_name": "HBoxModel",
     "state": {
      "_dom_classes": [],
      "_model_module": "@jupyter-widgets/controls",
      "_model_module_version": "1.5.0",
      "_model_name": "HBoxModel",
      "_view_count": null,
      "_view_module": "@jupyter-widgets/controls",
      "_view_module_version": "1.5.0",
      "_view_name": "HBoxView",
      "box_style": "",
      "children": [
       "IPY_MODEL_def1c4c8d6034398af35a9cf01814a3c",
       "IPY_MODEL_4beb9c2c1ce24a29b54f8cdcd1fd5b31",
       "IPY_MODEL_4b189c559c0748e984fb35509d60ea50"
      ],
      "layout": "IPY_MODEL_cb98e9ac858b40a395413a51948390e5"
     }
    },
    "bbf7119ca71d4edbab6d22deb8ef42db": {
     "model_module": "@jupyter-widgets/controls",
     "model_module_version": "1.5.0",
     "model_name": "HTMLModel",
     "state": {
      "_dom_classes": [],
      "_model_module": "@jupyter-widgets/controls",
      "_model_module_version": "1.5.0",
      "_model_name": "HTMLModel",
      "_view_count": null,
      "_view_module": "@jupyter-widgets/controls",
      "_view_module_version": "1.5.0",
      "_view_name": "HTMLView",
      "description": "",
      "description_tooltip": null,
      "layout": "IPY_MODEL_79f5de4c6ca64174b4b51b79c4bb8825",
      "placeholder": "​",
      "style": "IPY_MODEL_747bae5ba2d44d02a290aa5fcfcdabd5",
      "value": " 479/479 [43:53&lt;00:00,  1.02s/it]"
     }
    },
    "bf3c154ca496473c84d87387012b5084": {
     "model_module": "@jupyter-widgets/controls",
     "model_module_version": "1.5.0",
     "model_name": "FloatProgressModel",
     "state": {
      "_dom_classes": [],
      "_model_module": "@jupyter-widgets/controls",
      "_model_module_version": "1.5.0",
      "_model_name": "FloatProgressModel",
      "_view_count": null,
      "_view_module": "@jupyter-widgets/controls",
      "_view_module_version": "1.5.0",
      "_view_name": "ProgressView",
      "bar_style": "success",
      "description": "",
      "description_tooltip": null,
      "layout": "IPY_MODEL_2e0e37c30a9647fd829c5ea0cebb3ae8",
      "max": 131,
      "min": 0,
      "orientation": "horizontal",
      "style": "IPY_MODEL_a0aea2bbc4994d26811058630c7cfd50",
      "value": 131
     }
    },
    "c0628a68d5644a35b9fda044cf84dc06": {
     "model_module": "@jupyter-widgets/controls",
     "model_module_version": "1.5.0",
     "model_name": "FloatProgressModel",
     "state": {
      "_dom_classes": [],
      "_model_module": "@jupyter-widgets/controls",
      "_model_module_version": "1.5.0",
      "_model_name": "FloatProgressModel",
      "_view_count": null,
      "_view_module": "@jupyter-widgets/controls",
      "_view_module_version": "1.5.0",
      "_view_name": "ProgressView",
      "bar_style": "success",
      "description": "",
      "description_tooltip": null,
      "layout": "IPY_MODEL_97143437f1ad40d5a4f41340e1953c65",
      "max": 1045,
      "min": 0,
      "orientation": "horizontal",
      "style": "IPY_MODEL_dc8bd515b4ea4829a4e62eca925b672c",
      "value": 1045
     }
    },
    "c19357ddcaba414b8b0893329ed7f6cf": {
     "model_module": "@jupyter-widgets/base",
     "model_module_version": "1.2.0",
     "model_name": "LayoutModel",
     "state": {
      "_model_module": "@jupyter-widgets/base",
      "_model_module_version": "1.2.0",
      "_model_name": "LayoutModel",
      "_view_count": null,
      "_view_module": "@jupyter-widgets/base",
      "_view_module_version": "1.2.0",
      "_view_name": "LayoutView",
      "align_content": null,
      "align_items": null,
      "align_self": null,
      "border": null,
      "bottom": null,
      "display": null,
      "flex": null,
      "flex_flow": null,
      "grid_area": null,
      "grid_auto_columns": null,
      "grid_auto_flow": null,
      "grid_auto_rows": null,
      "grid_column": null,
      "grid_gap": null,
      "grid_row": null,
      "grid_template_areas": null,
      "grid_template_columns": null,
      "grid_template_rows": null,
      "height": null,
      "justify_content": null,
      "justify_items": null,
      "left": null,
      "margin": null,
      "max_height": null,
      "max_width": null,
      "min_height": null,
      "min_width": null,
      "object_fit": null,
      "object_position": null,
      "order": null,
      "overflow": null,
      "overflow_x": null,
      "overflow_y": null,
      "padding": null,
      "right": null,
      "top": null,
      "visibility": null,
      "width": null
     }
    },
    "c3f7691fb40b4576916c3281726aff60": {
     "model_module": "@jupyter-widgets/base",
     "model_module_version": "1.2.0",
     "model_name": "LayoutModel",
     "state": {
      "_model_module": "@jupyter-widgets/base",
      "_model_module_version": "1.2.0",
      "_model_name": "LayoutModel",
      "_view_count": null,
      "_view_module": "@jupyter-widgets/base",
      "_view_module_version": "1.2.0",
      "_view_name": "LayoutView",
      "align_content": null,
      "align_items": null,
      "align_self": null,
      "border": null,
      "bottom": null,
      "display": null,
      "flex": null,
      "flex_flow": null,
      "grid_area": null,
      "grid_auto_columns": null,
      "grid_auto_flow": null,
      "grid_auto_rows": null,
      "grid_column": null,
      "grid_gap": null,
      "grid_row": null,
      "grid_template_areas": null,
      "grid_template_columns": null,
      "grid_template_rows": null,
      "height": null,
      "justify_content": null,
      "justify_items": null,
      "left": null,
      "margin": null,
      "max_height": null,
      "max_width": null,
      "min_height": null,
      "min_width": null,
      "object_fit": null,
      "object_position": null,
      "order": null,
      "overflow": null,
      "overflow_x": null,
      "overflow_y": null,
      "padding": null,
      "right": null,
      "top": null,
      "visibility": null,
      "width": null
     }
    },
    "c5648d48e379485c9530df2bac6d672d": {
     "model_module": "@jupyter-widgets/controls",
     "model_module_version": "1.5.0",
     "model_name": "DescriptionStyleModel",
     "state": {
      "_model_module": "@jupyter-widgets/controls",
      "_model_module_version": "1.5.0",
      "_model_name": "DescriptionStyleModel",
      "_view_count": null,
      "_view_module": "@jupyter-widgets/base",
      "_view_module_version": "1.2.0",
      "_view_name": "StyleView",
      "description_width": ""
     }
    },
    "c63bf6017dc042d595cc9ae67ea38d3b": {
     "model_module": "@jupyter-widgets/controls",
     "model_module_version": "1.5.0",
     "model_name": "HTMLModel",
     "state": {
      "_dom_classes": [],
      "_model_module": "@jupyter-widgets/controls",
      "_model_module_version": "1.5.0",
      "_model_name": "HTMLModel",
      "_view_count": null,
      "_view_module": "@jupyter-widgets/controls",
      "_view_module_version": "1.5.0",
      "_view_name": "HTMLView",
      "description": "",
      "description_tooltip": null,
      "layout": "IPY_MODEL_5604274498704a12bcd99b4c22964396",
      "placeholder": "​",
      "style": "IPY_MODEL_67f24c6278a547b5aa37caa397fe7d45",
      "value": " 1045/1045 [01:31&lt;00:00, 12.11it/s]"
     }
    },
    "c7328ac1c287494f980d40d53a7635c4": {
     "model_module": "@jupyter-widgets/controls",
     "model_module_version": "1.5.0",
     "model_name": "FloatProgressModel",
     "state": {
      "_dom_classes": [],
      "_model_module": "@jupyter-widgets/controls",
      "_model_module_version": "1.5.0",
      "_model_name": "FloatProgressModel",
      "_view_count": null,
      "_view_module": "@jupyter-widgets/controls",
      "_view_module_version": "1.5.0",
      "_view_name": "ProgressView",
      "bar_style": "success",
      "description": "",
      "description_tooltip": null,
      "layout": "IPY_MODEL_541441e703ce40338bbeab1b46d6ce4d",
      "max": 479,
      "min": 0,
      "orientation": "horizontal",
      "style": "IPY_MODEL_2d039cba3d774ce7985bc756a6c6cf5a",
      "value": 479
     }
    },
    "cb660388460448f1b645cce1cceca998": {
     "model_module": "@jupyter-widgets/controls",
     "model_module_version": "1.5.0",
     "model_name": "HBoxModel",
     "state": {
      "_dom_classes": [],
      "_model_module": "@jupyter-widgets/controls",
      "_model_module_version": "1.5.0",
      "_model_name": "HBoxModel",
      "_view_count": null,
      "_view_module": "@jupyter-widgets/controls",
      "_view_module_version": "1.5.0",
      "_view_name": "HBoxView",
      "box_style": "",
      "children": [
       "IPY_MODEL_5bcaa793a4de4acc99e86553016e361b",
       "IPY_MODEL_bf3c154ca496473c84d87387012b5084",
       "IPY_MODEL_dfc61cfcea1f415c931da786acf7110f"
      ],
      "layout": "IPY_MODEL_2f5892c72713409f9871ff892934aca9"
     }
    },
    "cb98e9ac858b40a395413a51948390e5": {
     "model_module": "@jupyter-widgets/base",
     "model_module_version": "1.2.0",
     "model_name": "LayoutModel",
     "state": {
      "_model_module": "@jupyter-widgets/base",
      "_model_module_version": "1.2.0",
      "_model_name": "LayoutModel",
      "_view_count": null,
      "_view_module": "@jupyter-widgets/base",
      "_view_module_version": "1.2.0",
      "_view_name": "LayoutView",
      "align_content": null,
      "align_items": null,
      "align_self": null,
      "border": null,
      "bottom": null,
      "display": null,
      "flex": null,
      "flex_flow": null,
      "grid_area": null,
      "grid_auto_columns": null,
      "grid_auto_flow": null,
      "grid_auto_rows": null,
      "grid_column": null,
      "grid_gap": null,
      "grid_row": null,
      "grid_template_areas": null,
      "grid_template_columns": null,
      "grid_template_rows": null,
      "height": null,
      "justify_content": null,
      "justify_items": null,
      "left": null,
      "margin": null,
      "max_height": null,
      "max_width": null,
      "min_height": null,
      "min_width": null,
      "object_fit": null,
      "object_position": null,
      "order": null,
      "overflow": null,
      "overflow_x": null,
      "overflow_y": null,
      "padding": null,
      "right": null,
      "top": null,
      "visibility": null,
      "width": null
     }
    },
    "cdbdb21bd47c43279520a1f26eb6512e": {
     "model_module": "@jupyter-widgets/base",
     "model_module_version": "1.2.0",
     "model_name": "LayoutModel",
     "state": {
      "_model_module": "@jupyter-widgets/base",
      "_model_module_version": "1.2.0",
      "_model_name": "LayoutModel",
      "_view_count": null,
      "_view_module": "@jupyter-widgets/base",
      "_view_module_version": "1.2.0",
      "_view_name": "LayoutView",
      "align_content": null,
      "align_items": null,
      "align_self": null,
      "border": null,
      "bottom": null,
      "display": null,
      "flex": null,
      "flex_flow": null,
      "grid_area": null,
      "grid_auto_columns": null,
      "grid_auto_flow": null,
      "grid_auto_rows": null,
      "grid_column": null,
      "grid_gap": null,
      "grid_row": null,
      "grid_template_areas": null,
      "grid_template_columns": null,
      "grid_template_rows": null,
      "height": null,
      "justify_content": null,
      "justify_items": null,
      "left": null,
      "margin": null,
      "max_height": null,
      "max_width": null,
      "min_height": null,
      "min_width": null,
      "object_fit": null,
      "object_position": null,
      "order": null,
      "overflow": null,
      "overflow_x": null,
      "overflow_y": null,
      "padding": null,
      "right": null,
      "top": null,
      "visibility": null,
      "width": null
     }
    },
    "d210579ac6ea449198aefde304e3a897": {
     "model_module": "@jupyter-widgets/controls",
     "model_module_version": "1.5.0",
     "model_name": "ProgressStyleModel",
     "state": {
      "_model_module": "@jupyter-widgets/controls",
      "_model_module_version": "1.5.0",
      "_model_name": "ProgressStyleModel",
      "_view_count": null,
      "_view_module": "@jupyter-widgets/base",
      "_view_module_version": "1.2.0",
      "_view_name": "StyleView",
      "bar_color": null,
      "description_width": ""
     }
    },
    "d21c6ecbe61f4ae088a1f0106324e2ec": {
     "model_module": "@jupyter-widgets/controls",
     "model_module_version": "1.5.0",
     "model_name": "HBoxModel",
     "state": {
      "_dom_classes": [],
      "_model_module": "@jupyter-widgets/controls",
      "_model_module_version": "1.5.0",
      "_model_name": "HBoxModel",
      "_view_count": null,
      "_view_module": "@jupyter-widgets/controls",
      "_view_module_version": "1.5.0",
      "_view_name": "HBoxView",
      "box_style": "",
      "children": [
       "IPY_MODEL_d794a241299d422885b341afc79a09ea",
       "IPY_MODEL_9c147df955214df7b30a005bf93b37e8",
       "IPY_MODEL_599b3de3f800438cb2b3d8e40d5dac16"
      ],
      "layout": "IPY_MODEL_23100fbb0d1d4c8cba952a2228301124"
     }
    },
    "d357c103aef44cd3b91c6cbfbd0e91c8": {
     "model_module": "@jupyter-widgets/controls",
     "model_module_version": "1.5.0",
     "model_name": "ProgressStyleModel",
     "state": {
      "_model_module": "@jupyter-widgets/controls",
      "_model_module_version": "1.5.0",
      "_model_name": "ProgressStyleModel",
      "_view_count": null,
      "_view_module": "@jupyter-widgets/base",
      "_view_module_version": "1.2.0",
      "_view_name": "StyleView",
      "bar_color": null,
      "description_width": ""
     }
    },
    "d794a241299d422885b341afc79a09ea": {
     "model_module": "@jupyter-widgets/controls",
     "model_module_version": "1.5.0",
     "model_name": "HTMLModel",
     "state": {
      "_dom_classes": [],
      "_model_module": "@jupyter-widgets/controls",
      "_model_module_version": "1.5.0",
      "_model_name": "HTMLModel",
      "_view_count": null,
      "_view_module": "@jupyter-widgets/controls",
      "_view_module_version": "1.5.0",
      "_view_name": "HTMLView",
      "description": "",
      "description_tooltip": null,
      "layout": "IPY_MODEL_441585c399974e17b0b49fcaf8a62c5d",
      "placeholder": "​",
      "style": "IPY_MODEL_f629971564704afd9a5daa0a2d4e493b",
      "value": "Saving the dataset (1/1 shards): 100%"
     }
    },
    "d8bf5141a7e548698928651883e0cbda": {
     "model_module": "@jupyter-widgets/controls",
     "model_module_version": "1.5.0",
     "model_name": "DescriptionStyleModel",
     "state": {
      "_model_module": "@jupyter-widgets/controls",
      "_model_module_version": "1.5.0",
      "_model_name": "DescriptionStyleModel",
      "_view_count": null,
      "_view_module": "@jupyter-widgets/base",
      "_view_module_version": "1.2.0",
      "_view_name": "StyleView",
      "description_width": ""
     }
    },
    "da01a348c058439fa16496be8552b880": {
     "model_module": "@jupyter-widgets/controls",
     "model_module_version": "1.5.0",
     "model_name": "FloatProgressModel",
     "state": {
      "_dom_classes": [],
      "_model_module": "@jupyter-widgets/controls",
      "_model_module_version": "1.5.0",
      "_model_name": "FloatProgressModel",
      "_view_count": null,
      "_view_module": "@jupyter-widgets/controls",
      "_view_module_version": "1.5.0",
      "_view_name": "ProgressView",
      "bar_style": "success",
      "description": "",
      "description_tooltip": null,
      "layout": "IPY_MODEL_8d7d0047aa0b420eb0024a0152e4d42b",
      "max": 479,
      "min": 0,
      "orientation": "horizontal",
      "style": "IPY_MODEL_3f5047f3e40e464c86974052343e48fc",
      "value": 479
     }
    },
    "da4b42ead1174addbba8aa8b733412aa": {
     "model_module": "@jupyter-widgets/controls",
     "model_module_version": "1.5.0",
     "model_name": "HTMLModel",
     "state": {
      "_dom_classes": [],
      "_model_module": "@jupyter-widgets/controls",
      "_model_module_version": "1.5.0",
      "_model_name": "HTMLModel",
      "_view_count": null,
      "_view_module": "@jupyter-widgets/controls",
      "_view_module_version": "1.5.0",
      "_view_name": "HTMLView",
      "description": "",
      "description_tooltip": null,
      "layout": "IPY_MODEL_557b72e51f914a5589216b18c5274d75",
      "placeholder": "​",
      "style": "IPY_MODEL_67560acabcdf4ca0aefeaef6a276f54d",
      "value": "validation: 100%"
     }
    },
    "dc15c3ca34014ac7b48e1d3e721a836f": {
     "model_module": "@jupyter-widgets/controls",
     "model_module_version": "1.5.0",
     "model_name": "HTMLModel",
     "state": {
      "_dom_classes": [],
      "_model_module": "@jupyter-widgets/controls",
      "_model_module_version": "1.5.0",
      "_model_name": "HTMLModel",
      "_view_count": null,
      "_view_module": "@jupyter-widgets/controls",
      "_view_module_version": "1.5.0",
      "_view_name": "HTMLView",
      "description": "",
      "description_tooltip": null,
      "layout": "IPY_MODEL_1c39cb8f1a264d0eadc2e9fa0bff1173",
      "placeholder": "​",
      "style": "IPY_MODEL_9a2cf25eb2384639af572276af8aa24a",
      "value": "development: 100%"
     }
    },
    "dc47ca11582e4af2b17afff63eadbca7": {
     "model_module": "@jupyter-widgets/base",
     "model_module_version": "1.2.0",
     "model_name": "LayoutModel",
     "state": {
      "_model_module": "@jupyter-widgets/base",
      "_model_module_version": "1.2.0",
      "_model_name": "LayoutModel",
      "_view_count": null,
      "_view_module": "@jupyter-widgets/base",
      "_view_module_version": "1.2.0",
      "_view_name": "LayoutView",
      "align_content": null,
      "align_items": null,
      "align_self": null,
      "border": null,
      "bottom": null,
      "display": null,
      "flex": null,
      "flex_flow": null,
      "grid_area": null,
      "grid_auto_columns": null,
      "grid_auto_flow": null,
      "grid_auto_rows": null,
      "grid_column": null,
      "grid_gap": null,
      "grid_row": null,
      "grid_template_areas": null,
      "grid_template_columns": null,
      "grid_template_rows": null,
      "height": null,
      "justify_content": null,
      "justify_items": null,
      "left": null,
      "margin": null,
      "max_height": null,
      "max_width": null,
      "min_height": null,
      "min_width": null,
      "object_fit": null,
      "object_position": null,
      "order": null,
      "overflow": null,
      "overflow_x": null,
      "overflow_y": null,
      "padding": null,
      "right": null,
      "top": null,
      "visibility": null,
      "width": null
     }
    },
    "dc8bd515b4ea4829a4e62eca925b672c": {
     "model_module": "@jupyter-widgets/controls",
     "model_module_version": "1.5.0",
     "model_name": "ProgressStyleModel",
     "state": {
      "_model_module": "@jupyter-widgets/controls",
      "_model_module_version": "1.5.0",
      "_model_name": "ProgressStyleModel",
      "_view_count": null,
      "_view_module": "@jupyter-widgets/base",
      "_view_module_version": "1.2.0",
      "_view_name": "StyleView",
      "bar_color": null,
      "description_width": ""
     }
    },
    "def1c4c8d6034398af35a9cf01814a3c": {
     "model_module": "@jupyter-widgets/controls",
     "model_module_version": "1.5.0",
     "model_name": "HTMLModel",
     "state": {
      "_dom_classes": [],
      "_model_module": "@jupyter-widgets/controls",
      "_model_module_version": "1.5.0",
      "_model_name": "HTMLModel",
      "_view_count": null,
      "_view_module": "@jupyter-widgets/controls",
      "_view_module_version": "1.5.0",
      "_view_name": "HTMLView",
      "description": "",
      "description_tooltip": null,
      "layout": "IPY_MODEL_c3f7691fb40b4576916c3281726aff60",
      "placeholder": "​",
      "style": "IPY_MODEL_d8bf5141a7e548698928651883e0cbda",
      "value": "Epoch=0 Loss=2.605 BLEU=0.000: 100%"
     }
    },
    "dfc61cfcea1f415c931da786acf7110f": {
     "model_module": "@jupyter-widgets/controls",
     "model_module_version": "1.5.0",
     "model_name": "HTMLModel",
     "state": {
      "_dom_classes": [],
      "_model_module": "@jupyter-widgets/controls",
      "_model_module_version": "1.5.0",
      "_model_name": "HTMLModel",
      "_view_count": null,
      "_view_module": "@jupyter-widgets/controls",
      "_view_module_version": "1.5.0",
      "_view_name": "HTMLView",
      "description": "",
      "description_tooltip": null,
      "layout": "IPY_MODEL_e324ebbd4af8466b91607029d23261ef",
      "placeholder": "​",
      "style": "IPY_MODEL_2154149361174426ac40fc0ac57da8ff",
      "value": " 131/131 [06:24&lt;00:00,  2.53s/it]"
     }
    },
    "dff52979714a4d1997ce351073766aba": {
     "model_module": "@jupyter-widgets/base",
     "model_module_version": "1.2.0",
     "model_name": "LayoutModel",
     "state": {
      "_model_module": "@jupyter-widgets/base",
      "_model_module_version": "1.2.0",
      "_model_name": "LayoutModel",
      "_view_count": null,
      "_view_module": "@jupyter-widgets/base",
      "_view_module_version": "1.2.0",
      "_view_name": "LayoutView",
      "align_content": null,
      "align_items": null,
      "align_self": null,
      "border": null,
      "bottom": null,
      "display": null,
      "flex": null,
      "flex_flow": null,
      "grid_area": null,
      "grid_auto_columns": null,
      "grid_auto_flow": null,
      "grid_auto_rows": null,
      "grid_column": null,
      "grid_gap": null,
      "grid_row": null,
      "grid_template_areas": null,
      "grid_template_columns": null,
      "grid_template_rows": null,
      "height": null,
      "justify_content": null,
      "justify_items": null,
      "left": null,
      "margin": null,
      "max_height": null,
      "max_width": null,
      "min_height": null,
      "min_width": null,
      "object_fit": null,
      "object_position": null,
      "order": null,
      "overflow": null,
      "overflow_x": null,
      "overflow_y": null,
      "padding": null,
      "right": null,
      "top": null,
      "visibility": null,
      "width": null
     }
    },
    "e2c2cc94fc674713b84174578938bdcc": {
     "model_module": "@jupyter-widgets/base",
     "model_module_version": "1.2.0",
     "model_name": "LayoutModel",
     "state": {
      "_model_module": "@jupyter-widgets/base",
      "_model_module_version": "1.2.0",
      "_model_name": "LayoutModel",
      "_view_count": null,
      "_view_module": "@jupyter-widgets/base",
      "_view_module_version": "1.2.0",
      "_view_name": "LayoutView",
      "align_content": null,
      "align_items": null,
      "align_self": null,
      "border": null,
      "bottom": null,
      "display": null,
      "flex": null,
      "flex_flow": null,
      "grid_area": null,
      "grid_auto_columns": null,
      "grid_auto_flow": null,
      "grid_auto_rows": null,
      "grid_column": null,
      "grid_gap": null,
      "grid_row": null,
      "grid_template_areas": null,
      "grid_template_columns": null,
      "grid_template_rows": null,
      "height": null,
      "justify_content": null,
      "justify_items": null,
      "left": null,
      "margin": null,
      "max_height": null,
      "max_width": null,
      "min_height": null,
      "min_width": null,
      "object_fit": null,
      "object_position": null,
      "order": null,
      "overflow": null,
      "overflow_x": null,
      "overflow_y": null,
      "padding": null,
      "right": null,
      "top": null,
      "visibility": null,
      "width": null
     }
    },
    "e31cc79fab334f9eb6c8301396762992": {
     "model_module": "@jupyter-widgets/base",
     "model_module_version": "1.2.0",
     "model_name": "LayoutModel",
     "state": {
      "_model_module": "@jupyter-widgets/base",
      "_model_module_version": "1.2.0",
      "_model_name": "LayoutModel",
      "_view_count": null,
      "_view_module": "@jupyter-widgets/base",
      "_view_module_version": "1.2.0",
      "_view_name": "LayoutView",
      "align_content": null,
      "align_items": null,
      "align_self": null,
      "border": null,
      "bottom": null,
      "display": null,
      "flex": null,
      "flex_flow": null,
      "grid_area": null,
      "grid_auto_columns": null,
      "grid_auto_flow": null,
      "grid_auto_rows": null,
      "grid_column": null,
      "grid_gap": null,
      "grid_row": null,
      "grid_template_areas": null,
      "grid_template_columns": null,
      "grid_template_rows": null,
      "height": null,
      "justify_content": null,
      "justify_items": null,
      "left": null,
      "margin": null,
      "max_height": null,
      "max_width": null,
      "min_height": null,
      "min_width": null,
      "object_fit": null,
      "object_position": null,
      "order": null,
      "overflow": null,
      "overflow_x": null,
      "overflow_y": null,
      "padding": null,
      "right": null,
      "top": null,
      "visibility": null,
      "width": null
     }
    },
    "e324ebbd4af8466b91607029d23261ef": {
     "model_module": "@jupyter-widgets/base",
     "model_module_version": "1.2.0",
     "model_name": "LayoutModel",
     "state": {
      "_model_module": "@jupyter-widgets/base",
      "_model_module_version": "1.2.0",
      "_model_name": "LayoutModel",
      "_view_count": null,
      "_view_module": "@jupyter-widgets/base",
      "_view_module_version": "1.2.0",
      "_view_name": "LayoutView",
      "align_content": null,
      "align_items": null,
      "align_self": null,
      "border": null,
      "bottom": null,
      "display": null,
      "flex": null,
      "flex_flow": null,
      "grid_area": null,
      "grid_auto_columns": null,
      "grid_auto_flow": null,
      "grid_auto_rows": null,
      "grid_column": null,
      "grid_gap": null,
      "grid_row": null,
      "grid_template_areas": null,
      "grid_template_columns": null,
      "grid_template_rows": null,
      "height": null,
      "justify_content": null,
      "justify_items": null,
      "left": null,
      "margin": null,
      "max_height": null,
      "max_width": null,
      "min_height": null,
      "min_width": null,
      "object_fit": null,
      "object_position": null,
      "order": null,
      "overflow": null,
      "overflow_x": null,
      "overflow_y": null,
      "padding": null,
      "right": null,
      "top": null,
      "visibility": null,
      "width": null
     }
    },
    "e38a733da0744c03b3063f43e657a5eb": {
     "model_module": "@jupyter-widgets/controls",
     "model_module_version": "1.5.0",
     "model_name": "FloatProgressModel",
     "state": {
      "_dom_classes": [],
      "_model_module": "@jupyter-widgets/controls",
      "_model_module_version": "1.5.0",
      "_model_name": "FloatProgressModel",
      "_view_count": null,
      "_view_module": "@jupyter-widgets/controls",
      "_view_module_version": "1.5.0",
      "_view_name": "ProgressView",
      "bar_style": "success",
      "description": "",
      "description_tooltip": null,
      "layout": "IPY_MODEL_8159be4faf044cf9900a3399c27d9a15",
      "max": 1045,
      "min": 0,
      "orientation": "horizontal",
      "style": "IPY_MODEL_d210579ac6ea449198aefde304e3a897",
      "value": 1045
     }
    },
    "e4953858ffe949bc91260da9fb65a16e": {
     "model_module": "@jupyter-widgets/base",
     "model_module_version": "1.2.0",
     "model_name": "LayoutModel",
     "state": {
      "_model_module": "@jupyter-widgets/base",
      "_model_module_version": "1.2.0",
      "_model_name": "LayoutModel",
      "_view_count": null,
      "_view_module": "@jupyter-widgets/base",
      "_view_module_version": "1.2.0",
      "_view_name": "LayoutView",
      "align_content": null,
      "align_items": null,
      "align_self": null,
      "border": null,
      "bottom": null,
      "display": null,
      "flex": null,
      "flex_flow": null,
      "grid_area": null,
      "grid_auto_columns": null,
      "grid_auto_flow": null,
      "grid_auto_rows": null,
      "grid_column": null,
      "grid_gap": null,
      "grid_row": null,
      "grid_template_areas": null,
      "grid_template_columns": null,
      "grid_template_rows": null,
      "height": null,
      "justify_content": null,
      "justify_items": null,
      "left": null,
      "margin": null,
      "max_height": null,
      "max_width": null,
      "min_height": null,
      "min_width": null,
      "object_fit": null,
      "object_position": null,
      "order": null,
      "overflow": null,
      "overflow_x": null,
      "overflow_y": null,
      "padding": null,
      "right": null,
      "top": null,
      "visibility": null,
      "width": null
     }
    },
    "eba0df23aa584bccab2c5b1aec471d22": {
     "model_module": "@jupyter-widgets/controls",
     "model_module_version": "1.5.0",
     "model_name": "HBoxModel",
     "state": {
      "_dom_classes": [],
      "_model_module": "@jupyter-widgets/controls",
      "_model_module_version": "1.5.0",
      "_model_name": "HBoxModel",
      "_view_count": null,
      "_view_module": "@jupyter-widgets/controls",
      "_view_module_version": "1.5.0",
      "_view_name": "HBoxView",
      "box_style": "",
      "children": [
       "IPY_MODEL_79bd87d5dc054fc69ad13afcbf4ddada",
       "IPY_MODEL_da01a348c058439fa16496be8552b880",
       "IPY_MODEL_bbf7119ca71d4edbab6d22deb8ef42db"
      ],
      "layout": "IPY_MODEL_23c95b409b5f496385445e9d7972b114"
     }
    },
    "ec030f2f0cca436ab71b74f9536d720c": {
     "model_module": "@jupyter-widgets/controls",
     "model_module_version": "1.5.0",
     "model_name": "DescriptionStyleModel",
     "state": {
      "_model_module": "@jupyter-widgets/controls",
      "_model_module_version": "1.5.0",
      "_model_name": "DescriptionStyleModel",
      "_view_count": null,
      "_view_module": "@jupyter-widgets/base",
      "_view_module_version": "1.2.0",
      "_view_name": "StyleView",
      "description_width": ""
     }
    },
    "ec15b43bfe0f4622b3c8ec66b41bc368": {
     "model_module": "@jupyter-widgets/base",
     "model_module_version": "1.2.0",
     "model_name": "LayoutModel",
     "state": {
      "_model_module": "@jupyter-widgets/base",
      "_model_module_version": "1.2.0",
      "_model_name": "LayoutModel",
      "_view_count": null,
      "_view_module": "@jupyter-widgets/base",
      "_view_module_version": "1.2.0",
      "_view_name": "LayoutView",
      "align_content": null,
      "align_items": null,
      "align_self": null,
      "border": null,
      "bottom": null,
      "display": null,
      "flex": null,
      "flex_flow": null,
      "grid_area": null,
      "grid_auto_columns": null,
      "grid_auto_flow": null,
      "grid_auto_rows": null,
      "grid_column": null,
      "grid_gap": null,
      "grid_row": null,
      "grid_template_areas": null,
      "grid_template_columns": null,
      "grid_template_rows": null,
      "height": null,
      "justify_content": null,
      "justify_items": null,
      "left": null,
      "margin": null,
      "max_height": null,
      "max_width": null,
      "min_height": null,
      "min_width": null,
      "object_fit": null,
      "object_position": null,
      "order": null,
      "overflow": null,
      "overflow_x": null,
      "overflow_y": null,
      "padding": null,
      "right": null,
      "top": null,
      "visibility": null,
      "width": null
     }
    },
    "ee5a122d91af452a826cfb7b6aa64628": {
     "model_module": "@jupyter-widgets/controls",
     "model_module_version": "1.5.0",
     "model_name": "ProgressStyleModel",
     "state": {
      "_model_module": "@jupyter-widgets/controls",
      "_model_module_version": "1.5.0",
      "_model_name": "ProgressStyleModel",
      "_view_count": null,
      "_view_module": "@jupyter-widgets/base",
      "_view_module_version": "1.2.0",
      "_view_name": "StyleView",
      "bar_color": null,
      "description_width": ""
     }
    },
    "f0204afd650a4920ba6f3c42abed0280": {
     "model_module": "@jupyter-widgets/controls",
     "model_module_version": "1.5.0",
     "model_name": "ProgressStyleModel",
     "state": {
      "_model_module": "@jupyter-widgets/controls",
      "_model_module_version": "1.5.0",
      "_model_name": "ProgressStyleModel",
      "_view_count": null,
      "_view_module": "@jupyter-widgets/base",
      "_view_module_version": "1.2.0",
      "_view_name": "StyleView",
      "bar_color": null,
      "description_width": ""
     }
    },
    "f5057f0c9e44451f822516feac2e7367": {
     "model_module": "@jupyter-widgets/controls",
     "model_module_version": "1.5.0",
     "model_name": "FloatProgressModel",
     "state": {
      "_dom_classes": [],
      "_model_module": "@jupyter-widgets/controls",
      "_model_module_version": "1.5.0",
      "_model_name": "FloatProgressModel",
      "_view_count": null,
      "_view_module": "@jupyter-widgets/controls",
      "_view_module_version": "1.5.0",
      "_view_name": "ProgressView",
      "bar_style": "",
      "description": "",
      "description_tooltip": null,
      "layout": "IPY_MODEL_71d6d3d0345e4242a57986e003d574e6",
      "max": 1,
      "min": 0,
      "orientation": "horizontal",
      "style": "IPY_MODEL_ee5a122d91af452a826cfb7b6aa64628",
      "value": 1
     }
    },
    "f629971564704afd9a5daa0a2d4e493b": {
     "model_module": "@jupyter-widgets/controls",
     "model_module_version": "1.5.0",
     "model_name": "DescriptionStyleModel",
     "state": {
      "_model_module": "@jupyter-widgets/controls",
      "_model_module_version": "1.5.0",
      "_model_name": "DescriptionStyleModel",
      "_view_count": null,
      "_view_module": "@jupyter-widgets/base",
      "_view_module_version": "1.2.0",
      "_view_name": "StyleView",
      "description_width": ""
     }
    },
    "faa3ee74fe4943debe3e40c3195199dd": {
     "model_module": "@jupyter-widgets/base",
     "model_module_version": "1.2.0",
     "model_name": "LayoutModel",
     "state": {
      "_model_module": "@jupyter-widgets/base",
      "_model_module_version": "1.2.0",
      "_model_name": "LayoutModel",
      "_view_count": null,
      "_view_module": "@jupyter-widgets/base",
      "_view_module_version": "1.2.0",
      "_view_name": "LayoutView",
      "align_content": null,
      "align_items": null,
      "align_self": null,
      "border": null,
      "bottom": null,
      "display": null,
      "flex": null,
      "flex_flow": null,
      "grid_area": null,
      "grid_auto_columns": null,
      "grid_auto_flow": null,
      "grid_auto_rows": null,
      "grid_column": null,
      "grid_gap": null,
      "grid_row": null,
      "grid_template_areas": null,
      "grid_template_columns": null,
      "grid_template_rows": null,
      "height": null,
      "justify_content": null,
      "justify_items": null,
      "left": null,
      "margin": null,
      "max_height": null,
      "max_width": null,
      "min_height": null,
      "min_width": null,
      "object_fit": null,
      "object_position": null,
      "order": null,
      "overflow": null,
      "overflow_x": null,
      "overflow_y": null,
      "padding": null,
      "right": null,
      "top": null,
      "visibility": null,
      "width": null
     }
    },
    "fb03e7d4d59d41e5a2f6af577b2c9c4b": {
     "model_module": "@jupyter-widgets/controls",
     "model_module_version": "1.5.0",
     "model_name": "ProgressStyleModel",
     "state": {
      "_model_module": "@jupyter-widgets/controls",
      "_model_module_version": "1.5.0",
      "_model_name": "ProgressStyleModel",
      "_view_count": null,
      "_view_module": "@jupyter-widgets/base",
      "_view_module_version": "1.2.0",
      "_view_name": "StyleView",
      "bar_color": null,
      "description_width": ""
     }
    }
   }
  }
 },
 "nbformat": 4,
 "nbformat_minor": 5
}
